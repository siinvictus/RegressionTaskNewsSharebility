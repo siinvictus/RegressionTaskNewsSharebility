{
 "cells": [
  {
   "cell_type": "markdown",
   "metadata": {},
   "source": [
    "# If it doesn’t spread - it’s dead!\n",
    "\n",
    "\n",
    "# Authors\n",
    "- Silva Bashllari, S123456    \n",
    "- Alejandro Mesa Gómez, S306638    \n",
    "\n",
    "# Data and dependencies"
   ]
  },
  {
   "cell_type": "code",
   "execution_count": 1,
   "metadata": {
    "tags": []
   },
   "outputs": [],
   "source": [
    "%%bash\n",
    "\n",
    "if [ ! -d 'data/' ]; then\n",
    "    mkdir data\n",
    "fi\n",
    "\n",
    "if [ ! -f 'data/development.csv'  ] && [ ! -f 'data/evaluation.csv'  ]; then\n",
    "    # This are the original given files, but stored in a git repository to allow download automation\n",
    "    wget -nv https://raw.githubusercontent.com/cosmolejo/dataRepo/master/summer_project_dataset/development.csv\n",
    "    wget -nv https://raw.githubusercontent.com/cosmolejo/dataRepo/master/summer_project_dataset/evaluation.csv\n",
    "    mv -t data/ evaluation.csv development.csv\n",
    "fi\n",
    "\n",
    "pip -q install -r requirements.txt --user"
   ]
  },
  {
   "cell_type": "markdown",
   "metadata": {
    "id": "5srqsauG-Iba"
   },
   "source": [
    "# Libraries"
   ]
  },
  {
   "cell_type": "code",
   "execution_count": 2,
   "metadata": {
    "id": "Ga2-Eun4-LGh",
    "tags": []
   },
   "outputs": [],
   "source": [
    "import pandas as pd\n",
    "import numpy as np\n",
    "import matplotlib.pyplot as plt\n",
    "from sklearn.preprocessing import MinMaxScaler\n",
    "from sklearn.model_selection import train_test_split\n",
    "from sklearn.linear_model import LinearRegression\n",
    "from sklearn.metrics import mean_squared_error\n",
    "from sklearn.ensemble import RandomForestRegressor\n",
    "from sklearn.preprocessing import StandardScaler\n",
    "from sklearn.feature_selection import f_classif\n",
    "from sklearn.svm import SVR\n",
    "import torch\n",
    "import torch.nn as nn\n",
    "import torch.optim as optim\n",
    "from sklearn.preprocessing import StandardScaler\n",
    "import torch.nn.functional as F\n",
    "from sklearn.linear_model import Ridge\n",
    "from sklearn.linear_model import Lasso\n",
    "import sweetviz as sv\n",
    "import seaborn as sns\n",
    "\n",
    "import skorch\n",
    "from skorch import NeuralNetRegressor\n",
    "\n",
    "from sklearn.model_selection import RandomizedSearchCV\n",
    "from sklearn.model_selection import GridSearchCV\n",
    "from sklearn.metrics import make_scorer, mean_absolute_error, mean_squared_error\n",
    "pd.options.display.max_columns = 200"
   ]
  },
  {
   "cell_type": "code",
   "execution_count": 3,
   "metadata": {
    "id": "YmcJrHBO-bGN",
    "tags": []
   },
   "outputs": [],
   "source": [
    "df_all = pd.read_csv('data/development.csv')"
   ]
  },
  {
   "cell_type": "markdown",
   "metadata": {
    "id": "B1RFpa-n-buK",
    "tags": []
   },
   "source": [
    "# EDA"
   ]
  },
  {
   "cell_type": "code",
   "execution_count": 4,
   "metadata": {
    "colab": {
     "base_uri": "https://localhost:8080/",
     "height": 444
    },
    "executionInfo": {
     "elapsed": 64,
     "status": "ok",
     "timestamp": 1686061293771,
     "user": {
      "displayName": "Alejandro Mesa Gómez",
      "userId": "07331003800928436736"
     },
     "user_tz": -120
    },
    "id": "POA6InCh-hRV",
    "outputId": "3a55b142-a9c0-4512-f8c2-2bc22d2f81d7",
    "tags": []
   },
   "outputs": [
    {
     "data": {
      "text/html": [
       "<div>\n",
       "<style scoped>\n",
       "    .dataframe tbody tr th:only-of-type {\n",
       "        vertical-align: middle;\n",
       "    }\n",
       "\n",
       "    .dataframe tbody tr th {\n",
       "        vertical-align: top;\n",
       "    }\n",
       "\n",
       "    .dataframe thead th {\n",
       "        text-align: right;\n",
       "    }\n",
       "</style>\n",
       "<table border=\"1\" class=\"dataframe\">\n",
       "  <thead>\n",
       "    <tr style=\"text-align: right;\">\n",
       "      <th></th>\n",
       "      <th>id</th>\n",
       "      <th>url</th>\n",
       "      <th>timedelta</th>\n",
       "      <th>n_tokens_title</th>\n",
       "      <th>n_tokens_content</th>\n",
       "      <th>n_unique_tokens</th>\n",
       "      <th>n_non_stop_words</th>\n",
       "      <th>n_non_stop_unique_tokens</th>\n",
       "      <th>num_hrefs</th>\n",
       "      <th>num_self_hrefs</th>\n",
       "      <th>num_imgs</th>\n",
       "      <th>num_videos</th>\n",
       "      <th>average_token_length</th>\n",
       "      <th>num_keywords</th>\n",
       "      <th>kw_min_min</th>\n",
       "      <th>kw_max_min</th>\n",
       "      <th>kw_avg_min</th>\n",
       "      <th>kw_min_max</th>\n",
       "      <th>kw_max_max</th>\n",
       "      <th>kw_avg_max</th>\n",
       "      <th>kw_min_avg</th>\n",
       "      <th>kw_max_avg</th>\n",
       "      <th>kw_avg_avg</th>\n",
       "      <th>self_reference_min_shares</th>\n",
       "      <th>self_reference_max_shares</th>\n",
       "      <th>self_reference_avg_sharess</th>\n",
       "      <th>LDA_00</th>\n",
       "      <th>LDA_01</th>\n",
       "      <th>LDA_02</th>\n",
       "      <th>LDA_03</th>\n",
       "      <th>LDA_04</th>\n",
       "      <th>global_subjectivity</th>\n",
       "      <th>global_sentiment_polarity</th>\n",
       "      <th>global_rate_positive_words</th>\n",
       "      <th>global_rate_negative_words</th>\n",
       "      <th>rate_positive_words</th>\n",
       "      <th>rate_negative_words</th>\n",
       "      <th>avg_positive_polarity</th>\n",
       "      <th>min_positive_polarity</th>\n",
       "      <th>max_positive_polarity</th>\n",
       "      <th>avg_negative_polarity</th>\n",
       "      <th>min_negative_polarity</th>\n",
       "      <th>max_negative_polarity</th>\n",
       "      <th>title_subjectivity</th>\n",
       "      <th>title_sentiment_polarity</th>\n",
       "      <th>abs_title_subjectivity</th>\n",
       "      <th>abs_title_sentiment_polarity</th>\n",
       "      <th>shares</th>\n",
       "      <th>data_channel</th>\n",
       "      <th>weekday</th>\n",
       "    </tr>\n",
       "  </thead>\n",
       "  <tbody>\n",
       "    <tr>\n",
       "      <th>0</th>\n",
       "      <td>0</td>\n",
       "      <td>http://mashable.com/2014/09/08/safest-cabbies-...</td>\n",
       "      <td>121.0</td>\n",
       "      <td>12.0</td>\n",
       "      <td>1015.0</td>\n",
       "      <td>0.422018</td>\n",
       "      <td>1.0</td>\n",
       "      <td>0.545031</td>\n",
       "      <td>10.0</td>\n",
       "      <td>6.0</td>\n",
       "      <td>33.0</td>\n",
       "      <td>1.0</td>\n",
       "      <td>4.656158</td>\n",
       "      <td>4.0</td>\n",
       "      <td>-1.0</td>\n",
       "      <td>263.0</td>\n",
       "      <td>110.500000</td>\n",
       "      <td>6500.0</td>\n",
       "      <td>843300.0</td>\n",
       "      <td>398350.000000</td>\n",
       "      <td>1809.075</td>\n",
       "      <td>3483.806797</td>\n",
       "      <td>2729.047648</td>\n",
       "      <td>1100.0</td>\n",
       "      <td>22100.0</td>\n",
       "      <td>6475.0</td>\n",
       "      <td>0.331582</td>\n",
       "      <td>0.050050</td>\n",
       "      <td>0.050035</td>\n",
       "      <td>0.050000</td>\n",
       "      <td>0.518333</td>\n",
       "      <td>0.471175</td>\n",
       "      <td>0.159889</td>\n",
       "      <td>0.041379</td>\n",
       "      <td>0.008867</td>\n",
       "      <td>0.823529</td>\n",
       "      <td>0.176471</td>\n",
       "      <td>0.333534</td>\n",
       "      <td>0.100000</td>\n",
       "      <td>0.8</td>\n",
       "      <td>-0.160714</td>\n",
       "      <td>-0.50</td>\n",
       "      <td>-0.071429</td>\n",
       "      <td>0.0</td>\n",
       "      <td>0.00</td>\n",
       "      <td>0.5</td>\n",
       "      <td>0.00</td>\n",
       "      <td>2900</td>\n",
       "      <td>bus</td>\n",
       "      <td>tuesday</td>\n",
       "    </tr>\n",
       "    <tr>\n",
       "      <th>1</th>\n",
       "      <td>1</td>\n",
       "      <td>http://mashable.com/2013/07/25/3d-printed-rifle/</td>\n",
       "      <td>532.0</td>\n",
       "      <td>9.0</td>\n",
       "      <td>503.0</td>\n",
       "      <td>0.569697</td>\n",
       "      <td>1.0</td>\n",
       "      <td>0.737542</td>\n",
       "      <td>9.0</td>\n",
       "      <td>0.0</td>\n",
       "      <td>NaN</td>\n",
       "      <td>1.0</td>\n",
       "      <td>4.576541</td>\n",
       "      <td>10.0</td>\n",
       "      <td>4.0</td>\n",
       "      <td>3200.0</td>\n",
       "      <td>524.750000</td>\n",
       "      <td>0.0</td>\n",
       "      <td>843300.0</td>\n",
       "      <td>117960.000000</td>\n",
       "      <td>0.000</td>\n",
       "      <td>4228.114286</td>\n",
       "      <td>2387.526307</td>\n",
       "      <td>0.0</td>\n",
       "      <td>0.0</td>\n",
       "      <td>0.0</td>\n",
       "      <td>0.020007</td>\n",
       "      <td>0.020008</td>\n",
       "      <td>0.325602</td>\n",
       "      <td>0.020004</td>\n",
       "      <td>0.614379</td>\n",
       "      <td>0.477791</td>\n",
       "      <td>0.123520</td>\n",
       "      <td>0.033797</td>\n",
       "      <td>0.019881</td>\n",
       "      <td>0.629630</td>\n",
       "      <td>0.370370</td>\n",
       "      <td>0.419786</td>\n",
       "      <td>0.136364</td>\n",
       "      <td>1.0</td>\n",
       "      <td>-0.157500</td>\n",
       "      <td>-0.25</td>\n",
       "      <td>-0.100000</td>\n",
       "      <td>0.0</td>\n",
       "      <td>0.00</td>\n",
       "      <td>0.5</td>\n",
       "      <td>0.00</td>\n",
       "      <td>1300</td>\n",
       "      <td>tech</td>\n",
       "      <td>thursday</td>\n",
       "    </tr>\n",
       "    <tr>\n",
       "      <th>2</th>\n",
       "      <td>2</td>\n",
       "      <td>http://mashable.com/2013/10/30/digital-dinosau...</td>\n",
       "      <td>435.0</td>\n",
       "      <td>9.0</td>\n",
       "      <td>232.0</td>\n",
       "      <td>0.646018</td>\n",
       "      <td>1.0</td>\n",
       "      <td>0.748428</td>\n",
       "      <td>12.0</td>\n",
       "      <td>3.0</td>\n",
       "      <td>4.0</td>\n",
       "      <td>1.0</td>\n",
       "      <td>4.935345</td>\n",
       "      <td>6.0</td>\n",
       "      <td>4.0</td>\n",
       "      <td>939.0</td>\n",
       "      <td>198.666667</td>\n",
       "      <td>970.0</td>\n",
       "      <td>843300.0</td>\n",
       "      <td>573878.333333</td>\n",
       "      <td>954.500</td>\n",
       "      <td>6192.239067</td>\n",
       "      <td>4385.022237</td>\n",
       "      <td>1400.0</td>\n",
       "      <td>58800.0</td>\n",
       "      <td>30100.0</td>\n",
       "      <td>0.033334</td>\n",
       "      <td>0.033697</td>\n",
       "      <td>0.033333</td>\n",
       "      <td>0.866302</td>\n",
       "      <td>0.033333</td>\n",
       "      <td>0.522234</td>\n",
       "      <td>-0.163235</td>\n",
       "      <td>0.017241</td>\n",
       "      <td>0.043103</td>\n",
       "      <td>0.285714</td>\n",
       "      <td>0.714286</td>\n",
       "      <td>0.468750</td>\n",
       "      <td>0.375000</td>\n",
       "      <td>0.5</td>\n",
       "      <td>-0.427500</td>\n",
       "      <td>-1.00</td>\n",
       "      <td>-0.187500</td>\n",
       "      <td>0.0</td>\n",
       "      <td>0.00</td>\n",
       "      <td>0.5</td>\n",
       "      <td>0.00</td>\n",
       "      <td>17700</td>\n",
       "      <td>lifestyle</td>\n",
       "      <td>wednesday</td>\n",
       "    </tr>\n",
       "    <tr>\n",
       "      <th>3</th>\n",
       "      <td>3</td>\n",
       "      <td>http://mashable.com/2014/08/27/homer-simpson-i...</td>\n",
       "      <td>134.0</td>\n",
       "      <td>12.0</td>\n",
       "      <td>171.0</td>\n",
       "      <td>0.722892</td>\n",
       "      <td>1.0</td>\n",
       "      <td>0.867925</td>\n",
       "      <td>9.0</td>\n",
       "      <td>5.0</td>\n",
       "      <td>0.0</td>\n",
       "      <td>NaN</td>\n",
       "      <td>4.970760</td>\n",
       "      <td>6.0</td>\n",
       "      <td>-1.0</td>\n",
       "      <td>2100.0</td>\n",
       "      <td>444.166667</td>\n",
       "      <td>5600.0</td>\n",
       "      <td>843300.0</td>\n",
       "      <td>311033.333333</td>\n",
       "      <td>2076.520</td>\n",
       "      <td>4529.427500</td>\n",
       "      <td>3269.856640</td>\n",
       "      <td>974.0</td>\n",
       "      <td>5600.0</td>\n",
       "      <td>2574.8</td>\n",
       "      <td>0.700107</td>\n",
       "      <td>0.033335</td>\n",
       "      <td>0.033334</td>\n",
       "      <td>0.199402</td>\n",
       "      <td>0.033822</td>\n",
       "      <td>0.405128</td>\n",
       "      <td>-0.006410</td>\n",
       "      <td>0.011696</td>\n",
       "      <td>0.029240</td>\n",
       "      <td>0.285714</td>\n",
       "      <td>0.714286</td>\n",
       "      <td>0.500000</td>\n",
       "      <td>0.500000</td>\n",
       "      <td>0.5</td>\n",
       "      <td>-0.216667</td>\n",
       "      <td>-0.25</td>\n",
       "      <td>-0.166667</td>\n",
       "      <td>0.4</td>\n",
       "      <td>-0.25</td>\n",
       "      <td>0.1</td>\n",
       "      <td>0.25</td>\n",
       "      <td>1500</td>\n",
       "      <td>bus</td>\n",
       "      <td>wednesday</td>\n",
       "    </tr>\n",
       "    <tr>\n",
       "      <th>4</th>\n",
       "      <td>4</td>\n",
       "      <td>http://mashable.com/2013/01/10/creepy-robotic-...</td>\n",
       "      <td>728.0</td>\n",
       "      <td>11.0</td>\n",
       "      <td>286.0</td>\n",
       "      <td>0.652632</td>\n",
       "      <td>1.0</td>\n",
       "      <td>0.800000</td>\n",
       "      <td>5.0</td>\n",
       "      <td>2.0</td>\n",
       "      <td>NaN</td>\n",
       "      <td>0.0</td>\n",
       "      <td>5.006993</td>\n",
       "      <td>NaN</td>\n",
       "      <td>217.0</td>\n",
       "      <td>552.0</td>\n",
       "      <td>356.200000</td>\n",
       "      <td>0.0</td>\n",
       "      <td>28000.0</td>\n",
       "      <td>6830.125000</td>\n",
       "      <td>0.000</td>\n",
       "      <td>2240.536313</td>\n",
       "      <td>976.913444</td>\n",
       "      <td>822.0</td>\n",
       "      <td>822.0</td>\n",
       "      <td>822.0</td>\n",
       "      <td>0.214708</td>\n",
       "      <td>0.025062</td>\n",
       "      <td>0.025016</td>\n",
       "      <td>0.025187</td>\n",
       "      <td>0.710028</td>\n",
       "      <td>0.418036</td>\n",
       "      <td>0.060089</td>\n",
       "      <td>0.034965</td>\n",
       "      <td>0.024476</td>\n",
       "      <td>0.588235</td>\n",
       "      <td>0.411765</td>\n",
       "      <td>0.303429</td>\n",
       "      <td>0.100000</td>\n",
       "      <td>0.6</td>\n",
       "      <td>-0.251786</td>\n",
       "      <td>-0.50</td>\n",
       "      <td>-0.100000</td>\n",
       "      <td>0.2</td>\n",
       "      <td>-0.10</td>\n",
       "      <td>0.3</td>\n",
       "      <td>0.10</td>\n",
       "      <td>1400</td>\n",
       "      <td>tech</td>\n",
       "      <td>thursday</td>\n",
       "    </tr>\n",
       "  </tbody>\n",
       "</table>\n",
       "</div>"
      ],
      "text/plain": [
       "   id                                                url  timedelta   \n",
       "0   0  http://mashable.com/2014/09/08/safest-cabbies-...      121.0  \\\n",
       "1   1   http://mashable.com/2013/07/25/3d-printed-rifle/      532.0   \n",
       "2   2  http://mashable.com/2013/10/30/digital-dinosau...      435.0   \n",
       "3   3  http://mashable.com/2014/08/27/homer-simpson-i...      134.0   \n",
       "4   4  http://mashable.com/2013/01/10/creepy-robotic-...      728.0   \n",
       "\n",
       "   n_tokens_title  n_tokens_content  n_unique_tokens  n_non_stop_words   \n",
       "0            12.0            1015.0         0.422018               1.0  \\\n",
       "1             9.0             503.0         0.569697               1.0   \n",
       "2             9.0             232.0         0.646018               1.0   \n",
       "3            12.0             171.0         0.722892               1.0   \n",
       "4            11.0             286.0         0.652632               1.0   \n",
       "\n",
       "   n_non_stop_unique_tokens  num_hrefs  num_self_hrefs  num_imgs  num_videos   \n",
       "0                  0.545031       10.0             6.0      33.0         1.0  \\\n",
       "1                  0.737542        9.0             0.0       NaN         1.0   \n",
       "2                  0.748428       12.0             3.0       4.0         1.0   \n",
       "3                  0.867925        9.0             5.0       0.0         NaN   \n",
       "4                  0.800000        5.0             2.0       NaN         0.0   \n",
       "\n",
       "   average_token_length  num_keywords  kw_min_min  kw_max_min  kw_avg_min   \n",
       "0              4.656158           4.0        -1.0       263.0  110.500000  \\\n",
       "1              4.576541          10.0         4.0      3200.0  524.750000   \n",
       "2              4.935345           6.0         4.0       939.0  198.666667   \n",
       "3              4.970760           6.0        -1.0      2100.0  444.166667   \n",
       "4              5.006993           NaN       217.0       552.0  356.200000   \n",
       "\n",
       "   kw_min_max  kw_max_max     kw_avg_max  kw_min_avg   kw_max_avg   \n",
       "0      6500.0    843300.0  398350.000000    1809.075  3483.806797  \\\n",
       "1         0.0    843300.0  117960.000000       0.000  4228.114286   \n",
       "2       970.0    843300.0  573878.333333     954.500  6192.239067   \n",
       "3      5600.0    843300.0  311033.333333    2076.520  4529.427500   \n",
       "4         0.0     28000.0    6830.125000       0.000  2240.536313   \n",
       "\n",
       "    kw_avg_avg  self_reference_min_shares  self_reference_max_shares   \n",
       "0  2729.047648                     1100.0                    22100.0  \\\n",
       "1  2387.526307                        0.0                        0.0   \n",
       "2  4385.022237                     1400.0                    58800.0   \n",
       "3  3269.856640                      974.0                     5600.0   \n",
       "4   976.913444                      822.0                      822.0   \n",
       "\n",
       "   self_reference_avg_sharess    LDA_00    LDA_01    LDA_02    LDA_03   \n",
       "0                      6475.0  0.331582  0.050050  0.050035  0.050000  \\\n",
       "1                         0.0  0.020007  0.020008  0.325602  0.020004   \n",
       "2                     30100.0  0.033334  0.033697  0.033333  0.866302   \n",
       "3                      2574.8  0.700107  0.033335  0.033334  0.199402   \n",
       "4                       822.0  0.214708  0.025062  0.025016  0.025187   \n",
       "\n",
       "     LDA_04  global_subjectivity  global_sentiment_polarity   \n",
       "0  0.518333             0.471175                   0.159889  \\\n",
       "1  0.614379             0.477791                   0.123520   \n",
       "2  0.033333             0.522234                  -0.163235   \n",
       "3  0.033822             0.405128                  -0.006410   \n",
       "4  0.710028             0.418036                   0.060089   \n",
       "\n",
       "   global_rate_positive_words  global_rate_negative_words   \n",
       "0                    0.041379                    0.008867  \\\n",
       "1                    0.033797                    0.019881   \n",
       "2                    0.017241                    0.043103   \n",
       "3                    0.011696                    0.029240   \n",
       "4                    0.034965                    0.024476   \n",
       "\n",
       "   rate_positive_words  rate_negative_words  avg_positive_polarity   \n",
       "0             0.823529             0.176471               0.333534  \\\n",
       "1             0.629630             0.370370               0.419786   \n",
       "2             0.285714             0.714286               0.468750   \n",
       "3             0.285714             0.714286               0.500000   \n",
       "4             0.588235             0.411765               0.303429   \n",
       "\n",
       "   min_positive_polarity  max_positive_polarity  avg_negative_polarity   \n",
       "0               0.100000                    0.8              -0.160714  \\\n",
       "1               0.136364                    1.0              -0.157500   \n",
       "2               0.375000                    0.5              -0.427500   \n",
       "3               0.500000                    0.5              -0.216667   \n",
       "4               0.100000                    0.6              -0.251786   \n",
       "\n",
       "   min_negative_polarity  max_negative_polarity  title_subjectivity   \n",
       "0                  -0.50              -0.071429                 0.0  \\\n",
       "1                  -0.25              -0.100000                 0.0   \n",
       "2                  -1.00              -0.187500                 0.0   \n",
       "3                  -0.25              -0.166667                 0.4   \n",
       "4                  -0.50              -0.100000                 0.2   \n",
       "\n",
       "   title_sentiment_polarity  abs_title_subjectivity   \n",
       "0                      0.00                     0.5  \\\n",
       "1                      0.00                     0.5   \n",
       "2                      0.00                     0.5   \n",
       "3                     -0.25                     0.1   \n",
       "4                     -0.10                     0.3   \n",
       "\n",
       "   abs_title_sentiment_polarity  shares data_channel    weekday  \n",
       "0                          0.00    2900          bus    tuesday  \n",
       "1                          0.00    1300         tech   thursday  \n",
       "2                          0.00   17700    lifestyle  wednesday  \n",
       "3                          0.25    1500          bus  wednesday  \n",
       "4                          0.10    1400         tech   thursday  "
      ]
     },
     "execution_count": 4,
     "metadata": {},
     "output_type": "execute_result"
    }
   ],
   "source": [
    "df_all.head()"
   ]
  },
  {
   "cell_type": "code",
   "execution_count": 5,
   "metadata": {
    "colab": {
     "base_uri": "https://localhost:8080/"
    },
    "executionInfo": {
     "elapsed": 62,
     "status": "ok",
     "timestamp": 1686061293772,
     "user": {
      "displayName": "Alejandro Mesa Gómez",
      "userId": "07331003800928436736"
     },
     "user_tz": -120
    },
    "id": "BCdRK6bW-kK-",
    "outputId": "13db9079-45e9-433d-e8de-3a2c9a784adf",
    "tags": []
   },
   "outputs": [
    {
     "name": "stdout",
     "output_type": "stream",
     "text": [
      "10001    http://mashable.com/2013/04/30/worlds-first-we...\n",
      "10002     http://mashable.com/2013/09/09/icahn-dell-fight/\n",
      "10003    http://mashable.com/2013/03/12/the-bachelor-so...\n",
      "10004    http://mashable.com/2013/06/05/ticket-to-ride-...\n",
      "10005    http://mashable.com/2014/07/15/fords-alan-mula...\n",
      "                               ...                        \n",
      "10497    http://mashable.com/2014/01/31/twitter-ibm-pat...\n",
      "10498    http://mashable.com/2014/05/27/toshiba-cheap-w...\n",
      "10499    http://mashable.com/2014/08/19/mara-wilson-rob...\n",
      "10500       http://mashable.com/2013/11/14/snapchat-worth/\n",
      "10501    http://mashable.com/2013/01/14/lance-armstrong...\n",
      "Name: url, Length: 501, dtype: object\n"
     ]
    }
   ],
   "source": [
    "# all the articles seem to be from \"mashable.com\" thus the prediction of the number of shares is not generalizable for other sites.\n",
    "print(df_all.loc[10001:10501, 'url'])"
   ]
  },
  {
   "cell_type": "code",
   "execution_count": 6,
   "metadata": {
    "colab": {
     "base_uri": "https://localhost:8080/",
     "height": 35
    },
    "executionInfo": {
     "elapsed": 57,
     "status": "ok",
     "timestamp": 1686061293773,
     "user": {
      "displayName": "Alejandro Mesa Gómez",
      "userId": "07331003800928436736"
     },
     "user_tz": -120
    },
    "id": "QumT572YApoE",
    "outputId": "6fe7cb27-3134-4d82-8906-21e8f0257dd3",
    "tags": []
   },
   "outputs": [
    {
     "data": {
      "text/plain": [
       "'All articles from mashable'"
      ]
     },
     "execution_count": 6,
     "metadata": {},
     "output_type": "execute_result"
    }
   ],
   "source": [
    "num = len(list(filter(lambda x: 'http://mashable.com/' in x,df_all.url)))\n",
    "\"All articles from mashable\" if num == df_all.shape[0] else f\"There're {df_all.shape[0]- num} articles from other sources\""
   ]
  },
  {
   "cell_type": "code",
   "execution_count": 7,
   "metadata": {
    "colab": {
     "base_uri": "https://localhost:8080/",
     "height": 365
    },
    "executionInfo": {
     "elapsed": 53,
     "status": "ok",
     "timestamp": 1686061293775,
     "user": {
      "displayName": "Alejandro Mesa Gómez",
      "userId": "07331003800928436736"
     },
     "user_tz": -120
    },
    "id": "0WPQLlKT-7v_",
    "outputId": "1f7085e4-325e-4875-a3ef-fbebae3907ab",
    "tags": []
   },
   "outputs": [
    {
     "data": {
      "text/html": [
       "<div>\n",
       "<style scoped>\n",
       "    .dataframe tbody tr th:only-of-type {\n",
       "        vertical-align: middle;\n",
       "    }\n",
       "\n",
       "    .dataframe tbody tr th {\n",
       "        vertical-align: top;\n",
       "    }\n",
       "\n",
       "    .dataframe thead th {\n",
       "        text-align: right;\n",
       "    }\n",
       "</style>\n",
       "<table border=\"1\" class=\"dataframe\">\n",
       "  <thead>\n",
       "    <tr style=\"text-align: right;\">\n",
       "      <th></th>\n",
       "      <th>id</th>\n",
       "      <th>timedelta</th>\n",
       "      <th>n_tokens_title</th>\n",
       "      <th>n_tokens_content</th>\n",
       "      <th>n_unique_tokens</th>\n",
       "      <th>n_non_stop_words</th>\n",
       "      <th>n_non_stop_unique_tokens</th>\n",
       "      <th>num_hrefs</th>\n",
       "      <th>num_self_hrefs</th>\n",
       "      <th>num_imgs</th>\n",
       "      <th>num_videos</th>\n",
       "      <th>average_token_length</th>\n",
       "      <th>num_keywords</th>\n",
       "      <th>kw_min_min</th>\n",
       "      <th>kw_max_min</th>\n",
       "      <th>kw_avg_min</th>\n",
       "      <th>kw_min_max</th>\n",
       "      <th>kw_max_max</th>\n",
       "      <th>kw_avg_max</th>\n",
       "      <th>kw_min_avg</th>\n",
       "      <th>kw_max_avg</th>\n",
       "      <th>kw_avg_avg</th>\n",
       "      <th>self_reference_min_shares</th>\n",
       "      <th>self_reference_max_shares</th>\n",
       "      <th>self_reference_avg_sharess</th>\n",
       "      <th>LDA_00</th>\n",
       "      <th>LDA_01</th>\n",
       "      <th>LDA_02</th>\n",
       "      <th>LDA_03</th>\n",
       "      <th>LDA_04</th>\n",
       "      <th>global_subjectivity</th>\n",
       "      <th>global_sentiment_polarity</th>\n",
       "      <th>global_rate_positive_words</th>\n",
       "      <th>global_rate_negative_words</th>\n",
       "      <th>rate_positive_words</th>\n",
       "      <th>rate_negative_words</th>\n",
       "      <th>avg_positive_polarity</th>\n",
       "      <th>min_positive_polarity</th>\n",
       "      <th>max_positive_polarity</th>\n",
       "      <th>avg_negative_polarity</th>\n",
       "      <th>min_negative_polarity</th>\n",
       "      <th>max_negative_polarity</th>\n",
       "      <th>title_subjectivity</th>\n",
       "      <th>title_sentiment_polarity</th>\n",
       "      <th>abs_title_subjectivity</th>\n",
       "      <th>abs_title_sentiment_polarity</th>\n",
       "      <th>shares</th>\n",
       "    </tr>\n",
       "  </thead>\n",
       "  <tbody>\n",
       "    <tr>\n",
       "      <th>count</th>\n",
       "      <td>31715.00000</td>\n",
       "      <td>31715.000000</td>\n",
       "      <td>31715.000000</td>\n",
       "      <td>31715.000000</td>\n",
       "      <td>31715.000000</td>\n",
       "      <td>31715.000000</td>\n",
       "      <td>31715.000000</td>\n",
       "      <td>31715.000000</td>\n",
       "      <td>31715.000000</td>\n",
       "      <td>25340.000000</td>\n",
       "      <td>25384.000000</td>\n",
       "      <td>31715.000000</td>\n",
       "      <td>25397.000000</td>\n",
       "      <td>31715.000000</td>\n",
       "      <td>31715.000000</td>\n",
       "      <td>31715.000000</td>\n",
       "      <td>31715.000000</td>\n",
       "      <td>31715.000000</td>\n",
       "      <td>31715.000000</td>\n",
       "      <td>31715.000000</td>\n",
       "      <td>31715.000000</td>\n",
       "      <td>31715.000000</td>\n",
       "      <td>31715.000000</td>\n",
       "      <td>31715.000000</td>\n",
       "      <td>31715.000000</td>\n",
       "      <td>31715.000000</td>\n",
       "      <td>31715.000000</td>\n",
       "      <td>31715.000000</td>\n",
       "      <td>31715.000000</td>\n",
       "      <td>31715.000000</td>\n",
       "      <td>31715.000000</td>\n",
       "      <td>31715.000000</td>\n",
       "      <td>31715.000000</td>\n",
       "      <td>31715.000000</td>\n",
       "      <td>31715.000000</td>\n",
       "      <td>31715.000000</td>\n",
       "      <td>31715.000000</td>\n",
       "      <td>31715.000000</td>\n",
       "      <td>31715.000000</td>\n",
       "      <td>31715.000000</td>\n",
       "      <td>31715.000000</td>\n",
       "      <td>31715.000000</td>\n",
       "      <td>31715.000000</td>\n",
       "      <td>31715.000000</td>\n",
       "      <td>31715.000000</td>\n",
       "      <td>31715.000000</td>\n",
       "      <td>31715.000000</td>\n",
       "    </tr>\n",
       "    <tr>\n",
       "      <th>mean</th>\n",
       "      <td>15857.00000</td>\n",
       "      <td>354.058206</td>\n",
       "      <td>10.390730</td>\n",
       "      <td>544.048179</td>\n",
       "      <td>0.530754</td>\n",
       "      <td>0.970140</td>\n",
       "      <td>0.672973</td>\n",
       "      <td>10.865143</td>\n",
       "      <td>3.274381</td>\n",
       "      <td>4.533899</td>\n",
       "      <td>1.259100</td>\n",
       "      <td>4.547096</td>\n",
       "      <td>7.220538</td>\n",
       "      <td>26.094624</td>\n",
       "      <td>1146.761240</td>\n",
       "      <td>310.665636</td>\n",
       "      <td>13537.952956</td>\n",
       "      <td>752156.547375</td>\n",
       "      <td>259272.219208</td>\n",
       "      <td>1115.519577</td>\n",
       "      <td>5645.840622</td>\n",
       "      <td>3131.505048</td>\n",
       "      <td>4026.917646</td>\n",
       "      <td>10300.539485</td>\n",
       "      <td>6436.010296</td>\n",
       "      <td>0.184310</td>\n",
       "      <td>0.142384</td>\n",
       "      <td>0.216083</td>\n",
       "      <td>0.223065</td>\n",
       "      <td>0.234158</td>\n",
       "      <td>0.443213</td>\n",
       "      <td>0.119204</td>\n",
       "      <td>0.039594</td>\n",
       "      <td>0.016627</td>\n",
       "      <td>0.681880</td>\n",
       "      <td>0.288134</td>\n",
       "      <td>0.353661</td>\n",
       "      <td>0.095466</td>\n",
       "      <td>0.756271</td>\n",
       "      <td>-0.259198</td>\n",
       "      <td>-0.521164</td>\n",
       "      <td>-0.107397</td>\n",
       "      <td>0.281647</td>\n",
       "      <td>0.069909</td>\n",
       "      <td>0.341805</td>\n",
       "      <td>0.155974</td>\n",
       "      <td>3407.068863</td>\n",
       "    </tr>\n",
       "    <tr>\n",
       "      <th>std</th>\n",
       "      <td>9155.47623</td>\n",
       "      <td>214.314223</td>\n",
       "      <td>2.115643</td>\n",
       "      <td>467.730448</td>\n",
       "      <td>0.137106</td>\n",
       "      <td>0.170203</td>\n",
       "      <td>0.154128</td>\n",
       "      <td>11.295386</td>\n",
       "      <td>3.822364</td>\n",
       "      <td>8.355645</td>\n",
       "      <td>4.176884</td>\n",
       "      <td>0.845050</td>\n",
       "      <td>1.904411</td>\n",
       "      <td>69.607933</td>\n",
       "      <td>3949.597979</td>\n",
       "      <td>621.518386</td>\n",
       "      <td>57773.417428</td>\n",
       "      <td>214790.290225</td>\n",
       "      <td>135230.002910</td>\n",
       "      <td>1136.724206</td>\n",
       "      <td>6173.405093</td>\n",
       "      <td>1329.314912</td>\n",
       "      <td>19928.490868</td>\n",
       "      <td>40806.007028</td>\n",
       "      <td>24493.111862</td>\n",
       "      <td>0.262799</td>\n",
       "      <td>0.221233</td>\n",
       "      <td>0.282044</td>\n",
       "      <td>0.294870</td>\n",
       "      <td>0.289054</td>\n",
       "      <td>0.116933</td>\n",
       "      <td>0.097157</td>\n",
       "      <td>0.017430</td>\n",
       "      <td>0.010892</td>\n",
       "      <td>0.190380</td>\n",
       "      <td>0.156324</td>\n",
       "      <td>0.104526</td>\n",
       "      <td>0.071362</td>\n",
       "      <td>0.247798</td>\n",
       "      <td>0.127508</td>\n",
       "      <td>0.290352</td>\n",
       "      <td>0.094932</td>\n",
       "      <td>0.323834</td>\n",
       "      <td>0.265514</td>\n",
       "      <td>0.188980</td>\n",
       "      <td>0.225957</td>\n",
       "      <td>11899.460219</td>\n",
       "    </tr>\n",
       "    <tr>\n",
       "      <th>min</th>\n",
       "      <td>0.00000</td>\n",
       "      <td>8.000000</td>\n",
       "      <td>2.000000</td>\n",
       "      <td>0.000000</td>\n",
       "      <td>0.000000</td>\n",
       "      <td>0.000000</td>\n",
       "      <td>0.000000</td>\n",
       "      <td>0.000000</td>\n",
       "      <td>0.000000</td>\n",
       "      <td>0.000000</td>\n",
       "      <td>0.000000</td>\n",
       "      <td>0.000000</td>\n",
       "      <td>1.000000</td>\n",
       "      <td>-1.000000</td>\n",
       "      <td>0.000000</td>\n",
       "      <td>-1.000000</td>\n",
       "      <td>0.000000</td>\n",
       "      <td>0.000000</td>\n",
       "      <td>0.000000</td>\n",
       "      <td>-1.000000</td>\n",
       "      <td>0.000000</td>\n",
       "      <td>0.000000</td>\n",
       "      <td>0.000000</td>\n",
       "      <td>0.000000</td>\n",
       "      <td>0.000000</td>\n",
       "      <td>0.018183</td>\n",
       "      <td>0.018182</td>\n",
       "      <td>0.018182</td>\n",
       "      <td>0.018182</td>\n",
       "      <td>0.018182</td>\n",
       "      <td>0.000000</td>\n",
       "      <td>-0.393750</td>\n",
       "      <td>0.000000</td>\n",
       "      <td>0.000000</td>\n",
       "      <td>0.000000</td>\n",
       "      <td>0.000000</td>\n",
       "      <td>0.000000</td>\n",
       "      <td>0.000000</td>\n",
       "      <td>0.000000</td>\n",
       "      <td>-1.000000</td>\n",
       "      <td>-1.000000</td>\n",
       "      <td>-1.000000</td>\n",
       "      <td>0.000000</td>\n",
       "      <td>-1.000000</td>\n",
       "      <td>0.000000</td>\n",
       "      <td>0.000000</td>\n",
       "      <td>4.000000</td>\n",
       "    </tr>\n",
       "    <tr>\n",
       "      <th>25%</th>\n",
       "      <td>7928.50000</td>\n",
       "      <td>163.000000</td>\n",
       "      <td>9.000000</td>\n",
       "      <td>246.000000</td>\n",
       "      <td>0.471276</td>\n",
       "      <td>1.000000</td>\n",
       "      <td>0.626028</td>\n",
       "      <td>4.000000</td>\n",
       "      <td>1.000000</td>\n",
       "      <td>1.000000</td>\n",
       "      <td>0.000000</td>\n",
       "      <td>4.477934</td>\n",
       "      <td>6.000000</td>\n",
       "      <td>-1.000000</td>\n",
       "      <td>445.000000</td>\n",
       "      <td>141.732143</td>\n",
       "      <td>0.000000</td>\n",
       "      <td>843300.000000</td>\n",
       "      <td>172748.571428</td>\n",
       "      <td>0.000000</td>\n",
       "      <td>3557.341810</td>\n",
       "      <td>2377.668653</td>\n",
       "      <td>642.000000</td>\n",
       "      <td>1100.000000</td>\n",
       "      <td>980.000000</td>\n",
       "      <td>0.025058</td>\n",
       "      <td>0.025014</td>\n",
       "      <td>0.028571</td>\n",
       "      <td>0.026685</td>\n",
       "      <td>0.028574</td>\n",
       "      <td>0.395910</td>\n",
       "      <td>0.057436</td>\n",
       "      <td>0.028374</td>\n",
       "      <td>0.009611</td>\n",
       "      <td>0.600000</td>\n",
       "      <td>0.185185</td>\n",
       "      <td>0.306108</td>\n",
       "      <td>0.050000</td>\n",
       "      <td>0.600000</td>\n",
       "      <td>-0.328333</td>\n",
       "      <td>-0.700000</td>\n",
       "      <td>-0.125000</td>\n",
       "      <td>0.000000</td>\n",
       "      <td>0.000000</td>\n",
       "      <td>0.166667</td>\n",
       "      <td>0.000000</td>\n",
       "      <td>946.000000</td>\n",
       "    </tr>\n",
       "    <tr>\n",
       "      <th>50%</th>\n",
       "      <td>15857.00000</td>\n",
       "      <td>338.000000</td>\n",
       "      <td>10.000000</td>\n",
       "      <td>409.000000</td>\n",
       "      <td>0.539568</td>\n",
       "      <td>1.000000</td>\n",
       "      <td>0.690909</td>\n",
       "      <td>7.000000</td>\n",
       "      <td>3.000000</td>\n",
       "      <td>1.000000</td>\n",
       "      <td>0.000000</td>\n",
       "      <td>4.664251</td>\n",
       "      <td>7.000000</td>\n",
       "      <td>-1.000000</td>\n",
       "      <td>659.000000</td>\n",
       "      <td>235.857143</td>\n",
       "      <td>1400.000000</td>\n",
       "      <td>843300.000000</td>\n",
       "      <td>244550.000000</td>\n",
       "      <td>1020.750000</td>\n",
       "      <td>4346.305556</td>\n",
       "      <td>2867.653996</td>\n",
       "      <td>1200.000000</td>\n",
       "      <td>2800.000000</td>\n",
       "      <td>2200.000000</td>\n",
       "      <td>0.033387</td>\n",
       "      <td>0.033346</td>\n",
       "      <td>0.040004</td>\n",
       "      <td>0.040001</td>\n",
       "      <td>0.040986</td>\n",
       "      <td>0.453431</td>\n",
       "      <td>0.118908</td>\n",
       "      <td>0.038961</td>\n",
       "      <td>0.015332</td>\n",
       "      <td>0.710526</td>\n",
       "      <td>0.280000</td>\n",
       "      <td>0.358929</td>\n",
       "      <td>0.100000</td>\n",
       "      <td>0.800000</td>\n",
       "      <td>-0.252976</td>\n",
       "      <td>-0.500000</td>\n",
       "      <td>-0.100000</td>\n",
       "      <td>0.144444</td>\n",
       "      <td>0.000000</td>\n",
       "      <td>0.500000</td>\n",
       "      <td>0.000000</td>\n",
       "      <td>1400.000000</td>\n",
       "    </tr>\n",
       "    <tr>\n",
       "      <th>75%</th>\n",
       "      <td>23785.50000</td>\n",
       "      <td>542.000000</td>\n",
       "      <td>12.000000</td>\n",
       "      <td>713.000000</td>\n",
       "      <td>0.608523</td>\n",
       "      <td>1.000000</td>\n",
       "      <td>0.754644</td>\n",
       "      <td>14.000000</td>\n",
       "      <td>4.000000</td>\n",
       "      <td>4.000000</td>\n",
       "      <td>1.000000</td>\n",
       "      <td>4.853503</td>\n",
       "      <td>9.000000</td>\n",
       "      <td>4.000000</td>\n",
       "      <td>1000.000000</td>\n",
       "      <td>357.112500</td>\n",
       "      <td>7800.000000</td>\n",
       "      <td>843300.000000</td>\n",
       "      <td>331200.000000</td>\n",
       "      <td>2056.403080</td>\n",
       "      <td>6016.750000</td>\n",
       "      <td>3595.493907</td>\n",
       "      <td>2600.000000</td>\n",
       "      <td>7900.000000</td>\n",
       "      <td>5166.666667</td>\n",
       "      <td>0.240394</td>\n",
       "      <td>0.151275</td>\n",
       "      <td>0.333200</td>\n",
       "      <td>0.368949</td>\n",
       "      <td>0.400919</td>\n",
       "      <td>0.508519</td>\n",
       "      <td>0.178048</td>\n",
       "      <td>0.050228</td>\n",
       "      <td>0.021739</td>\n",
       "      <td>0.800000</td>\n",
       "      <td>0.384615</td>\n",
       "      <td>0.411685</td>\n",
       "      <td>0.100000</td>\n",
       "      <td>1.000000</td>\n",
       "      <td>-0.186111</td>\n",
       "      <td>-0.300000</td>\n",
       "      <td>-0.050000</td>\n",
       "      <td>0.500000</td>\n",
       "      <td>0.141667</td>\n",
       "      <td>0.500000</td>\n",
       "      <td>0.250000</td>\n",
       "      <td>2800.000000</td>\n",
       "    </tr>\n",
       "    <tr>\n",
       "      <th>max</th>\n",
       "      <td>31714.00000</td>\n",
       "      <td>731.000000</td>\n",
       "      <td>23.000000</td>\n",
       "      <td>8474.000000</td>\n",
       "      <td>1.000000</td>\n",
       "      <td>1.000000</td>\n",
       "      <td>1.000000</td>\n",
       "      <td>304.000000</td>\n",
       "      <td>116.000000</td>\n",
       "      <td>128.000000</td>\n",
       "      <td>91.000000</td>\n",
       "      <td>8.041534</td>\n",
       "      <td>10.000000</td>\n",
       "      <td>294.000000</td>\n",
       "      <td>298400.000000</td>\n",
       "      <td>42827.857143</td>\n",
       "      <td>843300.000000</td>\n",
       "      <td>843300.000000</td>\n",
       "      <td>843300.000000</td>\n",
       "      <td>3610.124972</td>\n",
       "      <td>298400.000000</td>\n",
       "      <td>43567.659946</td>\n",
       "      <td>843300.000000</td>\n",
       "      <td>843300.000000</td>\n",
       "      <td>843300.000000</td>\n",
       "      <td>0.926994</td>\n",
       "      <td>0.925947</td>\n",
       "      <td>0.919999</td>\n",
       "      <td>0.926534</td>\n",
       "      <td>0.927191</td>\n",
       "      <td>1.000000</td>\n",
       "      <td>0.727841</td>\n",
       "      <td>0.155488</td>\n",
       "      <td>0.184932</td>\n",
       "      <td>1.000000</td>\n",
       "      <td>1.000000</td>\n",
       "      <td>1.000000</td>\n",
       "      <td>1.000000</td>\n",
       "      <td>1.000000</td>\n",
       "      <td>0.000000</td>\n",
       "      <td>0.000000</td>\n",
       "      <td>0.000000</td>\n",
       "      <td>1.000000</td>\n",
       "      <td>1.000000</td>\n",
       "      <td>0.500000</td>\n",
       "      <td>1.000000</td>\n",
       "      <td>843300.000000</td>\n",
       "    </tr>\n",
       "  </tbody>\n",
       "</table>\n",
       "</div>"
      ],
      "text/plain": [
       "                id     timedelta  n_tokens_title  n_tokens_content   \n",
       "count  31715.00000  31715.000000    31715.000000      31715.000000  \\\n",
       "mean   15857.00000    354.058206       10.390730        544.048179   \n",
       "std     9155.47623    214.314223        2.115643        467.730448   \n",
       "min        0.00000      8.000000        2.000000          0.000000   \n",
       "25%     7928.50000    163.000000        9.000000        246.000000   \n",
       "50%    15857.00000    338.000000       10.000000        409.000000   \n",
       "75%    23785.50000    542.000000       12.000000        713.000000   \n",
       "max    31714.00000    731.000000       23.000000       8474.000000   \n",
       "\n",
       "       n_unique_tokens  n_non_stop_words  n_non_stop_unique_tokens   \n",
       "count     31715.000000      31715.000000              31715.000000  \\\n",
       "mean          0.530754          0.970140                  0.672973   \n",
       "std           0.137106          0.170203                  0.154128   \n",
       "min           0.000000          0.000000                  0.000000   \n",
       "25%           0.471276          1.000000                  0.626028   \n",
       "50%           0.539568          1.000000                  0.690909   \n",
       "75%           0.608523          1.000000                  0.754644   \n",
       "max           1.000000          1.000000                  1.000000   \n",
       "\n",
       "          num_hrefs  num_self_hrefs      num_imgs    num_videos   \n",
       "count  31715.000000    31715.000000  25340.000000  25384.000000  \\\n",
       "mean      10.865143        3.274381      4.533899      1.259100   \n",
       "std       11.295386        3.822364      8.355645      4.176884   \n",
       "min        0.000000        0.000000      0.000000      0.000000   \n",
       "25%        4.000000        1.000000      1.000000      0.000000   \n",
       "50%        7.000000        3.000000      1.000000      0.000000   \n",
       "75%       14.000000        4.000000      4.000000      1.000000   \n",
       "max      304.000000      116.000000    128.000000     91.000000   \n",
       "\n",
       "       average_token_length  num_keywords    kw_min_min     kw_max_min   \n",
       "count          31715.000000  25397.000000  31715.000000   31715.000000  \\\n",
       "mean               4.547096      7.220538     26.094624    1146.761240   \n",
       "std                0.845050      1.904411     69.607933    3949.597979   \n",
       "min                0.000000      1.000000     -1.000000       0.000000   \n",
       "25%                4.477934      6.000000     -1.000000     445.000000   \n",
       "50%                4.664251      7.000000     -1.000000     659.000000   \n",
       "75%                4.853503      9.000000      4.000000    1000.000000   \n",
       "max                8.041534     10.000000    294.000000  298400.000000   \n",
       "\n",
       "         kw_avg_min     kw_min_max     kw_max_max     kw_avg_max   \n",
       "count  31715.000000   31715.000000   31715.000000   31715.000000  \\\n",
       "mean     310.665636   13537.952956  752156.547375  259272.219208   \n",
       "std      621.518386   57773.417428  214790.290225  135230.002910   \n",
       "min       -1.000000       0.000000       0.000000       0.000000   \n",
       "25%      141.732143       0.000000  843300.000000  172748.571428   \n",
       "50%      235.857143    1400.000000  843300.000000  244550.000000   \n",
       "75%      357.112500    7800.000000  843300.000000  331200.000000   \n",
       "max    42827.857143  843300.000000  843300.000000  843300.000000   \n",
       "\n",
       "         kw_min_avg     kw_max_avg    kw_avg_avg  self_reference_min_shares   \n",
       "count  31715.000000   31715.000000  31715.000000               31715.000000  \\\n",
       "mean    1115.519577    5645.840622   3131.505048                4026.917646   \n",
       "std     1136.724206    6173.405093   1329.314912               19928.490868   \n",
       "min       -1.000000       0.000000      0.000000                   0.000000   \n",
       "25%        0.000000    3557.341810   2377.668653                 642.000000   \n",
       "50%     1020.750000    4346.305556   2867.653996                1200.000000   \n",
       "75%     2056.403080    6016.750000   3595.493907                2600.000000   \n",
       "max     3610.124972  298400.000000  43567.659946              843300.000000   \n",
       "\n",
       "       self_reference_max_shares  self_reference_avg_sharess        LDA_00   \n",
       "count               31715.000000                31715.000000  31715.000000  \\\n",
       "mean                10300.539485                 6436.010296      0.184310   \n",
       "std                 40806.007028                24493.111862      0.262799   \n",
       "min                     0.000000                    0.000000      0.018183   \n",
       "25%                  1100.000000                  980.000000      0.025058   \n",
       "50%                  2800.000000                 2200.000000      0.033387   \n",
       "75%                  7900.000000                 5166.666667      0.240394   \n",
       "max                843300.000000               843300.000000      0.926994   \n",
       "\n",
       "             LDA_01        LDA_02        LDA_03        LDA_04   \n",
       "count  31715.000000  31715.000000  31715.000000  31715.000000  \\\n",
       "mean       0.142384      0.216083      0.223065      0.234158   \n",
       "std        0.221233      0.282044      0.294870      0.289054   \n",
       "min        0.018182      0.018182      0.018182      0.018182   \n",
       "25%        0.025014      0.028571      0.026685      0.028574   \n",
       "50%        0.033346      0.040004      0.040001      0.040986   \n",
       "75%        0.151275      0.333200      0.368949      0.400919   \n",
       "max        0.925947      0.919999      0.926534      0.927191   \n",
       "\n",
       "       global_subjectivity  global_sentiment_polarity   \n",
       "count         31715.000000               31715.000000  \\\n",
       "mean              0.443213                   0.119204   \n",
       "std               0.116933                   0.097157   \n",
       "min               0.000000                  -0.393750   \n",
       "25%               0.395910                   0.057436   \n",
       "50%               0.453431                   0.118908   \n",
       "75%               0.508519                   0.178048   \n",
       "max               1.000000                   0.727841   \n",
       "\n",
       "       global_rate_positive_words  global_rate_negative_words   \n",
       "count                31715.000000                31715.000000  \\\n",
       "mean                     0.039594                    0.016627   \n",
       "std                      0.017430                    0.010892   \n",
       "min                      0.000000                    0.000000   \n",
       "25%                      0.028374                    0.009611   \n",
       "50%                      0.038961                    0.015332   \n",
       "75%                      0.050228                    0.021739   \n",
       "max                      0.155488                    0.184932   \n",
       "\n",
       "       rate_positive_words  rate_negative_words  avg_positive_polarity   \n",
       "count         31715.000000         31715.000000           31715.000000  \\\n",
       "mean              0.681880             0.288134               0.353661   \n",
       "std               0.190380             0.156324               0.104526   \n",
       "min               0.000000             0.000000               0.000000   \n",
       "25%               0.600000             0.185185               0.306108   \n",
       "50%               0.710526             0.280000               0.358929   \n",
       "75%               0.800000             0.384615               0.411685   \n",
       "max               1.000000             1.000000               1.000000   \n",
       "\n",
       "       min_positive_polarity  max_positive_polarity  avg_negative_polarity   \n",
       "count           31715.000000           31715.000000           31715.000000  \\\n",
       "mean                0.095466               0.756271              -0.259198   \n",
       "std                 0.071362               0.247798               0.127508   \n",
       "min                 0.000000               0.000000              -1.000000   \n",
       "25%                 0.050000               0.600000              -0.328333   \n",
       "50%                 0.100000               0.800000              -0.252976   \n",
       "75%                 0.100000               1.000000              -0.186111   \n",
       "max                 1.000000               1.000000               0.000000   \n",
       "\n",
       "       min_negative_polarity  max_negative_polarity  title_subjectivity   \n",
       "count           31715.000000           31715.000000        31715.000000  \\\n",
       "mean               -0.521164              -0.107397            0.281647   \n",
       "std                 0.290352               0.094932            0.323834   \n",
       "min                -1.000000              -1.000000            0.000000   \n",
       "25%                -0.700000              -0.125000            0.000000   \n",
       "50%                -0.500000              -0.100000            0.144444   \n",
       "75%                -0.300000              -0.050000            0.500000   \n",
       "max                 0.000000               0.000000            1.000000   \n",
       "\n",
       "       title_sentiment_polarity  abs_title_subjectivity   \n",
       "count              31715.000000            31715.000000  \\\n",
       "mean                   0.069909                0.341805   \n",
       "std                    0.265514                0.188980   \n",
       "min                   -1.000000                0.000000   \n",
       "25%                    0.000000                0.166667   \n",
       "50%                    0.000000                0.500000   \n",
       "75%                    0.141667                0.500000   \n",
       "max                    1.000000                0.500000   \n",
       "\n",
       "       abs_title_sentiment_polarity         shares  \n",
       "count                  31715.000000   31715.000000  \n",
       "mean                       0.155974    3407.068863  \n",
       "std                        0.225957   11899.460219  \n",
       "min                        0.000000       4.000000  \n",
       "25%                        0.000000     946.000000  \n",
       "50%                        0.000000    1400.000000  \n",
       "75%                        0.250000    2800.000000  \n",
       "max                        1.000000  843300.000000  "
      ]
     },
     "execution_count": 7,
     "metadata": {},
     "output_type": "execute_result"
    }
   ],
   "source": [
    "df_all.describe()"
   ]
  },
  {
   "cell_type": "code",
   "execution_count": 8,
   "metadata": {
    "tags": []
   },
   "outputs": [],
   "source": [
    "X = df_all.copy()\n",
    "X = X.drop(['url'], axis = 1)"
   ]
  },
  {
   "cell_type": "code",
   "execution_count": 9,
   "metadata": {
    "tags": []
   },
   "outputs": [
    {
     "data": {
      "image/png": "[encoded data removed]",
      "text/plain": [
       "<Figure size 1920x1440 with 1 Axes>"
      ]
     },
     "metadata": {},
     "output_type": "display_data"
    }
   ],
   "source": [
    "n_unique_tokens_data = X['n_unique_tokens']\n",
    "\n",
    "# Plotting distribution of n_unique_tokens\n",
    "plt.figure(dpi=300)\n",
    "plt.hist(n_unique_tokens_data, bins=20, edgecolor='gray', color='green', alpha=0.7)\n",
    "plt.hist(n_unique_tokens_data[n_unique_tokens_data == 0], bins=20, edgecolor='gray', alpha=0.7)\n",
    "plt.xlabel('n_unique_tokens')\n",
    "plt.ylabel('Frequency')\n",
    "plt.legend(['Non-zero values', 'Zero values'])\n",
    "# Save the image\n",
    "plt.savefig('outliers.png')\n",
    "plt.show()\n"
   ]
  },
  {
   "cell_type": "code",
   "execution_count": 10,
   "metadata": {
    "tags": []
   },
   "outputs": [],
   "source": [
    "df_pruned = df_all.copy()\n",
    "df_pruned = df_pruned[(df_pruned['n_tokens_content'] != 0) | (df_pruned['n_unique_tokens'] != 0)]\n",
    "X_prunned = X.copy()\n",
    "X_prunned = X_prunned[(X_prunned['n_tokens_content'] != 0) | (X_prunned['n_unique_tokens'] != 0)]\n",
    "y = X_prunned['shares']  # Target variable\n",
    "X_prunned = X_prunned.drop('shares', axis=1)  # Features\n",
    "for col in X_prunned.columns:\n",
    "    X_prunned[col] = X_prunned[col].fillna(0)\n",
    "categorical_columns = ['data_channel', 'weekday']\n",
    "# Separate numerical columns\n",
    "numerical_columns = [col for col in X_prunned.columns if col not in categorical_columns]\n",
    "\n",
    "# Apply Min-Max scaling to numerical columns\n",
    "scaler = MinMaxScaler()\n",
    "X_scaled = X_prunned.copy()\n",
    "X_scaled[numerical_columns] = scaler.fit_transform(X_scaled[numerical_columns])\n",
    "\n",
    "X2 = pd.concat([X_scaled,pd.get_dummies(X_scaled['weekday'] ,prefix = 'weekday' )], axis=1)\n",
    "X2 = X2.drop(['weekday'], axis=1)\n",
    "X2 = pd.concat([X2,pd.get_dummies(X2['data_channel'] ,prefix = 'd_channel' )], axis=1)\n",
    "X2 = X2.drop(['data_channel'], axis = 1)\n",
    "X2 = X2.drop(['id'], axis = 1)"
   ]
  },
  {
   "cell_type": "code",
   "execution_count": 11,
   "metadata": {
    "id": "PnQ05l60_JuD",
    "tags": []
   },
   "outputs": [],
   "source": [
    "#EDA using Autoviz\n",
    "#doesn't work with pandas 2.0 \n",
    "#but the output is provided anyway\n",
    "\n",
    "# sweet_report = sv.analyze(df_all) \n",
    "\n",
    "\n",
    "#Saving results to HTML file\n",
    "# sweet_report.show_html('sweet_report.html')"
   ]
  },
  {
   "cell_type": "markdown",
   "metadata": {},
   "source": [
    "Press the following button to open the sweetviz EDA"
   ]
  },
  {
   "cell_type": "markdown",
   "metadata": {
    "id": "cm_6Yxf8AfYg",
    "tags": []
   },
   "source": [
    "<a href=\"sweet_report.html\" target=\"popup\" onclick=\"window.open('sweet_report.html','popup','width=w,height=h'); return false;\" >\n",
    "    <button type=\"button\">\n",
    "        Open SweetViz Report\n",
    "    </button>\n",
    "</a>\n",
    "\n"
   ]
  },
  {
   "cell_type": "code",
   "execution_count": 12,
   "metadata": {
    "colab": {
     "base_uri": "https://localhost:8080/"
    },
    "executionInfo": {
     "elapsed": 48,
     "status": "ok",
     "timestamp": 1686061293784,
     "user": {
      "displayName": "Alejandro Mesa Gómez",
      "userId": "07331003800928436736"
     },
     "user_tz": -120
    },
    "id": "oHdsF2e-KWPB",
    "outputId": "d49f00e5-4869-46e5-9a74-b519339437a6",
    "tags": []
   },
   "outputs": [
    {
     "name": "stdout",
     "output_type": "stream",
     "text": [
      "num_imgs -> 6375/31715 NAN\n",
      "num_videos -> 6331/31715 NAN\n",
      "num_keywords -> 6318/31715 NAN\n"
     ]
    }
   ],
   "source": [
    "for col in df_all.columns:\n",
    "  condition = df_all[col].isnull().values.sum()\n",
    "  if condition > 0:\n",
    "    print(f'{col} -> {condition}/{df_all.shape[0]} NAN')"
   ]
  },
  {
   "cell_type": "markdown",
   "metadata": {
    "id": "HzYoCDKSKtyu"
   },
   "source": [
    "## tokens filtering\n"
   ]
  },
  {
   "cell_type": "code",
   "execution_count": 13,
   "metadata": {
    "colab": {
     "base_uri": "https://localhost:8080/",
     "height": 206
    },
    "executionInfo": {
     "elapsed": 45,
     "status": "ok",
     "timestamp": 1686061293786,
     "user": {
      "displayName": "Alejandro Mesa Gómez",
      "userId": "07331003800928436736"
     },
     "user_tz": -120
    },
    "id": "3_C9nANaK1bJ",
    "outputId": "076fbdc6-a1e6-4b2c-bd56-f0f205af1a04"
   },
   "outputs": [
    {
     "data": {
      "text/html": [
       "<div>\n",
       "<style scoped>\n",
       "    .dataframe tbody tr th:only-of-type {\n",
       "        vertical-align: middle;\n",
       "    }\n",
       "\n",
       "    .dataframe tbody tr th {\n",
       "        vertical-align: top;\n",
       "    }\n",
       "\n",
       "    .dataframe thead th {\n",
       "        text-align: right;\n",
       "    }\n",
       "</style>\n",
       "<table border=\"1\" class=\"dataframe\">\n",
       "  <thead>\n",
       "    <tr style=\"text-align: right;\">\n",
       "      <th></th>\n",
       "      <th>url</th>\n",
       "      <th>n_tokens_content</th>\n",
       "      <th>n_unique_tokens</th>\n",
       "    </tr>\n",
       "  </thead>\n",
       "  <tbody>\n",
       "    <tr>\n",
       "      <th>0</th>\n",
       "      <td>http://mashable.com/2014/09/08/safest-cabbies-...</td>\n",
       "      <td>1015.0</td>\n",
       "      <td>0.422018</td>\n",
       "    </tr>\n",
       "    <tr>\n",
       "      <th>1</th>\n",
       "      <td>http://mashable.com/2013/07/25/3d-printed-rifle/</td>\n",
       "      <td>503.0</td>\n",
       "      <td>0.569697</td>\n",
       "    </tr>\n",
       "    <tr>\n",
       "      <th>2</th>\n",
       "      <td>http://mashable.com/2013/10/30/digital-dinosau...</td>\n",
       "      <td>232.0</td>\n",
       "      <td>0.646018</td>\n",
       "    </tr>\n",
       "    <tr>\n",
       "      <th>3</th>\n",
       "      <td>http://mashable.com/2014/08/27/homer-simpson-i...</td>\n",
       "      <td>171.0</td>\n",
       "      <td>0.722892</td>\n",
       "    </tr>\n",
       "    <tr>\n",
       "      <th>4</th>\n",
       "      <td>http://mashable.com/2013/01/10/creepy-robotic-...</td>\n",
       "      <td>286.0</td>\n",
       "      <td>0.652632</td>\n",
       "    </tr>\n",
       "  </tbody>\n",
       "</table>\n",
       "</div>"
      ],
      "text/plain": [
       "                                                 url  n_tokens_content   \n",
       "0  http://mashable.com/2014/09/08/safest-cabbies-...            1015.0  \\\n",
       "1   http://mashable.com/2013/07/25/3d-printed-rifle/             503.0   \n",
       "2  http://mashable.com/2013/10/30/digital-dinosau...             232.0   \n",
       "3  http://mashable.com/2014/08/27/homer-simpson-i...             171.0   \n",
       "4  http://mashable.com/2013/01/10/creepy-robotic-...             286.0   \n",
       "\n",
       "   n_unique_tokens  \n",
       "0         0.422018  \n",
       "1         0.569697  \n",
       "2         0.646018  \n",
       "3         0.722892  \n",
       "4         0.652632  "
      ]
     },
     "execution_count": 13,
     "metadata": {},
     "output_type": "execute_result"
    }
   ],
   "source": [
    "df_url_n_tokens_content_n_unique_tokens   = df_all.loc[:,['url','n_tokens_content','n_unique_tokens']]\n",
    "df_url_n_tokens_content_n_unique_tokens = df_url_n_tokens_content_n_unique_tokens[\n",
    "    (df_url_n_tokens_content_n_unique_tokens['n_tokens_content'] != 0) | (df_url_n_tokens_content_n_unique_tokens['n_unique_tokens'] != 0)]\n",
    "\n",
    "df_url_n_tokens_content_n_unique_tokens.head()"
   ]
  },
  {
   "cell_type": "code",
   "execution_count": 14,
   "metadata": {
    "colab": {
     "base_uri": "https://localhost:8080/",
     "height": 467
    },
    "executionInfo": {
     "elapsed": 428,
     "status": "ok",
     "timestamp": 1686061294170,
     "user": {
      "displayName": "Alejandro Mesa Gómez",
      "userId": "07331003800928436736"
     },
     "user_tz": -120
    },
    "id": "AEOIWlJXNsTK",
    "outputId": "b8f05a4a-0b12-44ff-d49d-62731d28f55f"
   },
   "outputs": [
    {
     "data": {
      "text/plain": [
       "<matplotlib.legend.Legend at 0x7f6033cc8eb0>"
      ]
     },
     "execution_count": 14,
     "metadata": {},
     "output_type": "execute_result"
    },
    {
     "data": {
      "image/png": "[encoded data removed]",
      "text/plain": [
       "<Figure size 640x480 with 1 Axes>"
      ]
     },
     "metadata": {},
     "output_type": "display_data"
    }
   ],
   "source": [
    "#df_url_n_tokens_content_n_unique_tokens.n_tokens_content.plot(kind='hist')\n",
    "sns.histplot(df_all.n_unique_tokens,             \n",
    "             bins=50, label='original', stat='frequency');\n",
    "sns.histplot(df_url_n_tokens_content_n_unique_tokens.n_unique_tokens,             \n",
    "             bins=50, label='pruned', alpha=0.3 , stat='frequency');\n",
    "plt.legend()\n"
   ]
  },
  {
   "cell_type": "code",
   "execution_count": 15,
   "metadata": {
    "colab": {
     "base_uri": "https://localhost:8080/",
     "height": 467
    },
    "executionInfo": {
     "elapsed": 437,
     "status": "ok",
     "timestamp": 1686061294594,
     "user": {
      "displayName": "Alejandro Mesa Gómez",
      "userId": "07331003800928436736"
     },
     "user_tz": -120
    },
    "id": "oxydkZlBOKnF",
    "outputId": "3cea715a-7c7c-4aa7-cccf-cdf391d29a73"
   },
   "outputs": [
    {
     "data": {
      "text/plain": [
       "<matplotlib.legend.Legend at 0x7f6033bbbf70>"
      ]
     },
     "execution_count": 15,
     "metadata": {},
     "output_type": "execute_result"
    },
    {
     "data": {
      "image/png": "[encoded data removed]",
      "text/plain": [
       "<Figure size 640x480 with 1 Axes>"
      ]
     },
     "metadata": {},
     "output_type": "display_data"
    }
   ],
   "source": [
    "#df_url_n_tokens_content_n_unique_tokens.n_tokens_content.plot(kind='hist')\n",
    "sns.histplot(df_all.n_tokens_content,             \n",
    "             bins=50, label='original');\n",
    "sns.histplot(df_url_n_tokens_content_n_unique_tokens.n_tokens_content,             \n",
    "             bins=50, label='pruned', alpha=0.3);\n",
    "plt.legend()"
   ]
  },
  {
   "cell_type": "code",
   "execution_count": 16,
   "metadata": {
    "colab": {
     "base_uri": "https://localhost:8080/"
    },
    "executionInfo": {
     "elapsed": 456,
     "status": "ok",
     "timestamp": 1686061295039,
     "user": {
      "displayName": "Alejandro Mesa Gómez",
      "userId": "07331003800928436736"
     },
     "user_tz": -120
    },
    "id": "wpbHk3uVTujh",
    "outputId": "236532bc-b7a9-426f-f777-65eecee59e01"
   },
   "outputs": [
    {
     "data": {
      "text/plain": [
       "3963"
      ]
     },
     "execution_count": 16,
     "metadata": {},
     "output_type": "execute_result"
    }
   ],
   "source": [
    "df_all[(df_all['n_tokens_content']>100) & (df_all['n_tokens_content']<200)].id.count()"
   ]
  },
  {
   "cell_type": "code",
   "execution_count": 17,
   "metadata": {
    "colab": {
     "base_uri": "https://localhost:8080/"
    },
    "executionInfo": {
     "elapsed": 24,
     "status": "ok",
     "timestamp": 1686061295040,
     "user": {
      "displayName": "Alejandro Mesa Gómez",
      "userId": "07331003800928436736"
     },
     "user_tz": -120
    },
    "id": "U0P7Ot58Uc96",
    "outputId": "cd46757e-d776-482c-de01-ec51f3d2a138"
   },
   "outputs": [
    {
     "data": {
      "text/plain": [
       "3963"
      ]
     },
     "execution_count": 17,
     "metadata": {},
     "output_type": "execute_result"
    }
   ],
   "source": [
    "df_url_n_tokens_content_n_unique_tokens[\n",
    "    (df_url_n_tokens_content_n_unique_tokens['n_tokens_content']>100) & (df_url_n_tokens_content_n_unique_tokens['n_tokens_content']<200)\n",
    "    ].url.count()"
   ]
  },
  {
   "cell_type": "code",
   "execution_count": 18,
   "metadata": {
    "colab": {
     "base_uri": "https://localhost:8080/"
    },
    "executionInfo": {
     "elapsed": 21,
     "status": "ok",
     "timestamp": 1686061295040,
     "user": {
      "displayName": "Alejandro Mesa Gómez",
      "userId": "07331003800928436736"
     },
     "user_tz": -120
    },
    "id": "UQsJySjeUxLi",
    "outputId": "67994c88-6742-4326-826a-36922038cfec"
   },
   "outputs": [
    {
     "data": {
      "text/plain": [
       "count    31715.000000\n",
       "mean         0.530754\n",
       "std          0.137106\n",
       "min          0.000000\n",
       "25%          0.471276\n",
       "50%          0.539568\n",
       "75%          0.608523\n",
       "max          1.000000\n",
       "Name: n_unique_tokens, dtype: float64"
      ]
     },
     "execution_count": 18,
     "metadata": {},
     "output_type": "execute_result"
    }
   ],
   "source": [
    "df_all.n_unique_tokens.describe()"
   ]
  },
  {
   "cell_type": "code",
   "execution_count": 19,
   "metadata": {
    "colab": {
     "base_uri": "https://localhost:8080/"
    },
    "executionInfo": {
     "elapsed": 18,
     "status": "ok",
     "timestamp": 1686061295041,
     "user": {
      "displayName": "Alejandro Mesa Gómez",
      "userId": "07331003800928436736"
     },
     "user_tz": -120
    },
    "id": "bFv8FafkVEoD",
    "outputId": "c89fb548-2446-47c8-93bf-1ec4c0f95898"
   },
   "outputs": [
    {
     "data": {
      "text/plain": [
       "10001"
      ]
     },
     "execution_count": 19,
     "metadata": {},
     "output_type": "execute_result"
    }
   ],
   "source": [
    "df_url_n_tokens_content_n_unique_tokens[\n",
    "    (df_url_n_tokens_content_n_unique_tokens['n_unique_tokens']>0.3) & (df_url_n_tokens_content_n_unique_tokens['n_unique_tokens']<0.5)\n",
    "    ].url.count()"
   ]
  },
  {
   "cell_type": "code",
   "execution_count": 20,
   "metadata": {
    "colab": {
     "base_uri": "https://localhost:8080/"
    },
    "executionInfo": {
     "elapsed": 13,
     "status": "ok",
     "timestamp": 1686061295041,
     "user": {
      "displayName": "Alejandro Mesa Gómez",
      "userId": "07331003800928436736"
     },
     "user_tz": -120
    },
    "id": "JqsFVG-SVLfZ",
    "outputId": "1fc25b14-67ff-4e9e-c2d6-fd7e1ac7506d"
   },
   "outputs": [
    {
     "data": {
      "text/plain": [
       "10001"
      ]
     },
     "execution_count": 20,
     "metadata": {},
     "output_type": "execute_result"
    }
   ],
   "source": [
    "df_all[(df_all['n_unique_tokens']>0.3) & (df_all['n_unique_tokens']<0.5)].id.count()"
   ]
  },
  {
   "cell_type": "code",
   "execution_count": 21,
   "metadata": {
    "colab": {
     "base_uri": "https://localhost:8080/",
     "height": 466
    },
    "executionInfo": {
     "elapsed": 1221,
     "status": "ok",
     "timestamp": 1686061296253,
     "user": {
      "displayName": "Alejandro Mesa Gómez",
      "userId": "07331003800928436736"
     },
     "user_tz": -120
    },
    "id": "6OHKeErycf8-",
    "outputId": "8b940023-ce09-4bc4-f062-24458978ae81"
   },
   "outputs": [
    {
     "data": {
      "text/plain": [
       "(0.0, 40000.0)"
      ]
     },
     "execution_count": 21,
     "metadata": {},
     "output_type": "execute_result"
    },
    {
     "data": {
      "image/png": "[encoded data removed]",
      "text/plain": [
       "<Figure size 640x480 with 1 Axes>"
      ]
     },
     "metadata": {},
     "output_type": "display_data"
    }
   ],
   "source": [
    "#df_url_n_tokens_content_n_unique_tokens.n_tokens_content.plot(kind='hist')\n",
    "sns.histplot(df_all.shares,             \n",
    "             bins=500, label='original');\n",
    "plt.xlim(0,40000)"
   ]
  },
  {
   "cell_type": "code",
   "execution_count": 22,
   "metadata": {
    "colab": {
     "base_uri": "https://localhost:8080/",
     "height": 467
    },
    "executionInfo": {
     "elapsed": 1561,
     "status": "ok",
     "timestamp": 1686063439733,
     "user": {
      "displayName": "Alejandro Mesa Gómez",
      "userId": "07331003800928436736"
     },
     "user_tz": -120
    },
    "id": "QDu82Ku5NjUe",
    "outputId": "5d6aabd5-eb38-45ef-9531-2dd313c987ea"
   },
   "outputs": [
    {
     "data": {
      "text/plain": [
       "<Axes: xlabel='rate_positive_words', ylabel='shares'>"
      ]
     },
     "execution_count": 22,
     "metadata": {},
     "output_type": "execute_result"
    },
    {
     "data": {
      "image/png": "[encoded data removed]",
      "text/plain": [
       "<Figure size 640x480 with 1 Axes>"
      ]
     },
     "metadata": {},
     "output_type": "display_data"
    }
   ],
   "source": [
    "sns.scatterplot(df_pruned, x='rate_positive_words', y= 'shares')"
   ]
  },
  {
   "cell_type": "code",
   "execution_count": 23,
   "metadata": {
    "colab": {
     "base_uri": "https://localhost:8080/",
     "height": 467
    },
    "executionInfo": {
     "elapsed": 1129,
     "status": "ok",
     "timestamp": 1686063475539,
     "user": {
      "displayName": "Alejandro Mesa Gómez",
      "userId": "07331003800928436736"
     },
     "user_tz": -120
    },
    "id": "hkmn31LJNrv_",
    "outputId": "032990ef-9e3d-409c-9aba-37ac88995200"
   },
   "outputs": [
    {
     "data": {
      "text/plain": [
       "<Axes: xlabel='global_rate_negative_words', ylabel='shares'>"
      ]
     },
     "execution_count": 23,
     "metadata": {},
     "output_type": "execute_result"
    },
    {
     "data": {
      "image/png": "[encoded data removed]",
      "text/plain": [
       "<Figure size 640x480 with 1 Axes>"
      ]
     },
     "metadata": {},
     "output_type": "display_data"
    }
   ],
   "source": [
    "sns.scatterplot(df_pruned, x='global_rate_negative_words', y= 'shares')"
   ]
  },
  {
   "cell_type": "code",
   "execution_count": 24,
   "metadata": {
    "colab": {
     "base_uri": "https://localhost:8080/",
     "height": 467
    },
    "executionInfo": {
     "elapsed": 16,
     "status": "ok",
     "timestamp": 1686063515336,
     "user": {
      "displayName": "Alejandro Mesa Gómez",
      "userId": "07331003800928436736"
     },
     "user_tz": -120
    },
    "id": "u36zQgyxNzJE",
    "outputId": "f29b7a7c-692c-4a21-cfa2-58509d914549"
   },
   "outputs": [
    {
     "data": {
      "text/plain": [
       "<Axes: xlabel='rate_negative_words', ylabel='shares'>"
      ]
     },
     "execution_count": 24,
     "metadata": {},
     "output_type": "execute_result"
    },
    {
     "data": {
      "image/png": "[encoded data removed]",
      "text/plain": [
       "<Figure size 640x480 with 1 Axes>"
      ]
     },
     "metadata": {},
     "output_type": "display_data"
    }
   ],
   "source": [
    "sns.scatterplot(df_pruned, x='rate_negative_words', y= 'shares')"
   ]
  },
  {
   "cell_type": "markdown",
   "metadata": {
    "tags": []
   },
   "source": [
    "# Visualization"
   ]
  },
  {
   "cell_type": "code",
   "execution_count": 26,
   "metadata": {
    "tags": []
   },
   "outputs": [
    {
     "data": {
      "image/png": "[encoded data removed]",
      "text/plain": [
       "<Figure size 1920x1440 with 2 Axes>"
      ]
     },
     "metadata": {},
     "output_type": "display_data"
    }
   ],
   "source": [
    "# Extract the subset of the dataframe with the top 20 variables\n",
    "\n",
    "# Calculate the correlation matrix\n",
    "corr_matrix = X2.corr()\n",
    "\n",
    "# Create a figure and axes for the heatmap\n",
    "fig, ax = plt.subplots( dpi=300)\n",
    "#figsize=(20, 20)\n",
    "# Create the heatmap using matshow\n",
    "# heatmap = ax.matshow(corr_matrix, cmap='mako')\n",
    "\n",
    "# Create colorbar\n",
    "# cbar = plt.colorbar(heatmap)\n",
    "heatmap=sns.heatmap(corr_matrix,cmap='mako',annot=False,square=True,ax=ax,\n",
    "                    cbar_kws={\"shrink\": 0.8})\n",
    "\n",
    "# Set tick labels and positions\n",
    "ax.set_xticks(range(len(X2.columns)))\n",
    "ax.set_yticks(range(len(X2.columns)))\n",
    "ax.set_xticklabels([])\n",
    "ax.set_yticklabels([])\n",
    "\n",
    "# Add title and axis labels\n",
    "plt.xlabel('Variables')\n",
    "plt.ylabel('Variables')\n",
    "plt.savefig('heatmap.png')\n",
    "# Show the heatmap\n",
    "plt.show()\n"
   ]
  },
  {
   "cell_type": "code",
   "execution_count": 27,
   "metadata": {
    "tags": []
   },
   "outputs": [
    {
     "data": {
      "image/png": "[encoded data removed]",
      "text/plain": [
       "<Figure size 1920x1440 with 1 Axes>"
      ]
     },
     "metadata": {},
     "output_type": "display_data"
    }
   ],
   "source": [
    "plt.figure(dpi=300)\n",
    "plt.hist(X.loc[:,'LDA_02'],bins=30)\n",
    "# plt.xlim(0,15000)\n",
    "plt.xlabel(\"LDA_02\")\n",
    "plt.ylabel(\"Count\")\n",
    "plt.savefig('LDA_02.png')\n",
    "plt.show()"
   ]
  },
  {
   "cell_type": "markdown",
   "metadata": {},
   "source": [
    "# Vanilla regressions"
   ]
  },
  {
   "cell_type": "code",
   "execution_count": 10,
   "metadata": {
    "id": "kDXYhk2UFIpL",
    "tags": []
   },
   "outputs": [],
   "source": [
    "X2 = pd.concat([X_prunned,pd.get_dummies(X_prunned['weekday'] ,prefix = 'weekday' )], axis=1)\n",
    "X2 = X2.drop(['weekday'], axis=1)\n",
    "X2 = pd.concat([X2,pd.get_dummies(X2['data_channel'] ,prefix = 'd_channel' )], axis=1)\n",
    "X2 = X2.drop(['data_channel'], axis = 1)"
   ]
  },
  {
   "cell_type": "code",
   "execution_count": 11,
   "metadata": {
    "id": "UAwCpCTqFNof",
    "tags": []
   },
   "outputs": [],
   "source": [
    "fisher_scores, _ = f_classif(X2, y)\n",
    "# Create a new dataframe or series to store the feature names and their corresponding Fisher scores\n",
    "feature_scores = pd.DataFrame({'Feature': X2.columns, 'Fisher Score': fisher_scores})\n",
    "\n",
    "# Sort the feature scores in descending order\n",
    "feature_scores.sort_values(by='Fisher Score', ascending=False, inplace=True)\n",
    "feature_scores.reset_index(drop=True, inplace=True)\n"
   ]
  },
  {
   "cell_type": "code",
   "execution_count": 12,
   "metadata": {
    "colab": {
     "base_uri": "https://localhost:8080/"
    },
    "id": "QyzYxbXQFhfV",
    "outputId": "e61cadc2-dd5c-4e8c-f1b5-27e9d4f00f03",
    "tags": []
   },
   "outputs": [
    {
     "data": {
      "text/plain": [
       "0                    kw_avg_avg\n",
       "1               d_channel_world\n",
       "2                        LDA_02\n",
       "3                    kw_max_min\n",
       "4                    kw_max_avg\n",
       "5           d_channel_lifestyle\n",
       "6                    kw_avg_min\n",
       "7                        LDA_03\n",
       "8       d_channel_entertainment\n",
       "9           global_subjectivity\n",
       "10                   kw_min_max\n",
       "11                    num_hrefs\n",
       "12                       LDA_01\n",
       "13    global_sentiment_polarity\n",
       "14                   kw_min_avg\n",
       "15          rate_negative_words\n",
       "16          rate_positive_words\n",
       "17                       LDA_04\n",
       "18    self_reference_max_shares\n",
       "19        max_negative_polarity\n",
       "20                   num_videos\n",
       "Name: Feature, dtype: object"
      ]
     },
     "execution_count": 12,
     "metadata": {},
     "output_type": "execute_result"
    }
   ],
   "source": [
    "top_20_features = feature_scores.loc[:20, 'Feature']\n",
    "top_15_features = feature_scores.loc[:15, 'Feature']\n",
    "top_10_features = feature_scores.loc[:10, 'Feature']\n",
    "top_20_features"
   ]
  },
  {
   "cell_type": "code",
   "execution_count": 13,
   "metadata": {
    "id": "7vASdmdcFj1C",
    "tags": []
   },
   "outputs": [],
   "source": [
    "# X3 = X2.loc[:,top_20_features ]\n",
    "X4 = X2.loc[:,top_10_features ]\n",
    "X5 = X2.loc[:,top_15_features ]"
   ]
  },
  {
   "cell_type": "markdown",
   "metadata": {
    "id": "EgRbuCeWMKG-"
   },
   "source": [
    "## Test Dataset"
   ]
  },
  {
   "cell_type": "code",
   "execution_count": 14,
   "metadata": {
    "id": "bfx4gYL8MdZZ",
    "tags": []
   },
   "outputs": [],
   "source": [
    "# Separate numerical columns\n",
    "XT_scaled = df_test.copy().drop(['url','id',],axis=1)\n",
    "numerical_columns = [col for col in XT_scaled.columns if col not in categorical_columns]\n",
    "\n",
    "# Apply Min-Max scaling to numerical columns\n",
    "\n",
    "\n",
    "XT_scaled = pd.concat([XT_scaled,pd.get_dummies(XT_scaled['weekday'] ,prefix = 'weekday' )], axis=1)\n",
    "XT_scaled = XT_scaled.drop(['weekday'], axis=1)\n",
    "XT_scaled = pd.concat([XT_scaled,pd.get_dummies(XT_scaled['data_channel'] ,prefix = 'd_channel' )], axis=1)\n",
    "XT_scaled = XT_scaled.drop(['data_channel'], axis = 1)\n"
   ]
  },
  {
   "cell_type": "code",
   "execution_count": 15,
   "metadata": {
    "id": "4LtRRl8qMk7e",
    "tags": []
   },
   "outputs": [],
   "source": [
    "XT_scal_10f = XT_scaled.loc[:,top_10_features ].copy()\n",
    "XT_scal_20f = XT_scaled.loc[:,top_20_features ].copy()\n",
    "XT_scal_15f = XT_scaled.loc[:,top_15_features ].copy()"
   ]
  },
  {
   "cell_type": "markdown",
   "metadata": {
    "id": "_OSRA8L1L6F1",
    "tags": []
   },
   "source": [
    "## Linear Regression"
   ]
  },
  {
   "cell_type": "code",
   "execution_count": null,
   "metadata": {
    "colab": {
     "base_uri": "https://localhost:8080/"
    },
    "id": "pW_I25laMAFw",
    "outputId": "06ffc5c8-f5c8-456e-a1cf-a165761cb59a"
   },
   "outputs": [
    {
     "name": "stdout",
     "output_type": "stream",
     "text": [
      "TOP 10\n"
     ]
    },
    {
     "data": {
      "text/plain": [
       "9382.944411292858"
      ]
     },
     "execution_count": 16,
     "metadata": {},
     "output_type": "execute_result"
    }
   ],
   "source": [
    "# Perform train-test split\n",
    "X_train, X_test, y_train, y_test = train_test_split(X4, y, test_size=0.2, random_state=42)\n",
    "reg = LinearRegression().fit(X_train, y_train)\n",
    "print('TOP 10')\n",
    "y_pred = reg.predict(X_test)\n",
    "mean_squared_error(y_test, y_pred, squared=False)"
   ]
  },
  {
   "cell_type": "code",
   "execution_count": null,
   "metadata": {
    "id": "Ck_jFpLmvEm1"
   },
   "outputs": [],
   "source": [
    "predictions = reg.predict(XT_scal_10f)\n",
    "output = pd.DataFrame({'Id':df_test['id'].values,\n",
    "                   'Predicted':predictions.flatten()})\n",
    "output.to_csv('mr10.csv', index=False)\n"
   ]
  },
  {
   "cell_type": "code",
   "execution_count": null,
   "metadata": {
    "colab": {
     "base_uri": "https://localhost:8080/"
    },
    "id": "YL7H9l3eL5j2",
    "outputId": "e59a2ee1-76d2-4fa5-e387-21e1e942308a"
   },
   "outputs": [
    {
     "name": "stdout",
     "output_type": "stream",
     "text": [
      "TOP 20\n"
     ]
    },
    {
     "data": {
      "text/plain": [
       "9399.348064510627"
      ]
     },
     "execution_count": 18,
     "metadata": {},
     "output_type": "execute_result"
    }
   ],
   "source": [
    "# Perform train-test split\n",
    "X_train, X_test, y_train, y_test = train_test_split(X3, y, test_size=0.2, random_state=42)\n",
    "\n",
    "\n",
    "reg = LinearRegression().fit(X_train, y_train)\n",
    "print('TOP 20')\n",
    "y_pred = reg.predict(X_test)\n",
    "mean_squared_error(y_test, y_pred, squared=False)"
   ]
  },
  {
   "cell_type": "code",
   "execution_count": null,
   "metadata": {
    "id": "meUh7pRhS_FE"
   },
   "outputs": [],
   "source": [
    "predictions = reg.predict(XT_scal_20f)\n",
    "output = pd.DataFrame({'Id':df_test['id'].values,\n",
    "                   'Predicted':predictions.flatten()})\n",
    "output.to_csv('mr20.csv', index=False)"
   ]
  },
  {
   "cell_type": "code",
   "execution_count": null,
   "metadata": {
    "colab": {
     "base_uri": "https://localhost:8080/"
    },
    "id": "OVP02S5GSF2d",
    "outputId": "e6ebf11a-d83e-4c5f-82fa-a43d1e7a8ef2"
   },
   "outputs": [
    {
     "name": "stdout",
     "output_type": "stream",
     "text": [
      "TOP 15\n"
     ]
    },
    {
     "data": {
      "text/plain": [
       "9380.861703695178"
      ]
     },
     "execution_count": 20,
     "metadata": {},
     "output_type": "execute_result"
    }
   ],
   "source": [
    "# Perform train-test split\n",
    "X_train, X_test, y_train, y_test = train_test_split(X6, y, test_size=0.2, random_state=42)\n",
    "\n",
    "reg = LinearRegression().fit(X_train, y_train)\n",
    "print('TOP 15')\n",
    "y_pred = reg.predict(X_test)\n",
    "mean_squared_error(y_test, y_pred, squared=False)"
   ]
  },
  {
   "cell_type": "code",
   "execution_count": null,
   "metadata": {
    "id": "rcvmhFBMTPSy"
   },
   "outputs": [],
   "source": [
    "predictions = reg.predict(XT_scal_15f)\n",
    "output = pd.DataFrame({'Id':df_test['id'].values,\n",
    "                   'Predicted':predictions.flatten()})\n",
    "output.to_csv('mr15.csv', index=False)"
   ]
  },
  {
   "cell_type": "markdown",
   "metadata": {
    "id": "JDOoNup-WF3H"
   },
   "source": [
    "## Ridge Regression"
   ]
  },
  {
   "cell_type": "code",
   "execution_count": null,
   "metadata": {
    "colab": {
     "base_uri": "https://localhost:8080/"
    },
    "id": "oCTBAAX3WF3J",
    "outputId": "77df8240-6eeb-4855-93ed-85bfba4984f8"
   },
   "outputs": [
    {
     "name": "stdout",
     "output_type": "stream",
     "text": [
      "TOP 10\n"
     ]
    },
    {
     "data": {
      "text/plain": [
       "9383.015286864731"
      ]
     },
     "execution_count": 22,
     "metadata": {},
     "output_type": "execute_result"
    }
   ],
   "source": [
    "# Perform train-test split\n",
    "X_train, X_test, y_train, y_test = train_test_split(X4, y, test_size=0.2, random_state=42)\n",
    "reg = Ridge(alpha=10).fit(X_train, y_train)\n",
    "print('TOP 10')\n",
    "y_pred = reg.predict(X_test)\n",
    "mean_squared_error(y_test, y_pred, squared=False)"
   ]
  },
  {
   "cell_type": "code",
   "execution_count": null,
   "metadata": {
    "id": "FcqzvDnzWF3L"
   },
   "outputs": [],
   "source": [
    "predictions = reg.predict(XT_scal_10f)\n",
    "output = pd.DataFrame({'Id':df_test['id'].values,\n",
    "                   'Predicted':predictions.flatten()})\n",
    "output.to_csv('ridge10.csv', index=False)\n"
   ]
  },
  {
   "cell_type": "code",
   "execution_count": null,
   "metadata": {
    "colab": {
     "base_uri": "https://localhost:8080/"
    },
    "id": "jeLNVV1uWF3M",
    "outputId": "2e562bcd-6de1-4906-be49-1854b63157c3"
   },
   "outputs": [
    {
     "name": "stdout",
     "output_type": "stream",
     "text": [
      "TOP 20\n"
     ]
    },
    {
     "data": {
      "text/plain": [
       "9398.307547444096"
      ]
     },
     "execution_count": 24,
     "metadata": {},
     "output_type": "execute_result"
    }
   ],
   "source": [
    "# Perform train-test split\n",
    "X_train, X_test, y_train, y_test = train_test_split(X3, y, test_size=0.2, random_state=42)\n",
    "\n",
    "reg = Ridge(alpha=10).fit(X_train, y_train)\n",
    "print('TOP 20')\n",
    "y_pred = reg.predict(X_test)\n",
    "mean_squared_error(y_test, y_pred, squared=False)"
   ]
  },
  {
   "cell_type": "code",
   "execution_count": null,
   "metadata": {
    "id": "kSbEmJJPWF3N"
   },
   "outputs": [],
   "source": [
    "predictions = reg.predict(XT_scal_20f)\n",
    "output = pd.DataFrame({'Id':df_test['id'].values,\n",
    "                   'Predicted':predictions.flatten()})\n",
    "output.to_csv('ridge20.csv', index=False)"
   ]
  },
  {
   "cell_type": "code",
   "execution_count": null,
   "metadata": {
    "colab": {
     "base_uri": "https://localhost:8080/"
    },
    "id": "7M4SYf26WF3O",
    "outputId": "91888715-0241-42fa-ded5-39385b332dda"
   },
   "outputs": [
    {
     "name": "stdout",
     "output_type": "stream",
     "text": [
      "TOP 15\n"
     ]
    },
    {
     "data": {
      "text/plain": [
       "9379.568270870874"
      ]
     },
     "execution_count": 26,
     "metadata": {},
     "output_type": "execute_result"
    }
   ],
   "source": [
    "# Perform train-test split\n",
    "X_train, X_test, y_train, y_test = train_test_split(X6, y, test_size=0.2, random_state=42)\n",
    "\n",
    "reg = Ridge(alpha=50.51).fit(X_train, y_train)\n",
    "print('TOP 15')\n",
    "y_pred = reg.predict(X_test)\n",
    "mean_squared_error(y_test, y_pred, squared=False)"
   ]
  },
  {
   "cell_type": "code",
   "execution_count": null,
   "metadata": {
    "id": "yyuWDCnaWF3P"
   },
   "outputs": [],
   "source": [
    "predictions = reg.predict(XT_scal_15f)\n",
    "output = pd.DataFrame({'Id':df_test['id'].values,\n",
    "                   'Predicted':predictions.flatten()})\n",
    "output.to_csv('ridge15_GS.csv', index=False)"
   ]
  },
  {
   "cell_type": "markdown",
   "metadata": {
    "id": "vvluWKTuX1w5"
   },
   "source": [
    "## Lasso Regression"
   ]
  },
  {
   "cell_type": "code",
   "execution_count": null,
   "metadata": {
    "colab": {
     "base_uri": "https://localhost:8080/"
    },
    "id": "iNRQPn3zX1w6",
    "outputId": "5dc5a4fb-b0c4-425e-c0e3-abf6aa0cee1f"
   },
   "outputs": [
    {
     "name": "stdout",
     "output_type": "stream",
     "text": [
      "TOP 10\n"
     ]
    },
    {
     "data": {
      "text/plain": [
       "9384.903051075458"
      ]
     },
     "execution_count": 28,
     "metadata": {},
     "output_type": "execute_result"
    }
   ],
   "source": [
    "# Perform train-test split\n",
    "X_train, X_test, y_train, y_test = train_test_split(X4, y, test_size=0.2, random_state=42)\n",
    "reg = Lasso(alpha=10).fit(X_train, y_train)\n",
    "print('TOP 10')\n",
    "y_pred = reg.predict(X_test)\n",
    "mean_squared_error(y_test, y_pred, squared=False)"
   ]
  },
  {
   "cell_type": "code",
   "execution_count": null,
   "metadata": {
    "id": "ArsQulYBX1w8"
   },
   "outputs": [],
   "source": [
    "predictions = reg.predict(XT_scal_10f)\n",
    "output = pd.DataFrame({'Id':df_test['id'].values,\n",
    "                   'Predicted':predictions.flatten()})\n",
    "output.to_csv('lasso10_vanilla.csv', index=False)\n"
   ]
  },
  {
   "cell_type": "code",
   "execution_count": null,
   "metadata": {
    "colab": {
     "base_uri": "https://localhost:8080/"
    },
    "id": "oPtflVHQX1w-",
    "outputId": "3880e904-20d2-4c2d-c008-579c47a529cd"
   },
   "outputs": [
    {
     "name": "stdout",
     "output_type": "stream",
     "text": [
      "TOP 20\n"
     ]
    },
    {
     "data": {
      "text/plain": [
       "9392.334426722406"
      ]
     },
     "execution_count": 30,
     "metadata": {},
     "output_type": "execute_result"
    }
   ],
   "source": [
    "# Perform train-test split\n",
    "X_train, X_test, y_train, y_test = train_test_split(X3, y, test_size=0.2, random_state=42)\n",
    "\n",
    "reg = Lasso(alpha=10).fit(X_train, y_train)\n",
    "print('TOP 20')\n",
    "y_pred = reg.predict(X_test)\n",
    "mean_squared_error(y_test, y_pred, squared=False)"
   ]
  },
  {
   "cell_type": "code",
   "execution_count": null,
   "metadata": {
    "id": "sahzKugoX1w_"
   },
   "outputs": [],
   "source": [
    "predictions = reg.predict(XT_scal_20f)\n",
    "output = pd.DataFrame({'Id':df_test['id'].values,\n",
    "                   'Predicted':predictions.flatten()})\n",
    "output.to_csv('lasso20.csv', index=False)"
   ]
  },
  {
   "cell_type": "code",
   "execution_count": null,
   "metadata": {
    "colab": {
     "base_uri": "https://localhost:8080/"
    },
    "id": "0jfVYWJJX1w_",
    "outputId": "988c021d-bd2e-4171-96a8-7b9da22b3ee5"
   },
   "outputs": [
    {
     "name": "stdout",
     "output_type": "stream",
     "text": [
      "TOP 15\n"
     ]
    },
    {
     "data": {
      "text/plain": [
       "9375.154165742146"
      ]
     },
     "execution_count": 32,
     "metadata": {},
     "output_type": "execute_result"
    }
   ],
   "source": [
    "# Perform train-test split\n",
    "X_train, X_test, y_train, y_test = train_test_split(X6, y, test_size=0.2, random_state=42)\n",
    "\n",
    "reg = Lasso(alpha=10).fit(X_train, y_train)\n",
    "print('TOP 15')\n",
    "y_pred = reg.predict(X_test)\n",
    "mean_squared_error(y_test, y_pred, squared=False)"
   ]
  },
  {
   "cell_type": "code",
   "execution_count": null,
   "metadata": {
    "id": "3-0UIozsX1xA"
   },
   "outputs": [],
   "source": [
    "predictions = reg.predict(XT_scal_15f)\n",
    "output = pd.DataFrame({'Id':df_test['id'].values,\n",
    "                   'Predicted':predictions.flatten()})\n",
    "output.to_csv('lasso15_vanilla.csv', index=False)"
   ]
  },
  {
   "cell_type": "markdown",
   "metadata": {
    "id": "LzXQQnVS6wkE"
   },
   "source": [
    "## Random Forest"
   ]
  },
  {
   "cell_type": "code",
   "execution_count": null,
   "metadata": {
    "id": "cM3LVEpXc43i"
   },
   "outputs": [],
   "source": [
    "params_best = {'random_state':42}"
   ]
  },
  {
   "cell_type": "code",
   "execution_count": null,
   "metadata": {
    "colab": {
     "base_uri": "https://localhost:8080/"
    },
    "id": "Kk7l9LWQ6wkH",
    "outputId": "11e977e7-8ed6-4ebb-ceda-01a0ffa63d55"
   },
   "outputs": [
    {
     "name": "stdout",
     "output_type": "stream",
     "text": [
      "TOP 10\n"
     ]
    },
    {
     "data": {
      "text/plain": [
       "9939.980212866385"
      ]
     },
     "execution_count": 35,
     "metadata": {},
     "output_type": "execute_result"
    }
   ],
   "source": [
    "# Perform train-test split\n",
    "X_train, X_test, y_train, y_test = train_test_split(X4, y, test_size=0.2, random_state=42)\n",
    "\n",
    "reg = RandomForestRegressor(**params_best).fit(X_train, y_train)\n",
    "print('TOP 10')\n",
    "y_pred = reg.predict(X_test)\n",
    "mean_squared_error(y_test, y_pred, squared=False)"
   ]
  },
  {
   "cell_type": "code",
   "execution_count": null,
   "metadata": {
    "id": "mWCuAtGebzc3"
   },
   "outputs": [],
   "source": [
    "predictions = reg.predict(XT_scal_10f)\n",
    "output = pd.DataFrame({'Id':df_test['id'].values,\n",
    "                   'Predicted':predictions.flatten()})\n",
    "output.to_csv('RF10.csv', index=False)"
   ]
  },
  {
   "cell_type": "code",
   "execution_count": null,
   "metadata": {
    "colab": {
     "base_uri": "https://localhost:8080/"
    },
    "id": "8DvZ59jd6wkK",
    "outputId": "c748fd67-ac7c-490a-d7f9-c231fb461197"
   },
   "outputs": [
    {
     "name": "stdout",
     "output_type": "stream",
     "text": [
      "TOP 20\n"
     ]
    },
    {
     "data": {
      "text/plain": [
       "9940.871527313751"
      ]
     },
     "execution_count": 37,
     "metadata": {},
     "output_type": "execute_result"
    }
   ],
   "source": [
    "# Perform train-test split\n",
    "X_train, X_test, y_train, y_test = train_test_split(X3, y, test_size=0.2, random_state=42)\n",
    "reg = RandomForestRegressor(**params_best).fit(X_train, y_train)\n",
    "print('TOP 20')\n",
    "y_pred = reg.predict(X_test)\n",
    "mean_squared_error(y_test, y_pred, squared=False)"
   ]
  },
  {
   "cell_type": "code",
   "execution_count": null,
   "metadata": {
    "id": "k1dquin2di9c"
   },
   "outputs": [],
   "source": [
    "predictions = reg.predict(XT_scal_20f)\n",
    "output = pd.DataFrame({'Id':df_test['id'].values,\n",
    "                   'Predicted':predictions.flatten()})\n",
    "output.to_csv('RF20.csv', index=False)"
   ]
  },
  {
   "cell_type": "code",
   "execution_count": null,
   "metadata": {
    "colab": {
     "base_uri": "https://localhost:8080/"
    },
    "id": "7MkLEIa16wkL",
    "outputId": "b4178e56-b6b8-48ef-fb98-9b9998238f7f"
   },
   "outputs": [
    {
     "name": "stdout",
     "output_type": "stream",
     "text": [
      "TOP 15\n"
     ]
    },
    {
     "data": {
      "text/plain": [
       "9771.01058627066"
      ]
     },
     "execution_count": 39,
     "metadata": {},
     "output_type": "execute_result"
    }
   ],
   "source": [
    "# Perform train-test split\n",
    "X_train, X_test, y_train, y_test = train_test_split(X6, y, test_size=0.2, random_state=42)\n",
    "reg = RandomForestRegressor(**params_best).fit(X_train, y_train)\n",
    "print('TOP 15')\n",
    "y_pred = reg.predict(X_test)\n",
    "mean_squared_error(y_test, y_pred, squared=False)"
   ]
  },
  {
   "cell_type": "code",
   "execution_count": null,
   "metadata": {
    "id": "yPUB_fThdcBZ"
   },
   "outputs": [],
   "source": [
    "predictions = reg.predict(XT_scal_15f)\n",
    "output = pd.DataFrame({'Id':df_test['id'].values,\n",
    "                   'Predicted':predictions.flatten()})\n",
    "output.to_csv('RF15.csv', index=False)"
   ]
  },
  {
   "cell_type": "markdown",
   "metadata": {
    "id": "TX7jZqgQk8og"
   },
   "source": [
    "## SVM Regressor"
   ]
  },
  {
   "cell_type": "code",
   "execution_count": null,
   "metadata": {
    "colab": {
     "base_uri": "https://localhost:8080/"
    },
    "id": "lY0GzTG1k8oh",
    "outputId": "7a04f80d-f598-463d-8506-174b24579a42"
   },
   "outputs": [
    {
     "name": "stdout",
     "output_type": "stream",
     "text": [
      "TOP 10\n"
     ]
    },
    {
     "data": {
      "text/plain": [
       "9651.574083192172"
      ]
     },
     "execution_count": 41,
     "metadata": {},
     "output_type": "execute_result"
    }
   ],
   "source": [
    "# Perform train-test split\n",
    "X_train, X_test, y_train, y_test = train_test_split(X4, y, test_size=0.2, random_state=42)\n",
    "\n",
    "reg = SVR().fit(X_train, y_train)\n",
    "print('TOP 10')\n",
    "y_pred = reg.predict(X_test)\n",
    "mean_squared_error(y_test, y_pred, squared=False)\n"
   ]
  },
  {
   "cell_type": "code",
   "execution_count": null,
   "metadata": {
    "id": "D8_L2xU5lFEn"
   },
   "outputs": [],
   "source": [
    "predictions = reg.predict(XT_scal_10f)\n",
    "output = pd.DataFrame({'Id':df_test['id'].values,\n",
    "                   'Predicted':predictions.flatten()})\n",
    "output.to_csv('SVR10.csv', index=False)"
   ]
  },
  {
   "cell_type": "code",
   "execution_count": null,
   "metadata": {
    "colab": {
     "base_uri": "https://localhost:8080/"
    },
    "id": "8MB4XBMzk8ok",
    "outputId": "1137e382-76ad-4a47-d181-b5f2b12ed1ca"
   },
   "outputs": [
    {
     "name": "stdout",
     "output_type": "stream",
     "text": [
      "TOP 20\n"
     ]
    },
    {
     "data": {
      "text/plain": [
       "9646.608030053492"
      ]
     },
     "execution_count": 43,
     "metadata": {},
     "output_type": "execute_result"
    }
   ],
   "source": [
    "# Perform train-test split\n",
    "X_train, X_test, y_train, y_test = train_test_split(X3, y, test_size=0.2, random_state=42)\n",
    "\n",
    "reg = SVR().fit(X_train, y_train)\n",
    "print('TOP 20')\n",
    "y_pred = reg.predict(X_test)\n",
    "mean_squared_error(y_test, y_pred, squared=False)\n"
   ]
  },
  {
   "cell_type": "code",
   "execution_count": null,
   "metadata": {
    "id": "SYvYMr1rlJ8_"
   },
   "outputs": [],
   "source": [
    "predictions = reg.predict(XT_scal_20f)\n",
    "output = pd.DataFrame({'Id':df_test['id'].values,\n",
    "                   'Predicted':predictions.flatten()})\n",
    "output.to_csv('SVR20.csv', index=False)"
   ]
  },
  {
   "cell_type": "code",
   "execution_count": null,
   "metadata": {
    "colab": {
     "base_uri": "https://localhost:8080/"
    },
    "id": "lUIRf813k8on",
    "outputId": "db16f5f6-6381-4794-a8de-2f3d3197fa5f"
   },
   "outputs": [
    {
     "name": "stdout",
     "output_type": "stream",
     "text": [
      "TOP 15\n"
     ]
    },
    {
     "data": {
      "text/plain": [
       "9651.51202982624"
      ]
     },
     "execution_count": 45,
     "metadata": {},
     "output_type": "execute_result"
    }
   ],
   "source": [
    "# Perform train-test split\n",
    "X_train, X_test, y_train, y_test = train_test_split(X6, y, test_size=0.2, random_state=42)\n",
    "\n",
    "reg = SVR().fit(X_train, y_train)\n",
    "print('TOP 15')\n",
    "y_pred = reg.predict(X_test)\n",
    "mean_squared_error(y_test, y_pred, squared=False)"
   ]
  },
  {
   "cell_type": "code",
   "execution_count": null,
   "metadata": {
    "id": "fr-jzwwxlPUs"
   },
   "outputs": [],
   "source": [
    "predictions = reg.predict(XT_scal_15f)\n",
    "output = pd.DataFrame({'Id':df_test['id'].values,\n",
    "                   'Predicted':predictions.flatten()})\n",
    "output.to_csv('SVR15.csv', index=False)"
   ]
  },
  {
   "cell_type": "markdown",
   "metadata": {
    "id": "PcpW8pEpJIdF"
   },
   "source": [
    "## Neural Network"
   ]
  },
  {
   "cell_type": "code",
   "execution_count": null,
   "metadata": {
    "id": "BtrA9QP2JK-d"
   },
   "outputs": [],
   "source": [
    "# Define the neural network architecture\n",
    "class RegressionNet(nn.Module):\n",
    "    def __init__(self, input_size):\n",
    "        super(RegressionNet, self).__init__()\n",
    "        self.fc1 = nn.Linear(input_size, 64)\n",
    "        self.fc2 = nn.Linear(64, 32)\n",
    "        self.fc3 = nn.Linear(32, 1)\n",
    "\n",
    "    def forward(self, x):\n",
    "        x = torch.relu(self.fc1(x))\n",
    "        x = torch.relu(self.fc2(x))\n",
    "        x = self.fc3(x)\n",
    "        return x\n"
   ]
  },
  {
   "cell_type": "code",
   "execution_count": null,
   "metadata": {
    "id": "vPbZKwY3JPFR"
   },
   "outputs": [],
   "source": [
    "def network_runner(X_train_tensor,X_test_tensor,y_train_tensor,y_test_tensor):\n",
    "  input_size = X_train_tensor.shape[1]\n",
    "  model = RegressionNet(input_size)\n",
    "  # Define the loss function and optimizer\n",
    "  criterion = nn.MSELoss()\n",
    "  optimizer = optim.Adam(model.parameters(), lr=0.001)\n",
    "  epochs = 30\n",
    "  batch_size = 5\n",
    "  for epoch in range(epochs):\n",
    "      running_loss = 0.0\n",
    "      for i in range(0, len(X_train_tensor), batch_size):\n",
    "          # Zero the parameter gradients\n",
    "          optimizer.zero_grad()\n",
    "\n",
    "          # Forward pass\n",
    "          outputs = model(X_train_tensor[i:i+batch_size])\n",
    "          loss = criterion(outputs, y_train_tensor[i:i+batch_size].unsqueeze(1))\n",
    "\n",
    "          # Backward pass and optimization\n",
    "          loss.backward()\n",
    "          optimizer.step()\n",
    "\n",
    "          # Accumulate the loss\n",
    "          running_loss += loss.item()\n",
    "\n",
    "      # Print the average loss for the epoch\n",
    "      avg_loss = running_loss / (len(X_train_tensor) / batch_size)\n",
    "      # print(f\"Epoch [{epoch+1}/{epochs}], Loss: {avg_loss}\")\n",
    "\n",
    "  # Evaluate the model\n",
    "  with torch.no_grad():\n",
    "      model.eval()\n",
    "      predictions = model(X_test_tensor)\n",
    "      mse = criterion(predictions, y_test_tensor.unsqueeze(1))\n",
    "      rmse = torch.sqrt(mse)\n",
    "      print(\"Root Mean Squared Error 10(RMSE):\", rmse.item())\n",
    "  return model\n",
    "\n",
    "def network_validator(model,X_validation_tensor):\n",
    "  with torch.no_grad():\n",
    "    model.eval()\n",
    "    predictions = model(X_validation_tensor)\n",
    "  return predictions"
   ]
  },
  {
   "cell_type": "code",
   "execution_count": null,
   "metadata": {
    "colab": {
     "base_uri": "https://localhost:8080/"
    },
    "id": "oKFdUM5vKGMi",
    "outputId": "3f93e5dd-a0f9-4f9a-d3fc-9e96cff68a30"
   },
   "outputs": [
    {
     "name": "stdout",
     "output_type": "stream",
     "text": [
      "Top 10\n",
      "Root Mean Squared Error 10(RMSE): 9396.8349609375\n"
     ]
    }
   ],
   "source": [
    "# Perform train-test split\n",
    "X_train, X_test, y_train, y_test = train_test_split(X4, y, test_size=0.2, random_state=42)\n",
    "\n",
    "\n",
    "# Convert the data to PyTorch tensors\n",
    "X_train_tensor = torch.tensor(X_train.values, dtype=torch.float32)\n",
    "y_train_tensor = torch.tensor(y_train.values, dtype=torch.float32)\n",
    "X_test_tensor = torch.tensor(X_test.values, dtype=torch.float32)\n",
    "y_test_tensor = torch.tensor(y_test.values, dtype=torch.float32)\n",
    "X_validation_tensor = torch.tensor(XT_scal_10f.values, dtype=torch.float32)\n",
    "\n",
    "print('Top 10')\n",
    "\n",
    "mod = network_runner(X_train_tensor,X_test_tensor,y_train_tensor,y_test_tensor)\n",
    "pred = network_validator(mod,X_validation_tensor)\n",
    "\n",
    "NN3_output = pd.DataFrame({'Id':df_test['id'].values,\n",
    "                   'Predicted':pred.numpy().flatten()})\n",
    "NN3_output.to_csv('NN3_10.csv', index=False)"
   ]
  },
  {
   "cell_type": "code",
   "execution_count": null,
   "metadata": {
    "colab": {
     "base_uri": "https://localhost:8080/"
    },
    "id": "_wQiyUnVKzEd",
    "outputId": "29741508-121a-42b9-de82-23eddd90b1bc"
   },
   "outputs": [
    {
     "name": "stdout",
     "output_type": "stream",
     "text": [
      "Top 20\n",
      "Root Mean Squared Error 10(RMSE): 9399.2587890625\n"
     ]
    }
   ],
   "source": [
    "# Perform train-test split\n",
    "X_train, X_test, y_train, y_test = train_test_split(X3, y, test_size=0.2, random_state=42)\n",
    "\n",
    "\n",
    "# Convert the data to PyTorch tensors\n",
    "X_train_tensor = torch.tensor(X_train.values, dtype=torch.float32)\n",
    "y_train_tensor = torch.tensor(y_train.values, dtype=torch.float32)\n",
    "X_test_tensor = torch.tensor(X_test.values, dtype=torch.float32)\n",
    "y_test_tensor = torch.tensor(y_test.values, dtype=torch.float32)\n",
    "X_validation_tensor = torch.tensor(XT_scal_20f.values, dtype=torch.float32)\n",
    "\n",
    "print('Top 20')\n",
    "\n",
    "mod = network_runner(X_train_tensor,X_test_tensor,y_train_tensor,y_test_tensor)\n",
    "pred = network_validator(mod,X_validation_tensor)\n",
    "\n",
    "NN3_output = pd.DataFrame({'Id':df_test['id'].values,\n",
    "                   'Predicted':pred.numpy().flatten()})\n",
    "NN3_output.to_csv('NN3_20.csv', index=False)"
   ]
  },
  {
   "cell_type": "code",
   "execution_count": null,
   "metadata": {
    "colab": {
     "base_uri": "https://localhost:8080/"
    },
    "id": "flDGcr8JK3N4",
    "outputId": "f92dcd44-f169-4556-ed41-09984e8a52f0"
   },
   "outputs": [
    {
     "name": "stdout",
     "output_type": "stream",
     "text": [
      "Top 15\n",
      "Root Mean Squared Error 10(RMSE): 9393.1005859375\n"
     ]
    }
   ],
   "source": [
    "# Perform train-test split\n",
    "X_train, X_test, y_train, y_test = train_test_split(X6, y, test_size=0.2, random_state=42)\n",
    "\n",
    "# Convert the data to PyTorch tensors\n",
    "X_train_tensor = torch.tensor(X_train.values, dtype=torch.float32)\n",
    "y_train_tensor = torch.tensor(y_train.values, dtype=torch.float32)\n",
    "X_test_tensor = torch.tensor(X_test.values, dtype=torch.float32)\n",
    "y_test_tensor = torch.tensor(y_test.values, dtype=torch.float32)\n",
    "X_validation_tensor = torch.tensor(XT_scal_15f.values, dtype=torch.float32)\n",
    "\n",
    "print('Top 15')\n",
    "\n",
    "mod = network_runner(X_train_tensor,X_test_tensor,y_train_tensor,y_test_tensor)\n",
    "pred = network_validator(mod,X_validation_tensor)\n",
    "\n",
    "NN3_output = pd.DataFrame({'Id':df_test['id'].values,\n",
    "                   'Predicted':pred.numpy().flatten()})\n",
    "NN3_output.to_csv('NN3_15.csv', index=False)"
   ]
  },
  {
   "cell_type": "markdown",
   "metadata": {},
   "source": [
    "# Standard Scaling"
   ]
  },
  {
   "cell_type": "code",
   "execution_count": null,
   "metadata": {
    "id": "7vASdmdcFj1C"
   },
   "outputs": [],
   "source": [
    "X3 = X2.loc[:,top_20_features ]\n",
    "X4 = X2.loc[:,top_10_features ]\n",
    "X6 = X2.loc[:,top_15_features ]"
   ]
  },
  {
   "cell_type": "markdown",
   "metadata": {
    "id": "fcT86OIO01l3"
   },
   "source": [
    "## Standardization\n"
   ]
  },
  {
   "cell_type": "code",
   "execution_count": null,
   "metadata": {
    "id": "WkIp2kH905GE",
    "tags": []
   },
   "outputs": [],
   "source": [
    "scaler = StandardScaler()\n",
    "X3 = scaler.fit_transform(X3)\n",
    "X4 = scaler.fit_transform(X4)\n",
    "X6 = scaler.fit_transform(X6)"
   ]
  },
  {
   "cell_type": "markdown",
   "metadata": {
    "id": "EgRbuCeWMKG-"
   },
   "source": [
    "## Test Dataset"
   ]
  },
  {
   "cell_type": "code",
   "execution_count": null,
   "metadata": {
    "id": "4LtRRl8qMk7e"
   },
   "outputs": [],
   "source": [
    "XT_scal_10f = XT_scaled.loc[:,top_10_features ].copy()\n",
    "XT_scal_20f = XT_scaled.loc[:,top_20_features ].copy()\n",
    "XT_scal_15f = XT_scaled.loc[:,top_15_features ].copy()"
   ]
  },
  {
   "cell_type": "code",
   "execution_count": null,
   "metadata": {
    "id": "6m-HpZhl2C9y"
   },
   "outputs": [],
   "source": [
    "XT_scal_10f = scaler.fit_transform(XT_scal_10f)\n",
    "XT_scal_20f = scaler.fit_transform(XT_scal_20f)\n",
    "XT_scal_15f = scaler.fit_transform(XT_scal_15f)"
   ]
  },
  {
   "cell_type": "markdown",
   "metadata": {
    "id": "_OSRA8L1L6F1"
   },
   "source": [
    "## Linear Regression"
   ]
  },
  {
   "cell_type": "code",
   "execution_count": null,
   "metadata": {
    "colab": {
     "base_uri": "https://localhost:8080/"
    },
    "id": "pW_I25laMAFw",
    "outputId": "c47ff727-da5d-412e-f438-8e904416cff5"
   },
   "outputs": [
    {
     "name": "stdout",
     "output_type": "stream",
     "text": [
      "TOP 10\n"
     ]
    },
    {
     "data": {
      "text/plain": [
       "9382.944411292845"
      ]
     },
     "execution_count": 17,
     "metadata": {},
     "output_type": "execute_result"
    }
   ],
   "source": [
    "# Perform train-test split\n",
    "X_train, X_test, y_train, y_test = train_test_split(X4, y, test_size=0.2, random_state=42)  # Adjust test_size as desired\n",
    "\n",
    "\n",
    "\n",
    "reg = LinearRegression().fit(X_train, y_train)\n",
    "print('TOP 10')\n",
    "y_pred = reg.predict(X_test)\n",
    "mean_squared_error(y_test, y_pred, squared=False)"
   ]
  },
  {
   "cell_type": "code",
   "execution_count": null,
   "metadata": {
    "id": "Ck_jFpLmvEm1"
   },
   "outputs": [],
   "source": [
    "predictions = reg.predict(XT_scal_10f)\n",
    "output = pd.DataFrame({'Id':df_test['id'].values,\n",
    "                   'Predicted':predictions.flatten()})\n",
    "output.to_csv('mr10.csv', index=False)\n"
   ]
  },
  {
   "cell_type": "code",
   "execution_count": null,
   "metadata": {
    "colab": {
     "base_uri": "https://localhost:8080/"
    },
    "id": "YL7H9l3eL5j2",
    "outputId": "2bff318c-bde9-41c4-840d-a489ec387399"
   },
   "outputs": [
    {
     "name": "stdout",
     "output_type": "stream",
     "text": [
      "TOP 20\n"
     ]
    },
    {
     "data": {
      "text/plain": [
       "9399.348064511521"
      ]
     },
     "execution_count": 19,
     "metadata": {},
     "output_type": "execute_result"
    }
   ],
   "source": [
    "# Perform train-test split\n",
    "X_train, X_test, y_train, y_test = train_test_split(X3, y, test_size=0.2, random_state=42)  # Adjust test_size as desired\n",
    "\n",
    "# Normalize the features using StandardScaler\n",
    "\n",
    "reg = LinearRegression().fit(X_train, y_train)\n",
    "print('TOP 20')\n",
    "y_pred = reg.predict(X_test)\n",
    "mean_squared_error(y_test, y_pred, squared=False)"
   ]
  },
  {
   "cell_type": "code",
   "execution_count": null,
   "metadata": {
    "id": "meUh7pRhS_FE"
   },
   "outputs": [],
   "source": [
    "predictions = reg.predict(XT_scal_20f)\n",
    "output = pd.DataFrame({'Id':df_test['id'].values,\n",
    "                   'Predicted':predictions.flatten()})\n",
    "output.to_csv('mr20.csv', index=False)"
   ]
  },
  {
   "cell_type": "code",
   "execution_count": null,
   "metadata": {
    "colab": {
     "base_uri": "https://localhost:8080/"
    },
    "id": "OVP02S5GSF2d",
    "outputId": "c5928a2c-d24b-4dcd-cc70-1a6055e38f1a"
   },
   "outputs": [
    {
     "name": "stdout",
     "output_type": "stream",
     "text": [
      "TOP 15\n"
     ]
    },
    {
     "data": {
      "text/plain": [
       "9380.861703695207"
      ]
     },
     "execution_count": 21,
     "metadata": {},
     "output_type": "execute_result"
    }
   ],
   "source": [
    "# Perform train-test split\n",
    "X_train, X_test, y_train, y_test = train_test_split(X6, y, test_size=0.2, random_state=42)  # Adjust test_size as desired\n",
    "\n",
    "# Normalize the features using StandardScaler\n",
    "reg = LinearRegression().fit(X_train, y_train)\n",
    "print('TOP 15')\n",
    "y_pred = reg.predict(X_test)\n",
    "mean_squared_error(y_test, y_pred, squared=False)"
   ]
  },
  {
   "cell_type": "code",
   "execution_count": null,
   "metadata": {
    "id": "rcvmhFBMTPSy"
   },
   "outputs": [],
   "source": [
    "predictions = reg.predict(XT_scal_15f)\n",
    "output = pd.DataFrame({'Id':df_test['id'].values,\n",
    "                   'Predicted':predictions.flatten()})\n",
    "output.to_csv('mr15.csv', index=False)"
   ]
  },
  {
   "cell_type": "markdown",
   "metadata": {
    "id": "JDOoNup-WF3H"
   },
   "source": [
    "## Ridge Regression"
   ]
  },
  {
   "cell_type": "code",
   "execution_count": null,
   "metadata": {
    "colab": {
     "base_uri": "https://localhost:8080/"
    },
    "id": "oCTBAAX3WF3J",
    "outputId": "e8142d01-3628-4f81-edf0-1d5424a31d47"
   },
   "outputs": [
    {
     "name": "stdout",
     "output_type": "stream",
     "text": [
      "TOP 10\n"
     ]
    },
    {
     "data": {
      "text/plain": [
       "9382.904680351803"
      ]
     },
     "execution_count": 23,
     "metadata": {},
     "output_type": "execute_result"
    }
   ],
   "source": [
    "# Perform train-test split\n",
    "X_train, X_test, y_train, y_test = train_test_split(X4, y, test_size=0.2, random_state=42)  # Adjust test_size as desired\n",
    "\n",
    "# Normalize the features using StandardScaler\n",
    "\n",
    "reg = Ridge(alpha=10).fit(X_train, y_train)\n",
    "print('TOP 10')\n",
    "y_pred = reg.predict(X_test)\n",
    "mean_squared_error(y_test, y_pred, squared=False)"
   ]
  },
  {
   "cell_type": "code",
   "execution_count": null,
   "metadata": {
    "id": "FcqzvDnzWF3L"
   },
   "outputs": [],
   "source": [
    "predictions = reg.predict(XT_scal_10f)\n",
    "output = pd.DataFrame({'Id':df_test['id'].values,\n",
    "                   'Predicted':predictions.flatten()})\n",
    "output.to_csv('ridge10.csv', index=False)\n"
   ]
  },
  {
   "cell_type": "code",
   "execution_count": null,
   "metadata": {
    "colab": {
     "base_uri": "https://localhost:8080/"
    },
    "id": "jeLNVV1uWF3M",
    "outputId": "e72fddb2-ea93-45b6-92b5-41b91963aa74"
   },
   "outputs": [
    {
     "name": "stdout",
     "output_type": "stream",
     "text": [
      "TOP 20\n"
     ]
    },
    {
     "data": {
      "text/plain": [
       "9399.326236793222"
      ]
     },
     "execution_count": 25,
     "metadata": {},
     "output_type": "execute_result"
    }
   ],
   "source": [
    "# Perform train-test split\n",
    "X_train, X_test, y_train, y_test = train_test_split(X3, y, test_size=0.2, random_state=42)  # Adjust test_size as desired\n",
    "\n",
    "# Normalize the features using StandardScaler\n",
    "\n",
    "reg = Ridge(alpha=10).fit(X_train, y_train)\n",
    "print('TOP 20')\n",
    "y_pred = reg.predict(X_test)\n",
    "mean_squared_error(y_test, y_pred, squared=False)"
   ]
  },
  {
   "cell_type": "code",
   "execution_count": null,
   "metadata": {
    "id": "kSbEmJJPWF3N"
   },
   "outputs": [],
   "source": [
    "predictions = reg.predict(XT_scal_20f)\n",
    "output = pd.DataFrame({'Id':df_test['id'].values,\n",
    "                   'Predicted':predictions.flatten()})\n",
    "output.to_csv('ridge20.csv', index=False)"
   ]
  },
  {
   "cell_type": "code",
   "execution_count": null,
   "metadata": {
    "colab": {
     "base_uri": "https://localhost:8080/"
    },
    "id": "7M4SYf26WF3O",
    "outputId": "2f22ab5e-dbe8-485a-9f13-4ddcba06c1cf"
   },
   "outputs": [
    {
     "name": "stdout",
     "output_type": "stream",
     "text": [
      "TOP 15\n"
     ]
    },
    {
     "data": {
      "text/plain": [
       "9380.826879154916"
      ]
     },
     "execution_count": 27,
     "metadata": {},
     "output_type": "execute_result"
    }
   ],
   "source": [
    "# Perform train-test split\n",
    "X_train, X_test, y_train, y_test = train_test_split(X6, y, test_size=0.2, random_state=42)  # Adjust test_size as desired\n",
    "\n",
    "# Normalize the features using StandardScaler\n",
    "reg = Ridge(alpha=10).fit(X_train, y_train)\n",
    "print('TOP 15')\n",
    "y_pred = reg.predict(X_test)\n",
    "mean_squared_error(y_test, y_pred, squared=False)"
   ]
  },
  {
   "cell_type": "code",
   "execution_count": null,
   "metadata": {
    "id": "yyuWDCnaWF3P"
   },
   "outputs": [],
   "source": [
    "predictions = reg.predict(XT_scal_15f)\n",
    "output = pd.DataFrame({'Id':df_test['id'].values,\n",
    "                   'Predicted':predictions.flatten()})\n",
    "output.to_csv('ridge15.csv', index=False)"
   ]
  },
  {
   "cell_type": "markdown",
   "metadata": {
    "id": "vvluWKTuX1w5"
   },
   "source": [
    "## Lasso Regression"
   ]
  },
  {
   "cell_type": "code",
   "execution_count": null,
   "metadata": {
    "colab": {
     "base_uri": "https://localhost:8080/"
    },
    "id": "iNRQPn3zX1w6",
    "outputId": "dee47ed2-4afb-4263-e30c-167056c92bf0"
   },
   "outputs": [
    {
     "name": "stdout",
     "output_type": "stream",
     "text": [
      "TOP 10\n"
     ]
    },
    {
     "data": {
      "text/plain": [
       "9382.92145286915"
      ]
     },
     "execution_count": 29,
     "metadata": {},
     "output_type": "execute_result"
    }
   ],
   "source": [
    "# Perform train-test split\n",
    "X_train, X_test, y_train, y_test = train_test_split(X4, y, test_size=0.2, random_state=42)  # Adjust test_size as desired\n",
    "\n",
    "# Normalize the features using StandardScaler\n",
    "\n",
    "reg = Lasso(alpha=10).fit(X_train, y_train)\n",
    "print('TOP 10')\n",
    "y_pred = reg.predict(X_test)\n",
    "mean_squared_error(y_test, y_pred, squared=False)"
   ]
  },
  {
   "cell_type": "code",
   "execution_count": null,
   "metadata": {
    "id": "ArsQulYBX1w8"
   },
   "outputs": [],
   "source": [
    "predictions = reg.predict(XT_scal_10f)\n",
    "output = pd.DataFrame({'Id':df_test['id'].values,\n",
    "                   'Predicted':predictions.flatten()})\n",
    "output.to_csv('lasso10.csv', index=False)\n"
   ]
  },
  {
   "cell_type": "code",
   "execution_count": null,
   "metadata": {
    "colab": {
     "base_uri": "https://localhost:8080/"
    },
    "id": "oPtflVHQX1w-",
    "outputId": "e7aae56e-fcd6-418c-f81b-a10686696ad2"
   },
   "outputs": [
    {
     "name": "stdout",
     "output_type": "stream",
     "text": [
      "TOP 20\n"
     ]
    },
    {
     "data": {
      "text/plain": [
       "9398.592908031214"
      ]
     },
     "execution_count": 31,
     "metadata": {},
     "output_type": "execute_result"
    }
   ],
   "source": [
    "# Perform train-test split\n",
    "X_train, X_test, y_train, y_test = train_test_split(X3, y, test_size=0.2, random_state=42)  # Adjust test_size as desired\n",
    "\n",
    "# Normalize the features using StandardScaler\n",
    "\n",
    "reg = Lasso(alpha=10).fit(X_train, y_train)\n",
    "print('TOP 20')\n",
    "y_pred = reg.predict(X_test)\n",
    "mean_squared_error(y_test, y_pred, squared=False)"
   ]
  },
  {
   "cell_type": "code",
   "execution_count": null,
   "metadata": {
    "id": "sahzKugoX1w_"
   },
   "outputs": [],
   "source": [
    "predictions = reg.predict(XT_scal_20f)\n",
    "output = pd.DataFrame({'Id':df_test['id'].values,\n",
    "                   'Predicted':predictions.flatten()})\n",
    "output.to_csv('lasso20.csv', index=False)"
   ]
  },
  {
   "cell_type": "code",
   "execution_count": null,
   "metadata": {
    "colab": {
     "base_uri": "https://localhost:8080/"
    },
    "id": "0jfVYWJJX1w_",
    "outputId": "8988e7fd-766e-495a-d792-9374a964261b"
   },
   "outputs": [
    {
     "name": "stdout",
     "output_type": "stream",
     "text": [
      "TOP 15\n"
     ]
    },
    {
     "data": {
      "text/plain": [
       "9380.479438297218"
      ]
     },
     "execution_count": 33,
     "metadata": {},
     "output_type": "execute_result"
    }
   ],
   "source": [
    "# Perform train-test split\n",
    "X_train, X_test, y_train, y_test = train_test_split(X6, y, test_size=0.2, random_state=42)  # Adjust test_size as desired\n",
    "\n",
    "# Normalize the features using StandardScaler\n",
    "reg = Lasso(alpha=10).fit(X_train, y_train)\n",
    "print('TOP 15')\n",
    "y_pred = reg.predict(X_test)\n",
    "mean_squared_error(y_test, y_pred, squared=False)"
   ]
  },
  {
   "cell_type": "code",
   "execution_count": null,
   "metadata": {
    "id": "3-0UIozsX1xA"
   },
   "outputs": [],
   "source": [
    "predictions = reg.predict(XT_scal_15f)\n",
    "output = pd.DataFrame({'Id':df_test['id'].values,\n",
    "                   'Predicted':predictions.flatten()})\n",
    "output.to_csv('lasso15sc.csv', index=False)"
   ]
  },
  {
   "cell_type": "markdown",
   "metadata": {
    "id": "MkmZAT5fkVGI"
   },
   "source": [
    "## Random Forest"
   ]
  },
  {
   "cell_type": "code",
   "execution_count": null,
   "metadata": {
    "id": "cM3LVEpXc43i"
   },
   "outputs": [],
   "source": [
    "params_best = {'random_state':42}"
   ]
  },
  {
   "cell_type": "code",
   "execution_count": null,
   "metadata": {
    "colab": {
     "base_uri": "https://localhost:8080/"
    },
    "id": "9oALKp1okVGL",
    "outputId": "19c2ed68-5ee9-490f-e12b-9761c3ae1334"
   },
   "outputs": [
    {
     "name": "stdout",
     "output_type": "stream",
     "text": [
      "TOP 10\n"
     ]
    },
    {
     "data": {
      "text/plain": [
       "9886.914123502098"
      ]
     },
     "execution_count": 36,
     "metadata": {},
     "output_type": "execute_result"
    }
   ],
   "source": [
    "# Perform train-test split\n",
    "X_train, X_test, y_train, y_test = train_test_split(X4, y, test_size=0.2, random_state=42)  # Adjust test_size as desired\n",
    "\n",
    "\n",
    "reg = RandomForestRegressor(**params_best).fit(X_train, y_train)\n",
    "print('TOP 10')\n",
    "y_pred = reg.predict(X_test)\n",
    "mean_squared_error(y_test, y_pred, squared=False)"
   ]
  },
  {
   "cell_type": "code",
   "execution_count": null,
   "metadata": {
    "id": "mWCuAtGebzc3"
   },
   "outputs": [],
   "source": [
    "predictions = reg.predict(XT_scal_10f)\n",
    "output = pd.DataFrame({'Id':df_test['id'].values,\n",
    "                   'Predicted':predictions.flatten()})\n",
    "output.to_csv('RF10.csv', index=False)"
   ]
  },
  {
   "cell_type": "code",
   "execution_count": null,
   "metadata": {
    "colab": {
     "base_uri": "https://localhost:8080/"
    },
    "id": "8eAn1UqGkVGO",
    "outputId": "e506a64d-fea8-479b-bec9-3b30e733e76e"
   },
   "outputs": [
    {
     "name": "stdout",
     "output_type": "stream",
     "text": [
      "TOP 20\n"
     ]
    },
    {
     "data": {
      "text/plain": [
       "9928.15357986691"
      ]
     },
     "execution_count": 38,
     "metadata": {},
     "output_type": "execute_result"
    }
   ],
   "source": [
    "# Perform train-test split\n",
    "X_train, X_test, y_train, y_test = train_test_split(X3, y, test_size=0.2, random_state=42)  # Adjust test_size as desired\n",
    "\n",
    "reg = RandomForestRegressor(**params_best).fit(X_train, y_train)\n",
    "print('TOP 20')\n",
    "y_pred = reg.predict(X_test)\n",
    "mean_squared_error(y_test, y_pred, squared=False)"
   ]
  },
  {
   "cell_type": "code",
   "execution_count": null,
   "metadata": {
    "id": "k1dquin2di9c"
   },
   "outputs": [],
   "source": [
    "predictions = reg.predict(XT_scal_20f)\n",
    "output = pd.DataFrame({'Id':df_test['id'].values,\n",
    "                   'Predicted':predictions.flatten()})\n",
    "output.to_csv('RF20.csv', index=False)"
   ]
  },
  {
   "cell_type": "code",
   "execution_count": null,
   "metadata": {
    "colab": {
     "base_uri": "https://localhost:8080/"
    },
    "id": "60qeLVXLkVGQ",
    "outputId": "d9d9d96c-9e00-4b3c-af22-143a91c0056e"
   },
   "outputs": [
    {
     "name": "stdout",
     "output_type": "stream",
     "text": [
      "TOP 15\n"
     ]
    },
    {
     "data": {
      "text/plain": [
       "9824.296806884782"
      ]
     },
     "execution_count": 40,
     "metadata": {},
     "output_type": "execute_result"
    }
   ],
   "source": [
    "# Perform train-test split\n",
    "X_train, X_test, y_train, y_test = train_test_split(X6, y, test_size=0.2, random_state=42)  # Adjust test_size as desired\n",
    "\n",
    "reg = RandomForestRegressor(**params_best).fit(X_train, y_train)\n",
    "print('TOP 15')\n",
    "y_pred = reg.predict(X_test)\n",
    "mean_squared_error(y_test, y_pred, squared=False)"
   ]
  },
  {
   "cell_type": "code",
   "execution_count": null,
   "metadata": {
    "id": "yPUB_fThdcBZ"
   },
   "outputs": [],
   "source": [
    "predictions = reg.predict(XT_scal_15f)\n",
    "output = pd.DataFrame({'Id':df_test['id'].values,\n",
    "                   'Predicted':predictions.flatten()})\n",
    "output.to_csv('RF15.csv', index=False)"
   ]
  },
  {
   "cell_type": "markdown",
   "metadata": {
    "id": "PcpW8pEpJIdF"
   },
   "source": [
    "## Neural Network"
   ]
  },
  {
   "cell_type": "code",
   "execution_count": null,
   "metadata": {
    "colab": {
     "base_uri": "https://localhost:8080/"
    },
    "id": "oKFdUM5vKGMi",
    "outputId": "5d821f22-c313-4283-d2d6-cc605200d0f6"
   },
   "outputs": [
    {
     "name": "stdout",
     "output_type": "stream",
     "text": [
      "Top 10\n",
      "Root Mean Squared Error 10(RMSE): 9389.2890625\n"
     ]
    }
   ],
   "source": [
    "# Perform train-test split\n",
    "X_train, X_test, y_train, y_test = train_test_split(X4, y, test_size=0.2, random_state=42)  # Adjust test_size as desired\n",
    "\n",
    "\n",
    "# Convert the data to PyTorch tensors\n",
    "X_train_tensor = torch.tensor(X_train, dtype=torch.float32)\n",
    "y_train_tensor = torch.tensor(y_train.values, dtype=torch.float32)\n",
    "X_test_tensor = torch.tensor(X_test, dtype=torch.float32)\n",
    "y_test_tensor = torch.tensor(y_test.values, dtype=torch.float32)\n",
    "X_validation_tensor = torch.tensor(XT_scal_10f, dtype=torch.float32)\n",
    "\n",
    "print('Top 10')\n",
    "\n",
    "mod = network_runner(X_train_tensor,X_test_tensor,y_train_tensor,y_test_tensor)\n",
    "pred = network_validator(mod,X_validation_tensor)\n",
    "\n",
    "NN3_output = pd.DataFrame({'Id':df_test['id'].values,\n",
    "                   'Predicted':pred.numpy().flatten()})\n",
    "NN3_output.to_csv('NN3_10.csv', index=False)"
   ]
  },
  {
   "cell_type": "code",
   "execution_count": null,
   "metadata": {
    "colab": {
     "base_uri": "https://localhost:8080/"
    },
    "id": "_wQiyUnVKzEd",
    "outputId": "80b7757a-d5d3-49f0-ec1d-cc467cbf382e"
   },
   "outputs": [
    {
     "name": "stdout",
     "output_type": "stream",
     "text": [
      "Top 20\n",
      "Root Mean Squared Error 10(RMSE): 9414.3525390625\n"
     ]
    }
   ],
   "source": [
    "# Perform train-test split\n",
    "X_train, X_test, y_train, y_test = train_test_split(X3, y, test_size=0.2, random_state=42)  # Adjust test_size as desired\n",
    "\n",
    "\n",
    "# Convert the data to PyTorch tensors\n",
    "X_train_tensor = torch.tensor(X_train, dtype=torch.float32)\n",
    "y_train_tensor = torch.tensor(y_train.values, dtype=torch.float32)\n",
    "X_test_tensor = torch.tensor(X_test, dtype=torch.float32)\n",
    "y_test_tensor = torch.tensor(y_test.values, dtype=torch.float32)\n",
    "X_validation_tensor = torch.tensor(XT_scal_20f, dtype=torch.float32)\n",
    "\n",
    "print('Top 20')\n",
    "\n",
    "mod = network_runner(X_train_tensor,X_test_tensor,y_train_tensor,y_test_tensor)\n",
    "pred = network_validator(mod,X_validation_tensor)\n",
    "\n",
    "NN3_output = pd.DataFrame({'Id':df_test['id'].values,\n",
    "                   'Predicted':pred.numpy().flatten()})\n",
    "NN3_output.to_csv('NN3_20.csv', index=False)"
   ]
  },
  {
   "cell_type": "code",
   "execution_count": null,
   "metadata": {
    "colab": {
     "base_uri": "https://localhost:8080/"
    },
    "id": "flDGcr8JK3N4",
    "outputId": "960e5de4-2cb6-48d1-c032-a078074238d9"
   },
   "outputs": [
    {
     "name": "stdout",
     "output_type": "stream",
     "text": [
      "Top 15\n",
      "Root Mean Squared Error 10(RMSE): 9399.9931640625\n"
     ]
    }
   ],
   "source": [
    "# Perform train-test split\n",
    "X_train, X_test, y_train, y_test = train_test_split(X6, y, test_size=0.2, random_state=42)  # Adjust test_size as desired\n",
    "\n",
    "\n",
    "# Convert the data to PyTorch tensors\n",
    "X_train_tensor = torch.tensor(X_train, dtype=torch.float32)\n",
    "y_train_tensor = torch.tensor(y_train.values, dtype=torch.float32)\n",
    "X_test_tensor = torch.tensor(X_test, dtype=torch.float32)\n",
    "y_test_tensor = torch.tensor(y_test.values, dtype=torch.float32)\n",
    "X_validation_tensor = torch.tensor(XT_scal_15f, dtype=torch.float32)\n",
    "\n",
    "print('Top 15')\n",
    "\n",
    "mod = network_runner(X_train_tensor,X_test_tensor,y_train_tensor,y_test_tensor)\n",
    "pred = network_validator(mod,X_validation_tensor)\n",
    "\n",
    "NN3_output = pd.DataFrame({'Id':df_test['id'].values,\n",
    "                   'Predicted':pred.numpy().flatten()})\n",
    "NN3_output.to_csv('NN3_15.csv', index=False)"
   ]
  },
  {
   "cell_type": "markdown",
   "metadata": {
    "id": "TX7jZqgQk8og"
   },
   "source": [
    "## SVM Regressor"
   ]
  },
  {
   "cell_type": "code",
   "execution_count": null,
   "metadata": {
    "colab": {
     "base_uri": "https://localhost:8080/"
    },
    "id": "lY0GzTG1k8oh",
    "outputId": "6d4aa47a-4de6-4076-b47e-93ed510d42c0"
   },
   "outputs": [
    {
     "name": "stdout",
     "output_type": "stream",
     "text": [
      "TOP 10\n"
     ]
    },
    {
     "data": {
      "text/plain": [
       "9628.570987193754"
      ]
     },
     "execution_count": 48,
     "metadata": {},
     "output_type": "execute_result"
    }
   ],
   "source": [
    "# Perform train-test split\n",
    "X_train, X_test, y_train, y_test = train_test_split(X4, y, test_size=0.2, random_state=42)  # Adjust test_size as desired\n",
    "\n",
    "\n",
    "reg = SVR().fit(X_train, y_train)\n",
    "print('TOP 10')\n",
    "y_pred = reg.predict(X_test)\n",
    "mean_squared_error(y_test, y_pred, squared=False)\n"
   ]
  },
  {
   "cell_type": "code",
   "execution_count": null,
   "metadata": {
    "id": "D8_L2xU5lFEn"
   },
   "outputs": [],
   "source": [
    "predictions = reg.predict(XT_scal_10f)\n",
    "output = pd.DataFrame({'Id':df_test['id'].values,\n",
    "                   'Predicted':predictions.flatten()})\n",
    "output.to_csv('SVR10.csv', index=False)"
   ]
  },
  {
   "cell_type": "code",
   "execution_count": null,
   "metadata": {
    "colab": {
     "base_uri": "https://localhost:8080/"
    },
    "id": "8MB4XBMzk8ok",
    "outputId": "06246d51-3a70-42ab-d5ca-5fbddcb3fc87"
   },
   "outputs": [
    {
     "name": "stdout",
     "output_type": "stream",
     "text": [
      "TOP 20\n"
     ]
    },
    {
     "data": {
      "text/plain": [
       "9633.890572260232"
      ]
     },
     "execution_count": 50,
     "metadata": {},
     "output_type": "execute_result"
    }
   ],
   "source": [
    "# Perform train-test split\n",
    "X_train, X_test, y_train, y_test = train_test_split(X3, y, test_size=0.2, random_state=42)  # Adjust test_size as desired\n",
    "\n",
    "\n",
    "reg = SVR().fit(X_train, y_train)\n",
    "print('TOP 20')\n",
    "y_pred = reg.predict(X_test)\n",
    "mean_squared_error(y_test, y_pred, squared=False)\n"
   ]
  },
  {
   "cell_type": "code",
   "execution_count": null,
   "metadata": {
    "id": "SYvYMr1rlJ8_"
   },
   "outputs": [],
   "source": [
    "predictions = reg.predict(XT_scal_20f)\n",
    "output = pd.DataFrame({'Id':df_test['id'].values,\n",
    "                   'Predicted':predictions.flatten()})\n",
    "output.to_csv('SVR20.csv', index=False)"
   ]
  },
  {
   "cell_type": "code",
   "execution_count": null,
   "metadata": {
    "colab": {
     "base_uri": "https://localhost:8080/"
    },
    "id": "lUIRf813k8on",
    "outputId": "b72b62fd-3b4d-464b-cc61-8c7e005c2ad4"
   },
   "outputs": [
    {
     "name": "stdout",
     "output_type": "stream",
     "text": [
      "TOP 15\n"
     ]
    },
    {
     "data": {
      "text/plain": [
       "9632.406959664371"
      ]
     },
     "execution_count": 53,
     "metadata": {},
     "output_type": "execute_result"
    }
   ],
   "source": [
    "# Perform train-test split\n",
    "X_train, X_test, y_train, y_test = train_test_split(X6, y, test_size=0.2, random_state=42)  # Adjust test_size as desired\n",
    "\n",
    "reg = SVR().fit(X_train, y_train)\n",
    "print('TOP 15')\n",
    "y_pred = reg.predict(X_test)\n",
    "mean_squared_error(y_test, y_pred, squared=False)"
   ]
  },
  {
   "cell_type": "code",
   "execution_count": null,
   "metadata": {
    "id": "fr-jzwwxlPUs"
   },
   "outputs": [],
   "source": [
    "predictions = reg.predict(XT_scal_15f)\n",
    "output = pd.DataFrame({'Id':df_test['id'].values,\n",
    "                   'Predicted':predictions.flatten()})\n",
    "output.to_csv('SVR15.csv', index=False)"
   ]
  },
  {
   "cell_type": "markdown",
   "metadata": {},
   "source": [
    "# Log Scaling\n"
   ]
  },
  {
   "cell_type": "code",
   "execution_count": null,
   "metadata": {
    "id": "7vASdmdcFj1C"
   },
   "outputs": [],
   "source": [
    "X3 = X2.loc[:,top_20_features ]\n",
    "X4 = X2.loc[:,top_10_features ]\n",
    "X6 = X2.loc[:,top_15_features ]"
   ]
  },
  {
   "cell_type": "markdown",
   "metadata": {
    "id": "fcT86OIO01l3"
   },
   "source": [
    "## Log Scaler\n",
    "\n"
   ]
  },
  {
   "cell_type": "code",
   "execution_count": null,
   "metadata": {
    "id": "MQYCdHZymxri"
   },
   "outputs": [],
   "source": [
    "def log_scaler(df: pd.DataFrame)->pd.DataFrame:\n",
    "  min = abs(df.min().min())\n",
    "  for c in df.columns:\n",
    "    if 'd_channel' not in c and 'weekday' not in c:\n",
    "      df[c] = df[c].transform(lambda x: x+abs(min+1))\n",
    "      df[c] = np.log(df[c])\n",
    "  return df.values\n"
   ]
  },
  {
   "cell_type": "code",
   "execution_count": null,
   "metadata": {
    "id": "WkIp2kH905GE"
   },
   "outputs": [],
   "source": [
    "\n",
    "X3 = log_scaler(X3)\n",
    "X4 = log_scaler(X4)\n",
    "X6 = log_scaler(X6)"
   ]
  },
  {
   "cell_type": "markdown",
   "metadata": {
    "id": "EgRbuCeWMKG-"
   },
   "source": [
    "## Test Dataset"
   ]
  },
  {
   "cell_type": "code",
   "execution_count": null,
   "metadata": {
    "id": "4LtRRl8qMk7e"
   },
   "outputs": [],
   "source": [
    "XT_scal_10f = XT_scaled.loc[:,top_10_features ].copy()\n",
    "XT_scal_20f = XT_scaled.loc[:,top_20_features ].copy()\n",
    "XT_scal_15f = XT_scaled.loc[:,top_15_features ].copy()"
   ]
  },
  {
   "cell_type": "code",
   "execution_count": null,
   "metadata": {
    "id": "6m-HpZhl2C9y",
    "tags": []
   },
   "outputs": [],
   "source": [
    "XT_scal_10f = log_scaler(XT_scal_10f)\n",
    "XT_scal_20f = log_scaler(XT_scal_20f)\n",
    "XT_scal_15f = log_scaler(XT_scal_15f)"
   ]
  },
  {
   "cell_type": "markdown",
   "metadata": {
    "id": "_OSRA8L1L6F1"
   },
   "source": [
    "## Linear Regression"
   ]
  },
  {
   "cell_type": "code",
   "execution_count": null,
   "metadata": {
    "colab": {
     "base_uri": "https://localhost:8080/"
    },
    "id": "pW_I25laMAFw",
    "outputId": "4e454ddb-0a67-4629-b1c9-0691cd3d7ed3"
   },
   "outputs": [
    {
     "name": "stdout",
     "output_type": "stream",
     "text": [
      "TOP 10\n"
     ]
    },
    {
     "data": {
      "text/plain": [
       "9388.077184598647"
      ]
     },
     "execution_count": 18,
     "metadata": {},
     "output_type": "execute_result"
    }
   ],
   "source": [
    "# Perform train-test split\n",
    "X_train, X_test, y_train, y_test = train_test_split(X4, y, test_size=0.2, random_state=42)  # Adjust test_size as desired\n",
    "\n",
    "\n",
    "\n",
    "reg = LinearRegression().fit(X_train, y_train)\n",
    "print('TOP 10')\n",
    "y_pred = reg.predict(X_test)\n",
    "mean_squared_error(y_test, y_pred, squared=False)"
   ]
  },
  {
   "cell_type": "code",
   "execution_count": null,
   "metadata": {
    "id": "Ck_jFpLmvEm1"
   },
   "outputs": [],
   "source": [
    "predictions = reg.predict(XT_scal_10f)\n",
    "output = pd.DataFrame({'Id':df_test['id'].values,\n",
    "                   'Predicted':predictions.flatten()})\n",
    "output.to_csv('mr10.csv', index=False)\n"
   ]
  },
  {
   "cell_type": "code",
   "execution_count": null,
   "metadata": {
    "colab": {
     "base_uri": "https://localhost:8080/"
    },
    "id": "YL7H9l3eL5j2",
    "outputId": "9595d320-8ac8-4e7b-c18e-e4684997aa3b"
   },
   "outputs": [
    {
     "name": "stdout",
     "output_type": "stream",
     "text": [
      "TOP 20\n"
     ]
    },
    {
     "data": {
      "text/plain": [
       "9403.107268090083"
      ]
     },
     "execution_count": 20,
     "metadata": {},
     "output_type": "execute_result"
    }
   ],
   "source": [
    "# Perform train-test split\n",
    "X_train, X_test, y_train, y_test = train_test_split(X3, y, test_size=0.2, random_state=42)  # Adjust test_size as desired\n",
    "\n",
    "# Normalize the features using StandardScaler\n",
    "\n",
    "reg = LinearRegression().fit(X_train, y_train)\n",
    "print('TOP 20')\n",
    "y_pred = reg.predict(X_test)\n",
    "mean_squared_error(y_test, y_pred, squared=False)"
   ]
  },
  {
   "cell_type": "code",
   "execution_count": null,
   "metadata": {
    "id": "meUh7pRhS_FE"
   },
   "outputs": [],
   "source": [
    "predictions = reg.predict(XT_scal_20f)\n",
    "output = pd.DataFrame({'Id':df_test['id'].values,\n",
    "                   'Predicted':predictions.flatten()})\n",
    "output.to_csv('mr20.csv', index=False)"
   ]
  },
  {
   "cell_type": "code",
   "execution_count": null,
   "metadata": {
    "colab": {
     "base_uri": "https://localhost:8080/"
    },
    "id": "OVP02S5GSF2d",
    "outputId": "0b0b2877-e449-4e44-da22-401d59142ad0"
   },
   "outputs": [
    {
     "name": "stdout",
     "output_type": "stream",
     "text": [
      "TOP 15\n"
     ]
    },
    {
     "data": {
      "text/plain": [
       "9395.489999375079"
      ]
     },
     "execution_count": 22,
     "metadata": {},
     "output_type": "execute_result"
    }
   ],
   "source": [
    "# Perform train-test split\n",
    "X_train, X_test, y_train, y_test = train_test_split(X6, y, test_size=0.2, random_state=42)  # Adjust test_size as desired\n",
    "\n",
    "# Normalize the features using StandardScaler\n",
    "reg = LinearRegression().fit(X_train, y_train)\n",
    "print('TOP 15')\n",
    "y_pred = reg.predict(X_test)\n",
    "mean_squared_error(y_test, y_pred, squared=False)"
   ]
  },
  {
   "cell_type": "code",
   "execution_count": null,
   "metadata": {
    "id": "rcvmhFBMTPSy"
   },
   "outputs": [],
   "source": [
    "predictions = reg.predict(XT_scal_15f)\n",
    "output = pd.DataFrame({'Id':df_test['id'].values,\n",
    "                   'Predicted':predictions.flatten()})\n",
    "output.to_csv('mr15.csv', index=False)"
   ]
  },
  {
   "cell_type": "markdown",
   "metadata": {
    "id": "JDOoNup-WF3H"
   },
   "source": [
    "## Ridge Regression"
   ]
  },
  {
   "cell_type": "code",
   "execution_count": null,
   "metadata": {
    "colab": {
     "base_uri": "https://localhost:8080/"
    },
    "id": "oCTBAAX3WF3J",
    "outputId": "5415715c-e263-4838-cbe8-29c7bd74ea77"
   },
   "outputs": [
    {
     "name": "stdout",
     "output_type": "stream",
     "text": [
      "TOP 10\n"
     ]
    },
    {
     "data": {
      "text/plain": [
       "9388.39999317767"
      ]
     },
     "execution_count": 24,
     "metadata": {},
     "output_type": "execute_result"
    }
   ],
   "source": [
    "# Perform train-test split\n",
    "X_train, X_test, y_train, y_test = train_test_split(X4, y, test_size=0.2, random_state=42)  # Adjust test_size as desired\n",
    "\n",
    "# Normalize the features using StandardScaler\n",
    "\n",
    "reg = Ridge(alpha=10).fit(X_train, y_train)\n",
    "print('TOP 10')\n",
    "y_pred = reg.predict(X_test)\n",
    "mean_squared_error(y_test, y_pred, squared=False)"
   ]
  },
  {
   "cell_type": "code",
   "execution_count": null,
   "metadata": {
    "id": "FcqzvDnzWF3L"
   },
   "outputs": [],
   "source": [
    "predictions = reg.predict(XT_scal_10f)\n",
    "output = pd.DataFrame({'Id':df_test['id'].values,\n",
    "                   'Predicted':predictions.flatten()})\n",
    "output.to_csv('ridge10.csv', index=False)\n"
   ]
  },
  {
   "cell_type": "code",
   "execution_count": null,
   "metadata": {
    "colab": {
     "base_uri": "https://localhost:8080/"
    },
    "id": "jeLNVV1uWF3M",
    "outputId": "1a288a62-3007-4063-f2f1-4531aab12486"
   },
   "outputs": [
    {
     "name": "stdout",
     "output_type": "stream",
     "text": [
      "TOP 20\n"
     ]
    },
    {
     "data": {
      "text/plain": [
       "9400.101966712193"
      ]
     },
     "execution_count": 26,
     "metadata": {},
     "output_type": "execute_result"
    }
   ],
   "source": [
    "# Perform train-test split\n",
    "X_train, X_test, y_train, y_test = train_test_split(X3, y, test_size=0.2, random_state=42)  # Adjust test_size as desired\n",
    "\n",
    "# Normalize the features using StandardScaler\n",
    "\n",
    "reg = Ridge(alpha=10).fit(X_train, y_train)\n",
    "print('TOP 20')\n",
    "y_pred = reg.predict(X_test)\n",
    "mean_squared_error(y_test, y_pred, squared=False)"
   ]
  },
  {
   "cell_type": "code",
   "execution_count": null,
   "metadata": {
    "id": "kSbEmJJPWF3N"
   },
   "outputs": [],
   "source": [
    "predictions = reg.predict(XT_scal_20f)\n",
    "output = pd.DataFrame({'Id':df_test['id'].values,\n",
    "                   'Predicted':predictions.flatten()})\n",
    "output.to_csv('ridge20.csv', index=False)"
   ]
  },
  {
   "cell_type": "code",
   "execution_count": null,
   "metadata": {
    "colab": {
     "base_uri": "https://localhost:8080/"
    },
    "id": "7M4SYf26WF3O",
    "outputId": "674ad258-d789-4794-c55f-91d80c368ed4"
   },
   "outputs": [
    {
     "name": "stdout",
     "output_type": "stream",
     "text": [
      "TOP 15\n"
     ]
    },
    {
     "data": {
      "text/plain": [
       "9391.785221085742"
      ]
     },
     "execution_count": 28,
     "metadata": {},
     "output_type": "execute_result"
    }
   ],
   "source": [
    "# Perform train-test split\n",
    "X_train, X_test, y_train, y_test = train_test_split(X6, y, test_size=0.2, random_state=42)  # Adjust test_size as desired\n",
    "\n",
    "# Normalize the features using StandardScaler\n",
    "reg = Ridge(alpha=10).fit(X_train, y_train)\n",
    "print('TOP 15')\n",
    "y_pred = reg.predict(X_test)\n",
    "mean_squared_error(y_test, y_pred, squared=False)"
   ]
  },
  {
   "cell_type": "code",
   "execution_count": null,
   "metadata": {
    "id": "yyuWDCnaWF3P"
   },
   "outputs": [],
   "source": [
    "predictions = reg.predict(XT_scal_15f)\n",
    "output = pd.DataFrame({'Id':df_test['id'].values,\n",
    "                   'Predicted':predictions.flatten()})\n",
    "output.to_csv('ridge15.csv', index=False)"
   ]
  },
  {
   "cell_type": "markdown",
   "metadata": {
    "id": "vvluWKTuX1w5"
   },
   "source": [
    "## Lasso Regression"
   ]
  },
  {
   "cell_type": "code",
   "execution_count": null,
   "metadata": {
    "colab": {
     "base_uri": "https://localhost:8080/"
    },
    "id": "iNRQPn3zX1w6",
    "outputId": "f5a861fe-9215-4870-d1d0-4b00ccdb07e5"
   },
   "outputs": [
    {
     "name": "stdout",
     "output_type": "stream",
     "text": [
      "TOP 10\n"
     ]
    },
    {
     "data": {
      "text/plain": [
       "9392.163988077311"
      ]
     },
     "execution_count": 30,
     "metadata": {},
     "output_type": "execute_result"
    }
   ],
   "source": [
    "# Perform train-test split\n",
    "X_train, X_test, y_train, y_test = train_test_split(X4, y, test_size=0.2, random_state=42)  # Adjust test_size as desired\n",
    "\n",
    "# Normalize the features using StandardScaler\n",
    "\n",
    "reg = Lasso(alpha=10).fit(X_train, y_train)\n",
    "print('TOP 10')\n",
    "y_pred = reg.predict(X_test)\n",
    "mean_squared_error(y_test, y_pred, squared=False)"
   ]
  },
  {
   "cell_type": "code",
   "execution_count": null,
   "metadata": {
    "id": "ArsQulYBX1w8"
   },
   "outputs": [],
   "source": [
    "predictions = reg.predict(XT_scal_10f)\n",
    "output = pd.DataFrame({'Id':df_test['id'].values,\n",
    "                   'Predicted':predictions.flatten()})\n",
    "output.to_csv('lasso10.csv', index=False)\n"
   ]
  },
  {
   "cell_type": "code",
   "execution_count": null,
   "metadata": {
    "colab": {
     "base_uri": "https://localhost:8080/"
    },
    "id": "oPtflVHQX1w-",
    "outputId": "fb61227e-5fd1-4fc4-f975-a2996454de85"
   },
   "outputs": [
    {
     "name": "stdout",
     "output_type": "stream",
     "text": [
      "TOP 20\n"
     ]
    },
    {
     "data": {
      "text/plain": [
       "9395.721517398588"
      ]
     },
     "execution_count": 32,
     "metadata": {},
     "output_type": "execute_result"
    }
   ],
   "source": [
    "# Perform train-test split\n",
    "X_train, X_test, y_train, y_test = train_test_split(X3, y, test_size=0.2, random_state=42)  # Adjust test_size as desired\n",
    "\n",
    "# Normalize the features using StandardScaler\n",
    "\n",
    "reg = Lasso(alpha=10).fit(X_train, y_train)\n",
    "print('TOP 20')\n",
    "y_pred = reg.predict(X_test)\n",
    "mean_squared_error(y_test, y_pred, squared=False)"
   ]
  },
  {
   "cell_type": "code",
   "execution_count": null,
   "metadata": {
    "id": "sahzKugoX1w_"
   },
   "outputs": [],
   "source": [
    "predictions = reg.predict(XT_scal_20f)\n",
    "output = pd.DataFrame({'Id':df_test['id'].values,\n",
    "                   'Predicted':predictions.flatten()})\n",
    "output.to_csv('lasso20.csv', index=False)"
   ]
  },
  {
   "cell_type": "code",
   "execution_count": null,
   "metadata": {
    "colab": {
     "base_uri": "https://localhost:8080/"
    },
    "id": "0jfVYWJJX1w_",
    "outputId": "dbf3eda3-3473-4866-bbf2-d872f3d6414b"
   },
   "outputs": [
    {
     "name": "stdout",
     "output_type": "stream",
     "text": [
      "TOP 15\n"
     ]
    },
    {
     "data": {
      "text/plain": [
       "9388.302411887242"
      ]
     },
     "execution_count": 34,
     "metadata": {},
     "output_type": "execute_result"
    }
   ],
   "source": [
    "# Perform train-test split\n",
    "X_train, X_test, y_train, y_test = train_test_split(X6, y, test_size=0.2, random_state=42)  # Adjust test_size as desired\n",
    "\n",
    "# Normalize the features using StandardScaler\n",
    "reg = Lasso(alpha=10).fit(X_train, y_train)\n",
    "print('TOP 15')\n",
    "y_pred = reg.predict(X_test)\n",
    "mean_squared_error(y_test, y_pred, squared=False)"
   ]
  },
  {
   "cell_type": "code",
   "execution_count": null,
   "metadata": {
    "id": "3-0UIozsX1xA"
   },
   "outputs": [],
   "source": [
    "predictions = reg.predict(XT_scal_15f)\n",
    "output = pd.DataFrame({'Id':df_test['id'].values,\n",
    "                   'Predicted':predictions.flatten()})\n",
    "output.to_csv('lasso15.csv', index=False)"
   ]
  },
  {
   "cell_type": "markdown",
   "metadata": {
    "id": "MkmZAT5fkVGI"
   },
   "source": [
    "## Random Forest"
   ]
  },
  {
   "cell_type": "code",
   "execution_count": null,
   "metadata": {
    "id": "cM3LVEpXc43i"
   },
   "outputs": [],
   "source": [
    "params_best = {'random_state':42}"
   ]
  },
  {
   "cell_type": "code",
   "execution_count": null,
   "metadata": {
    "colab": {
     "base_uri": "https://localhost:8080/"
    },
    "id": "9oALKp1okVGL",
    "outputId": "40ec84cc-5878-496e-ff71-921193aac290"
   },
   "outputs": [
    {
     "name": "stdout",
     "output_type": "stream",
     "text": [
      "TOP 10\n"
     ]
    },
    {
     "data": {
      "text/plain": [
       "9961.79206150571"
      ]
     },
     "execution_count": 37,
     "metadata": {},
     "output_type": "execute_result"
    }
   ],
   "source": [
    "# Perform train-test split\n",
    "X_train, X_test, y_train, y_test = train_test_split(X4, y, test_size=0.2, random_state=42)  # Adjust test_size as desired\n",
    "\n",
    "\n",
    "reg = RandomForestRegressor(**params_best).fit(X_train, y_train)\n",
    "print('TOP 10')\n",
    "y_pred = reg.predict(X_test)\n",
    "mean_squared_error(y_test, y_pred, squared=False)"
   ]
  },
  {
   "cell_type": "code",
   "execution_count": null,
   "metadata": {
    "id": "mWCuAtGebzc3"
   },
   "outputs": [],
   "source": [
    "predictions = reg.predict(XT_scal_10f)\n",
    "output = pd.DataFrame({'Id':df_test['id'].values,\n",
    "                   'Predicted':predictions.flatten()})\n",
    "output.to_csv('RF10.csv', index=False)"
   ]
  },
  {
   "cell_type": "code",
   "execution_count": null,
   "metadata": {
    "colab": {
     "base_uri": "https://localhost:8080/"
    },
    "id": "8eAn1UqGkVGO",
    "outputId": "c72bcee6-d058-455c-9f52-f06abeaa683d"
   },
   "outputs": [
    {
     "name": "stdout",
     "output_type": "stream",
     "text": [
      "TOP 20\n"
     ]
    },
    {
     "data": {
      "text/plain": [
       "9906.958685684498"
      ]
     },
     "execution_count": 39,
     "metadata": {},
     "output_type": "execute_result"
    }
   ],
   "source": [
    "# Perform train-test split\n",
    "X_train, X_test, y_train, y_test = train_test_split(X3, y, test_size=0.2, random_state=42)  # Adjust test_size as desired\n",
    "\n",
    "reg = RandomForestRegressor(**params_best).fit(X_train, y_train)\n",
    "print('TOP 20')\n",
    "y_pred = reg.predict(X_test)\n",
    "mean_squared_error(y_test, y_pred, squared=False)"
   ]
  },
  {
   "cell_type": "code",
   "execution_count": null,
   "metadata": {
    "id": "k1dquin2di9c"
   },
   "outputs": [],
   "source": [
    "predictions = reg.predict(XT_scal_20f)\n",
    "output = pd.DataFrame({'Id':df_test['id'].values,\n",
    "                   'Predicted':predictions.flatten()})\n",
    "output.to_csv('RF20.csv', index=False)"
   ]
  },
  {
   "cell_type": "code",
   "execution_count": null,
   "metadata": {
    "colab": {
     "base_uri": "https://localhost:8080/"
    },
    "id": "60qeLVXLkVGQ",
    "outputId": "646b223f-7d11-44f8-adfe-79c16943e684"
   },
   "outputs": [
    {
     "name": "stdout",
     "output_type": "stream",
     "text": [
      "TOP 15\n"
     ]
    },
    {
     "data": {
      "text/plain": [
       "9836.917256016119"
      ]
     },
     "execution_count": 41,
     "metadata": {},
     "output_type": "execute_result"
    }
   ],
   "source": [
    "# Perform train-test split\n",
    "X_train, X_test, y_train, y_test = train_test_split(X6, y, test_size=0.2, random_state=42)  # Adjust test_size as desired\n",
    "\n",
    "reg = RandomForestRegressor(**params_best).fit(X_train, y_train)\n",
    "print('TOP 15')\n",
    "y_pred = reg.predict(X_test)\n",
    "mean_squared_error(y_test, y_pred, squared=False)"
   ]
  },
  {
   "cell_type": "code",
   "execution_count": null,
   "metadata": {
    "id": "yPUB_fThdcBZ"
   },
   "outputs": [],
   "source": [
    "predictions = reg.predict(XT_scal_15f)\n",
    "output = pd.DataFrame({'Id':df_test['id'].values,\n",
    "                   'Predicted':predictions.flatten()})\n",
    "output.to_csv('RF15.csv', index=False)"
   ]
  },
  {
   "cell_type": "markdown",
   "metadata": {
    "id": "PcpW8pEpJIdF"
   },
   "source": [
    "## Neural Network"
   ]
  },
  {
   "cell_type": "code",
   "execution_count": null,
   "metadata": {
    "id": "BtrA9QP2JK-d"
   },
   "outputs": [],
   "source": [
    "# Define the neural network architecture\n",
    "class RegressionNet(nn.Module):\n",
    "    def __init__(self, input_size):\n",
    "        super(RegressionNet, self).__init__()\n",
    "        self.fc1 = nn.Linear(input_size, 64)\n",
    "        self.fc2 = nn.Linear(64, 32)\n",
    "        self.fc3 = nn.Linear(32, 1)\n",
    "\n",
    "    def forward(self, x):\n",
    "        x = torch.relu(self.fc1(x))\n",
    "        x = torch.relu(self.fc2(x))\n",
    "        x = self.fc3(x)\n",
    "        return x\n"
   ]
  },
  {
   "cell_type": "code",
   "execution_count": null,
   "metadata": {
    "id": "vPbZKwY3JPFR"
   },
   "outputs": [],
   "source": [
    "def network_runner(X_train_tensor,X_test_tensor,y_train_tensor,y_test_tensor):\n",
    "  input_size = X_train_tensor.shape[1]\n",
    "  model = RegressionNet(input_size)\n",
    "  # Define the loss function and optimizer\n",
    "  criterion = nn.MSELoss()\n",
    "  optimizer = optim.Adam(model.parameters(), lr=0.001)\n",
    "  epochs = 30\n",
    "  batch_size = 5\n",
    "  for epoch in range(epochs):\n",
    "      running_loss = 0.0\n",
    "      for i in range(0, len(X_train_tensor), batch_size):\n",
    "          # Zero the parameter gradients\n",
    "          optimizer.zero_grad()\n",
    "\n",
    "          # Forward pass\n",
    "          outputs = model(X_train_tensor[i:i+batch_size])\n",
    "          loss = criterion(outputs, y_train_tensor[i:i+batch_size].unsqueeze(1))\n",
    "\n",
    "          # Backward pass and optimization\n",
    "          loss.backward()\n",
    "          optimizer.step()\n",
    "\n",
    "          # Accumulate the loss\n",
    "          running_loss += loss.item()\n",
    "\n",
    "      # Print the average loss for the epoch\n",
    "      avg_loss = running_loss / (len(X_train_tensor) / batch_size)\n",
    "      # print(f\"Epoch [{epoch+1}/{epochs}], Loss: {avg_loss}\")\n",
    "\n",
    "  # Evaluate the model\n",
    "  with torch.no_grad():\n",
    "      model.eval()\n",
    "      predictions = model(X_test_tensor)\n",
    "      mse = criterion(predictions, y_test_tensor.unsqueeze(1))\n",
    "      rmse = torch.sqrt(mse)\n",
    "      print(\"Root Mean Squared Error 10(RMSE):\", rmse.item())\n",
    "  return model\n",
    "\n",
    "def network_validator(model,X_validation_tensor):\n",
    "  with torch.no_grad():\n",
    "    model.eval()\n",
    "    predictions = model(X_validation_tensor)\n",
    "  return predictions"
   ]
  },
  {
   "cell_type": "code",
   "execution_count": null,
   "metadata": {
    "colab": {
     "base_uri": "https://localhost:8080/"
    },
    "id": "oKFdUM5vKGMi",
    "outputId": "89a57f18-552e-4fcc-9783-608b61485f74"
   },
   "outputs": [
    {
     "name": "stdout",
     "output_type": "stream",
     "text": [
      "Top 10\n",
      "Root Mean Squared Error 10(RMSE): 9414.763671875\n"
     ]
    }
   ],
   "source": [
    "# Perform train-test split\n",
    "X_train, X_test, y_train, y_test = train_test_split(X4, y, test_size=0.2, random_state=42)  # Adjust test_size as desired\n",
    "\n",
    "\n",
    "# Convert the data to PyTorch tensors\n",
    "X_train_tensor = torch.tensor(X_train, dtype=torch.float32)\n",
    "y_train_tensor = torch.tensor(y_train.values, dtype=torch.float32)\n",
    "X_test_tensor = torch.tensor(X_test, dtype=torch.float32)\n",
    "y_test_tensor = torch.tensor(y_test.values, dtype=torch.float32)\n",
    "X_validation_tensor = torch.tensor(XT_scal_10f, dtype=torch.float32)\n",
    "\n",
    "print('Top 10')\n",
    "\n",
    "mod = network_runner(X_train_tensor,X_test_tensor,y_train_tensor,y_test_tensor)\n",
    "pred = network_validator(mod,X_validation_tensor)\n",
    "\n",
    "NN3_output = pd.DataFrame({'Id':df_test['id'].values,\n",
    "                   'Predicted':pred.numpy().flatten()})\n",
    "NN3_output.to_csv('NN3_10.csv', index=False)"
   ]
  },
  {
   "cell_type": "code",
   "execution_count": null,
   "metadata": {
    "colab": {
     "base_uri": "https://localhost:8080/"
    },
    "id": "_wQiyUnVKzEd",
    "outputId": "226605b8-75b9-4893-b92a-363a043e1a4e"
   },
   "outputs": [
    {
     "name": "stdout",
     "output_type": "stream",
     "text": [
      "Top 20\n",
      "Root Mean Squared Error 10(RMSE): 9406.212890625\n"
     ]
    }
   ],
   "source": [
    "# Perform train-test split\n",
    "X_train, X_test, y_train, y_test = train_test_split(X3, y, test_size=0.2, random_state=42)  # Adjust test_size as desired\n",
    "\n",
    "\n",
    "# Convert the data to PyTorch tensors\n",
    "X_train_tensor = torch.tensor(X_train, dtype=torch.float32)\n",
    "y_train_tensor = torch.tensor(y_train.values, dtype=torch.float32)\n",
    "X_test_tensor = torch.tensor(X_test, dtype=torch.float32)\n",
    "y_test_tensor = torch.tensor(y_test.values, dtype=torch.float32)\n",
    "X_validation_tensor = torch.tensor(XT_scal_20f, dtype=torch.float32)\n",
    "\n",
    "print('Top 20')\n",
    "\n",
    "mod = network_runner(X_train_tensor,X_test_tensor,y_train_tensor,y_test_tensor)\n",
    "pred = network_validator(mod,X_validation_tensor)\n",
    "\n",
    "NN3_output = pd.DataFrame({'Id':df_test['id'].values,\n",
    "                   'Predicted':pred.numpy().flatten()})\n",
    "NN3_output.to_csv('NN3_20.csv', index=False)"
   ]
  },
  {
   "cell_type": "code",
   "execution_count": null,
   "metadata": {
    "colab": {
     "base_uri": "https://localhost:8080/"
    },
    "id": "flDGcr8JK3N4",
    "outputId": "643e33e7-3c28-4b89-9715-d28c651e6aee"
   },
   "outputs": [
    {
     "name": "stdout",
     "output_type": "stream",
     "text": [
      "Top 15\n",
      "Root Mean Squared Error 10(RMSE): 9411.7119140625\n"
     ]
    }
   ],
   "source": [
    "# Perform train-test split\n",
    "X_train, X_test, y_train, y_test = train_test_split(X6, y, test_size=0.2, random_state=42)  # Adjust test_size as desired\n",
    "\n",
    "\n",
    "# Convert the data to PyTorch tensors\n",
    "X_train_tensor = torch.tensor(X_train, dtype=torch.float32)\n",
    "y_train_tensor = torch.tensor(y_train.values, dtype=torch.float32)\n",
    "X_test_tensor = torch.tensor(X_test, dtype=torch.float32)\n",
    "y_test_tensor = torch.tensor(y_test.values, dtype=torch.float32)\n",
    "X_validation_tensor = torch.tensor(XT_scal_15f, dtype=torch.float32)\n",
    "\n",
    "print('Top 15')\n",
    "\n",
    "mod = network_runner(X_train_tensor,X_test_tensor,y_train_tensor,y_test_tensor)\n",
    "pred = network_validator(mod,X_validation_tensor)\n",
    "\n",
    "NN3_output = pd.DataFrame({'Id':df_test['id'].values,\n",
    "                   'Predicted':pred.numpy().flatten()})\n",
    "NN3_output.to_csv('NN3_15.csv', index=False)"
   ]
  },
  {
   "cell_type": "markdown",
   "metadata": {
    "id": "TX7jZqgQk8og"
   },
   "source": [
    "## SVM Regressor"
   ]
  },
  {
   "cell_type": "code",
   "execution_count": null,
   "metadata": {
    "colab": {
     "base_uri": "https://localhost:8080/"
    },
    "id": "lY0GzTG1k8oh",
    "outputId": "7ead7df4-c83b-4aab-f9c6-872a340b3e2a"
   },
   "outputs": [
    {
     "name": "stdout",
     "output_type": "stream",
     "text": [
      "TOP 10\n"
     ]
    },
    {
     "data": {
      "text/plain": [
       "9651.619720098572"
      ]
     },
     "execution_count": 48,
     "metadata": {},
     "output_type": "execute_result"
    }
   ],
   "source": [
    "# Perform train-test split\n",
    "X_train, X_test, y_train, y_test = train_test_split(X4, y, test_size=0.2, random_state=42)  # Adjust test_size as desired\n",
    "\n",
    "\n",
    "reg = SVR().fit(X_train, y_train)\n",
    "print('TOP 10')\n",
    "y_pred = reg.predict(X_test)\n",
    "mean_squared_error(y_test, y_pred, squared=False)\n"
   ]
  },
  {
   "cell_type": "code",
   "execution_count": null,
   "metadata": {
    "id": "D8_L2xU5lFEn"
   },
   "outputs": [],
   "source": [
    "predictions = reg.predict(XT_scal_10f)\n",
    "output = pd.DataFrame({'Id':df_test['id'].values,\n",
    "                   'Predicted':predictions.flatten()})\n",
    "output.to_csv('SVR10.csv', index=False)"
   ]
  },
  {
   "cell_type": "code",
   "execution_count": null,
   "metadata": {
    "colab": {
     "base_uri": "https://localhost:8080/"
    },
    "id": "8MB4XBMzk8ok",
    "outputId": "68c9e8ad-60fd-46ea-c6f1-50c647221b61"
   },
   "outputs": [
    {
     "name": "stdout",
     "output_type": "stream",
     "text": [
      "TOP 20\n"
     ]
    },
    {
     "data": {
      "text/plain": [
       "9649.552355848287"
      ]
     },
     "execution_count": 50,
     "metadata": {},
     "output_type": "execute_result"
    }
   ],
   "source": [
    "# Perform train-test split\n",
    "X_train, X_test, y_train, y_test = train_test_split(X3, y, test_size=0.2, random_state=42)  # Adjust test_size as desired\n",
    "\n",
    "\n",
    "reg = SVR().fit(X_train, y_train)\n",
    "print('TOP 20')\n",
    "y_pred = reg.predict(X_test)\n",
    "mean_squared_error(y_test, y_pred, squared=False)\n"
   ]
  },
  {
   "cell_type": "code",
   "execution_count": null,
   "metadata": {
    "id": "SYvYMr1rlJ8_"
   },
   "outputs": [],
   "source": [
    "predictions = reg.predict(XT_scal_20f)\n",
    "output = pd.DataFrame({'Id':df_test['id'].values,\n",
    "                   'Predicted':predictions.flatten()})\n",
    "output.to_csv('SVR20.csv', index=False)"
   ]
  },
  {
   "cell_type": "code",
   "execution_count": null,
   "metadata": {
    "colab": {
     "base_uri": "https://localhost:8080/"
    },
    "id": "lUIRf813k8on",
    "outputId": "9e49c7f1-e5ca-43af-9437-a1f28b45d896"
   },
   "outputs": [
    {
     "name": "stdout",
     "output_type": "stream",
     "text": [
      "TOP 15\n"
     ]
    },
    {
     "data": {
      "text/plain": [
       "9651.805218967313"
      ]
     },
     "execution_count": 52,
     "metadata": {},
     "output_type": "execute_result"
    }
   ],
   "source": [
    "# Perform train-test split\n",
    "X_train, X_test, y_train, y_test = train_test_split(X6, y, test_size=0.2, random_state=42)  # Adjust test_size as desired\n",
    "\n",
    "reg = SVR().fit(X_train, y_train)\n",
    "print('TOP 15')\n",
    "y_pred = reg.predict(X_test)\n",
    "mean_squared_error(y_test, y_pred, squared=False)"
   ]
  },
  {
   "cell_type": "code",
   "execution_count": null,
   "metadata": {
    "id": "fr-jzwwxlPUs"
   },
   "outputs": [],
   "source": [
    "predictions = reg.predict(XT_scal_15f)\n",
    "output = pd.DataFrame({'Id':df_test['id'].values,\n",
    "                   'Predicted':predictions.flatten()})\n",
    "output.to_csv('SVR15.csv', index=False)"
   ]
  },
  {
   "cell_type": "code",
   "execution_count": null,
   "metadata": {},
   "outputs": [],
   "source": []
  },
  {
   "cell_type": "markdown",
   "metadata": {},
   "source": [
    "# Windsorization"
   ]
  },
  {
   "cell_type": "code",
   "execution_count": null,
   "metadata": {
    "id": "7vASdmdcFj1C"
   },
   "outputs": [],
   "source": [
    "X3_ori = X2.loc[:,top_10_features ]\n",
    "X4_ori = X2.loc[:,top_15_features ]"
   ]
  },
  {
   "cell_type": "markdown",
   "metadata": {
    "id": "fcT86OIO01l3"
   },
   "source": [
    "## Winsorization\n"
   ]
  },
  {
   "cell_type": "code",
   "execution_count": null,
   "metadata": {
    "id": "MQYCdHZymxri"
   },
   "outputs": [],
   "source": [
    "def windsorize(df, lower_limit,upper_limit):\n",
    "    df = df.apply(lambda x: np.clip(x, x.quantile(lower_limit), x.quantile(upper_limit)))\n",
    "    return df.copy().values"
   ]
  },
  {
   "cell_type": "code",
   "execution_count": null,
   "metadata": {
    "id": "WkIp2kH905GE"
   },
   "outputs": [],
   "source": [
    "\n",
    "X3 = windsorize(X3_ori,lower_limit = 0.05, upper_limit = 0.95)\n",
    "X4 = windsorize(X4_ori,lower_limit = 0.05, upper_limit = 0.95)\n",
    "\n",
    "X5 = windsorize(X3_ori,lower_limit = 0.01, upper_limit = 0.99)\n",
    "X6 = windsorize(X4_ori,lower_limit = 0.01, upper_limit = 0.99)"
   ]
  },
  {
   "cell_type": "markdown",
   "metadata": {
    "id": "EgRbuCeWMKG-"
   },
   "source": [
    "## Test Dataset"
   ]
  },
  {
   "cell_type": "code",
   "execution_count": null,
   "metadata": {
    "id": "4LtRRl8qMk7e"
   },
   "outputs": [],
   "source": [
    "XT_scal_10f = XT_scaled.loc[:,top_10_features ].copy()\n",
    "XT_scal_15f = XT_scaled.loc[:,top_15_features ].copy()"
   ]
  },
  {
   "cell_type": "markdown",
   "metadata": {
    "id": "_OSRA8L1L6F1"
   },
   "source": [
    "## Linear Regression"
   ]
  },
  {
   "cell_type": "code",
   "execution_count": null,
   "metadata": {
    "colab": {
     "base_uri": "https://localhost:8080/"
    },
    "id": "pW_I25laMAFw",
    "outputId": "9963d5be-411c-4e75-d931-8a8ffd16dd72"
   },
   "outputs": [
    {
     "name": "stdout",
     "output_type": "stream",
     "text": [
      "TOP 10, lower_limit = 0.05, upper_limit = 0.95\n"
     ]
    },
    {
     "data": {
      "text/plain": [
       "9384.266541177429"
      ]
     },
     "execution_count": 19,
     "metadata": {},
     "output_type": "execute_result"
    }
   ],
   "source": [
    "# Perform train-test split\n",
    "X_train, X_test, y_train, y_test = train_test_split(X3, y, test_size=0.2, random_state=42)  # Adjust test_size as desired\n",
    "\n",
    "reg = LinearRegression().fit(X_train, y_train)\n",
    "print('TOP 10, lower_limit = 0.05, upper_limit = 0.95')\n",
    "y_pred = reg.predict(X_test)\n",
    "mean_squared_error(y_test, y_pred, squared=False)"
   ]
  },
  {
   "cell_type": "code",
   "execution_count": null,
   "metadata": {
    "id": "Ck_jFpLmvEm1"
   },
   "outputs": [],
   "source": [
    "predictions = reg.predict(XT_scal_10f)\n",
    "output = pd.DataFrame({'Id':df_test['id'].values,\n",
    "                   'Predicted':predictions.flatten()})\n",
    "output.to_csv('mr10_05.csv', index=False)\n"
   ]
  },
  {
   "cell_type": "code",
   "execution_count": null,
   "metadata": {
    "colab": {
     "base_uri": "https://localhost:8080/"
    },
    "id": "YL7H9l3eL5j2",
    "outputId": "c23cdf64-4684-4138-9d43-5d27d56f3399"
   },
   "outputs": [
    {
     "name": "stdout",
     "output_type": "stream",
     "text": [
      "TOP 15, lower_limit = 0.05, upper_limit = 0.95\n"
     ]
    },
    {
     "data": {
      "text/plain": [
       "9386.374024566912"
      ]
     },
     "execution_count": 21,
     "metadata": {},
     "output_type": "execute_result"
    }
   ],
   "source": [
    "# Perform train-test split\n",
    "X_train, X_test, y_train, y_test = train_test_split(X4, y, test_size=0.2, random_state=42)  # Adjust test_size as desired\n",
    "\n",
    "\n",
    "reg = LinearRegression().fit(X_train, y_train)\n",
    "print('TOP 15, lower_limit = 0.05, upper_limit = 0.95')\n",
    "y_pred = reg.predict(X_test)\n",
    "mean_squared_error(y_test, y_pred, squared=False)"
   ]
  },
  {
   "cell_type": "code",
   "execution_count": null,
   "metadata": {
    "id": "meUh7pRhS_FE"
   },
   "outputs": [],
   "source": [
    "predictions = reg.predict(XT_scal_15f)\n",
    "output = pd.DataFrame({'Id':df_test['id'].values,\n",
    "                   'Predicted':predictions.flatten()})\n",
    "output.to_csv('mr15_05.csv', index=False)"
   ]
  },
  {
   "cell_type": "code",
   "execution_count": null,
   "metadata": {
    "colab": {
     "base_uri": "https://localhost:8080/"
    },
    "id": "OVP02S5GSF2d",
    "outputId": "3afd27f1-fbec-48b6-e5d3-0cd724a88c0d"
   },
   "outputs": [
    {
     "name": "stdout",
     "output_type": "stream",
     "text": [
      "Top 10, lower_limit = 0.01, upper_limit = 0.99\n"
     ]
    },
    {
     "data": {
      "text/plain": [
       "9378.367215177681"
      ]
     },
     "execution_count": 23,
     "metadata": {},
     "output_type": "execute_result"
    }
   ],
   "source": [
    "# Perform train-test split\n",
    "X_train, X_test, y_train, y_test = train_test_split(X5, y, test_size=0.2, random_state=42)  # Adjust test_size as desired\n",
    "\n",
    "reg = LinearRegression().fit(X_train, y_train)\n",
    "print('Top 10, lower_limit = 0.01, upper_limit = 0.99')\n",
    "y_pred = reg.predict(X_test)\n",
    "mean_squared_error(y_test, y_pred, squared=False)"
   ]
  },
  {
   "cell_type": "code",
   "execution_count": null,
   "metadata": {
    "id": "rcvmhFBMTPSy"
   },
   "outputs": [],
   "source": [
    "predictions = reg.predict(XT_scal_10f)\n",
    "output = pd.DataFrame({'Id':df_test['id'].values,\n",
    "                   'Predicted':predictions.flatten()})\n",
    "output.to_csv('mr10_01.csv', index=False)"
   ]
  },
  {
   "cell_type": "code",
   "execution_count": null,
   "metadata": {
    "colab": {
     "base_uri": "https://localhost:8080/"
    },
    "id": "ktA7fnt_D1KP",
    "outputId": "ef0e208c-cd16-45d1-a804-03bc4a7802ad"
   },
   "outputs": [
    {
     "name": "stdout",
     "output_type": "stream",
     "text": [
      "Top 15, lower_limit = 0.01, upper_limit = 0.99\n"
     ]
    },
    {
     "data": {
      "text/plain": [
       "9378.11287431404"
      ]
     },
     "execution_count": 25,
     "metadata": {},
     "output_type": "execute_result"
    }
   ],
   "source": [
    "# Perform train-test split\n",
    "X_train, X_test, y_train, y_test = train_test_split(X6, y, test_size=0.2, random_state=42)  # Adjust test_size as desired\n",
    "\n",
    "reg = LinearRegression().fit(X_train, y_train)\n",
    "print('Top 15, lower_limit = 0.01, upper_limit = 0.99')\n",
    "y_pred = reg.predict(X_test)\n",
    "mean_squared_error(y_test, y_pred, squared=False)"
   ]
  },
  {
   "cell_type": "code",
   "execution_count": null,
   "metadata": {
    "id": "Yt2FbRvUD1KR"
   },
   "outputs": [],
   "source": [
    "predictions = reg.predict(XT_scal_15f)\n",
    "output = pd.DataFrame({'Id':df_test['id'].values,\n",
    "                   'Predicted':predictions.flatten()})\n",
    "output.to_csv('mr15_01.csv', index=False)"
   ]
  },
  {
   "cell_type": "markdown",
   "metadata": {
    "id": "JDOoNup-WF3H"
   },
   "source": [
    "## Ridge Regression"
   ]
  },
  {
   "cell_type": "code",
   "execution_count": null,
   "metadata": {
    "colab": {
     "base_uri": "https://localhost:8080/"
    },
    "id": "oCTBAAX3WF3J",
    "outputId": "fdecafad-bae6-4fd4-e87e-871a57ebe650"
   },
   "outputs": [
    {
     "name": "stdout",
     "output_type": "stream",
     "text": [
      "TOP 10, lower_limit = 0.05, upper_limit = 0.95\n"
     ]
    },
    {
     "data": {
      "text/plain": [
       "9384.247727343569"
      ]
     },
     "execution_count": 27,
     "metadata": {},
     "output_type": "execute_result"
    }
   ],
   "source": [
    "# Perform train-test split\n",
    "X_train, X_test, y_train, y_test = train_test_split(X3, y, test_size=0.2, random_state=42)  # Adjust test_size as desired\n",
    "\n",
    "reg = Ridge(alpha=10).fit(X_train, y_train)\n",
    "print('TOP 10, lower_limit = 0.05, upper_limit = 0.95')\n",
    "y_pred = reg.predict(X_test)\n",
    "mean_squared_error(y_test, y_pred, squared=False)"
   ]
  },
  {
   "cell_type": "code",
   "execution_count": null,
   "metadata": {
    "id": "FcqzvDnzWF3L"
   },
   "outputs": [],
   "source": [
    "predictions = reg.predict(XT_scal_10f)\n",
    "output = pd.DataFrame({'Id':df_test['id'].values,\n",
    "                   'Predicted':predictions.flatten()})\n",
    "output.to_csv('ridge10_05.csv', index=False)\n"
   ]
  },
  {
   "cell_type": "code",
   "execution_count": null,
   "metadata": {
    "colab": {
     "base_uri": "https://localhost:8080/"
    },
    "id": "jeLNVV1uWF3M",
    "outputId": "0c0a5256-c2c5-4745-8546-7e0f3a81d358"
   },
   "outputs": [
    {
     "name": "stdout",
     "output_type": "stream",
     "text": [
      "TOP 15, lower_limit = 0.05, upper_limit = 0.95\n"
     ]
    },
    {
     "data": {
      "text/plain": [
       "9386.353217277898"
      ]
     },
     "execution_count": 29,
     "metadata": {},
     "output_type": "execute_result"
    }
   ],
   "source": [
    "# Perform train-test split\n",
    "X_train, X_test, y_train, y_test = train_test_split(X4, y, test_size=0.2, random_state=42)  # Adjust test_size as desired\n",
    "\n",
    "reg = Ridge(alpha=10).fit(X_train, y_train)\n",
    "print('TOP 15, lower_limit = 0.05, upper_limit = 0.95')\n",
    "y_pred = reg.predict(X_test)\n",
    "mean_squared_error(y_test, y_pred, squared=False)"
   ]
  },
  {
   "cell_type": "code",
   "execution_count": null,
   "metadata": {
    "id": "kSbEmJJPWF3N"
   },
   "outputs": [],
   "source": [
    "predictions = reg.predict(XT_scal_15f)\n",
    "output = pd.DataFrame({'Id':df_test['id'].values,\n",
    "                   'Predicted':predictions.flatten()})\n",
    "output.to_csv('ridge15_05.csv', index=False)"
   ]
  },
  {
   "cell_type": "code",
   "execution_count": null,
   "metadata": {
    "colab": {
     "base_uri": "https://localhost:8080/"
    },
    "id": "7M4SYf26WF3O",
    "outputId": "34768583-5cf7-4fe8-fba2-b22b1d254d7f"
   },
   "outputs": [
    {
     "name": "stdout",
     "output_type": "stream",
     "text": [
      "Top 10, lower_limit = 0.01, upper_limit = 0.99\n"
     ]
    },
    {
     "data": {
      "text/plain": [
       "9378.408099886692"
      ]
     },
     "execution_count": 31,
     "metadata": {},
     "output_type": "execute_result"
    }
   ],
   "source": [
    "# Perform train-test split\n",
    "X_train, X_test, y_train, y_test = train_test_split(X5, y, test_size=0.2, random_state=42)  # Adjust test_size as desired\n",
    "\n",
    "reg = Ridge(alpha=10).fit(X_train, y_train)\n",
    "print('Top 10, lower_limit = 0.01, upper_limit = 0.99')\n",
    "y_pred = reg.predict(X_test)\n",
    "mean_squared_error(y_test, y_pred, squared=False)"
   ]
  },
  {
   "cell_type": "code",
   "execution_count": null,
   "metadata": {
    "id": "yyuWDCnaWF3P"
   },
   "outputs": [],
   "source": [
    "predictions = reg.predict(XT_scal_10f)\n",
    "output = pd.DataFrame({'Id':df_test['id'].values,\n",
    "                   'Predicted':predictions.flatten()})\n",
    "output.to_csv('ridge10_01.csv', index=False)"
   ]
  },
  {
   "cell_type": "code",
   "execution_count": null,
   "metadata": {
    "colab": {
     "base_uri": "https://localhost:8080/"
    },
    "id": "qcctg_ZGL8u4",
    "outputId": "23f5e0be-12c0-4b5a-b608-6a1b6553b288"
   },
   "outputs": [
    {
     "name": "stdout",
     "output_type": "stream",
     "text": [
      "Top 15, lower_limit = 0.01, upper_limit = 0.99\n"
     ]
    },
    {
     "data": {
      "text/plain": [
       "9378.074936124074"
      ]
     },
     "execution_count": 33,
     "metadata": {},
     "output_type": "execute_result"
    }
   ],
   "source": [
    "# Perform train-test split\n",
    "X_train, X_test, y_train, y_test = train_test_split(X6, y, test_size=0.2, random_state=42)  # Adjust test_size as desired\n",
    "\n",
    "reg = Ridge(alpha=10).fit(X_train, y_train)\n",
    "print('Top 15, lower_limit = 0.01, upper_limit = 0.99')\n",
    "y_pred = reg.predict(X_test)\n",
    "mean_squared_error(y_test, y_pred, squared=False)"
   ]
  },
  {
   "cell_type": "code",
   "execution_count": null,
   "metadata": {
    "id": "5ad6CAFEL8vA"
   },
   "outputs": [],
   "source": [
    "predictions = reg.predict(XT_scal_15f)\n",
    "output = pd.DataFrame({'Id':df_test['id'].values,\n",
    "                   'Predicted':predictions.flatten()})\n",
    "output.to_csv('ridge15_01.csv', index=False)"
   ]
  },
  {
   "cell_type": "markdown",
   "metadata": {
    "id": "vvluWKTuX1w5"
   },
   "source": [
    "## Lasso Regression"
   ]
  },
  {
   "cell_type": "code",
   "execution_count": null,
   "metadata": {
    "colab": {
     "base_uri": "https://localhost:8080/"
    },
    "id": "iNRQPn3zX1w6",
    "outputId": "fd35bf92-5d14-4f65-8fe2-b3632e9dd682"
   },
   "outputs": [
    {
     "name": "stdout",
     "output_type": "stream",
     "text": [
      "TOP 10, lower_limit = 0.05, upper_limit = 0.95\n"
     ]
    },
    {
     "data": {
      "text/plain": [
       "9384.063863033794"
      ]
     },
     "execution_count": 35,
     "metadata": {},
     "output_type": "execute_result"
    }
   ],
   "source": [
    "# Perform train-test split\n",
    "X_train, X_test, y_train, y_test = train_test_split(X3, y, test_size=0.2, random_state=42)  # Adjust test_size as desired\n",
    "\n",
    "# Normalize the features using StandardScaler\n",
    "\n",
    "reg = Lasso(alpha=10).fit(X_train, y_train)\n",
    "print('TOP 10, lower_limit = 0.05, upper_limit = 0.95')\n",
    "y_pred = reg.predict(X_test)\n",
    "mean_squared_error(y_test, y_pred, squared=False)"
   ]
  },
  {
   "cell_type": "code",
   "execution_count": null,
   "metadata": {
    "id": "ArsQulYBX1w8"
   },
   "outputs": [],
   "source": [
    "predictions = reg.predict(XT_scal_10f)\n",
    "output = pd.DataFrame({'Id':df_test['id'].values,\n",
    "                   'Predicted':predictions.flatten()})\n",
    "output.to_csv('lasso10_05.csv', index=False)\n"
   ]
  },
  {
   "cell_type": "code",
   "execution_count": null,
   "metadata": {
    "colab": {
     "base_uri": "https://localhost:8080/"
    },
    "id": "oPtflVHQX1w-",
    "outputId": "f59d0f2c-d953-4096-989a-d20966c04223"
   },
   "outputs": [
    {
     "name": "stdout",
     "output_type": "stream",
     "text": [
      "TOP 15, lower_limit = 0.05, upper_limit = 0.95\n"
     ]
    },
    {
     "data": {
      "text/plain": [
       "9384.57906481183"
      ]
     },
     "execution_count": 37,
     "metadata": {},
     "output_type": "execute_result"
    }
   ],
   "source": [
    "# Perform train-test split\n",
    "X_train, X_test, y_train, y_test = train_test_split(X4, y, test_size=0.2, random_state=42)  # Adjust test_size as desired\n",
    "\n",
    "# Normalize the features using StandardScaler\n",
    "\n",
    "reg = Lasso(alpha=10).fit(X_train, y_train)\n",
    "print('TOP 15, lower_limit = 0.05, upper_limit = 0.95')\n",
    "y_pred = reg.predict(X_test)\n",
    "mean_squared_error(y_test, y_pred, squared=False)"
   ]
  },
  {
   "cell_type": "code",
   "execution_count": null,
   "metadata": {
    "id": "sahzKugoX1w_"
   },
   "outputs": [],
   "source": [
    "predictions = reg.predict(XT_scal_15f)\n",
    "output = pd.DataFrame({'Id':df_test['id'].values,\n",
    "                   'Predicted':predictions.flatten()})\n",
    "output.to_csv('lasso15_05.csv', index=False)"
   ]
  },
  {
   "cell_type": "code",
   "execution_count": null,
   "metadata": {
    "colab": {
     "base_uri": "https://localhost:8080/"
    },
    "id": "0jfVYWJJX1w_",
    "outputId": "b3e52ca7-91c1-4807-af4b-08f65e00b3c4"
   },
   "outputs": [
    {
     "name": "stdout",
     "output_type": "stream",
     "text": [
      "Top 10, lower_limit = 0.01, upper_limit = 0.99\n"
     ]
    },
    {
     "data": {
      "text/plain": [
       "9380.055768847044"
      ]
     },
     "execution_count": 39,
     "metadata": {},
     "output_type": "execute_result"
    }
   ],
   "source": [
    "# Perform train-test split\n",
    "X_train, X_test, y_train, y_test = train_test_split(X5, y, test_size=0.2, random_state=42)  # Adjust test_size as desired\n",
    "\n",
    "# Normalize the features using StandardScaler\n",
    "reg = Lasso(alpha=10).fit(X_train, y_train)\n",
    "print('Top 10, lower_limit = 0.01, upper_limit = 0.99')\n",
    "y_pred = reg.predict(X_test)\n",
    "mean_squared_error(y_test, y_pred, squared=False)"
   ]
  },
  {
   "cell_type": "code",
   "execution_count": null,
   "metadata": {
    "id": "3-0UIozsX1xA"
   },
   "outputs": [],
   "source": [
    "predictions = reg.predict(XT_scal_10f)\n",
    "output = pd.DataFrame({'Id':df_test['id'].values,\n",
    "                   'Predicted':predictions.flatten()})\n",
    "output.to_csv('lasso10_01.csv', index=False)"
   ]
  },
  {
   "cell_type": "code",
   "execution_count": null,
   "metadata": {
    "colab": {
     "base_uri": "https://localhost:8080/"
    },
    "id": "9De_vjq5OKbR",
    "outputId": "55388e57-61ef-4b58-94cd-07b8a09a8989"
   },
   "outputs": [
    {
     "name": "stdout",
     "output_type": "stream",
     "text": [
      "Top 15, lower_limit = 0.01, upper_limit = 0.99\n"
     ]
    },
    {
     "data": {
      "text/plain": [
       "9376.206648806128"
      ]
     },
     "execution_count": 41,
     "metadata": {},
     "output_type": "execute_result"
    }
   ],
   "source": [
    "# Perform train-test split\n",
    "X_train, X_test, y_train, y_test = train_test_split(X6, y, test_size=0.2, random_state=42)  # Adjust test_size as desired\n",
    "\n",
    "# Normalize the features using StandardScaler\n",
    "reg = Lasso(alpha=10).fit(X_train, y_train)\n",
    "print('Top 15, lower_limit = 0.01, upper_limit = 0.99')\n",
    "y_pred = reg.predict(X_test)\n",
    "mean_squared_error(y_test, y_pred, squared=False)"
   ]
  },
  {
   "cell_type": "code",
   "execution_count": null,
   "metadata": {
    "id": "NlZNTWI9JDoD"
   },
   "outputs": [],
   "source": [
    "predictions = reg.predict(XT_scal_15f)\n",
    "output = pd.DataFrame({'Id':df_test['id'].values,\n",
    "                   'Predicted':predictions.flatten()})\n",
    "output.to_csv('lasso15_01.csv', index=False)"
   ]
  },
  {
   "cell_type": "markdown",
   "metadata": {
    "id": "MkmZAT5fkVGI"
   },
   "source": [
    "## Random Forest"
   ]
  },
  {
   "cell_type": "code",
   "execution_count": null,
   "metadata": {
    "id": "cM3LVEpXc43i"
   },
   "outputs": [],
   "source": [
    "params_best = {'random_state':42}"
   ]
  },
  {
   "cell_type": "code",
   "execution_count": null,
   "metadata": {
    "colab": {
     "base_uri": "https://localhost:8080/"
    },
    "id": "9oALKp1okVGL",
    "outputId": "0dd567b4-3d6f-47fb-eed5-963eb064eba0"
   },
   "outputs": [
    {
     "name": "stdout",
     "output_type": "stream",
     "text": [
      "TOP 10, lower_limit = 0.05, upper_limit = 0.95\n"
     ]
    },
    {
     "data": {
      "text/plain": [
       "10000.328288520648"
      ]
     },
     "execution_count": 44,
     "metadata": {},
     "output_type": "execute_result"
    }
   ],
   "source": [
    "# Perform train-test split\n",
    "X_train, X_test, y_train, y_test = train_test_split(X3, y, test_size=0.2, random_state=42)  # Adjust test_size as desired\n",
    "\n",
    "\n",
    "reg = RandomForestRegressor(**params_best).fit(X_train, y_train)\n",
    "print('TOP 10, lower_limit = 0.05, upper_limit = 0.95')\n",
    "y_pred = reg.predict(X_test)\n",
    "mean_squared_error(y_test, y_pred, squared=False)"
   ]
  },
  {
   "cell_type": "code",
   "execution_count": null,
   "metadata": {
    "id": "mWCuAtGebzc3"
   },
   "outputs": [],
   "source": [
    "predictions = reg.predict(XT_scal_10f)\n",
    "output = pd.DataFrame({'Id':df_test['id'].values,\n",
    "                   'Predicted':predictions.flatten()})\n",
    "output.to_csv('RF10_05.csv', index=False)"
   ]
  },
  {
   "cell_type": "code",
   "execution_count": null,
   "metadata": {
    "colab": {
     "base_uri": "https://localhost:8080/"
    },
    "id": "8eAn1UqGkVGO",
    "outputId": "328dd06c-5b51-40ff-908e-c0f3592792fc"
   },
   "outputs": [
    {
     "name": "stdout",
     "output_type": "stream",
     "text": [
      "TOP 15, lower_limit = 0.05, upper_limit = 0.95\n"
     ]
    },
    {
     "data": {
      "text/plain": [
       "9828.775356824332"
      ]
     },
     "execution_count": 46,
     "metadata": {},
     "output_type": "execute_result"
    }
   ],
   "source": [
    "# Perform train-test split\n",
    "X_train, X_test, y_train, y_test = train_test_split(X4, y, test_size=0.2, random_state=42)  # Adjust test_size as desired\n",
    "\n",
    "reg = RandomForestRegressor(**params_best).fit(X_train, y_train)\n",
    "print('TOP 15, lower_limit = 0.05, upper_limit = 0.95')\n",
    "y_pred = reg.predict(X_test)\n",
    "mean_squared_error(y_test, y_pred, squared=False)"
   ]
  },
  {
   "cell_type": "code",
   "execution_count": null,
   "metadata": {
    "id": "k1dquin2di9c"
   },
   "outputs": [],
   "source": [
    "predictions = reg.predict(XT_scal_15f)\n",
    "output = pd.DataFrame({'Id':df_test['id'].values,\n",
    "                   'Predicted':predictions.flatten()})\n",
    "output.to_csv('RF15_05.csv', index=False)"
   ]
  },
  {
   "cell_type": "code",
   "execution_count": null,
   "metadata": {
    "colab": {
     "base_uri": "https://localhost:8080/"
    },
    "id": "60qeLVXLkVGQ",
    "outputId": "6245d5d7-9264-4e81-c5ec-cb57423ea193"
   },
   "outputs": [
    {
     "name": "stdout",
     "output_type": "stream",
     "text": [
      "Top 10, lower_limit = 0.01, upper_limit = 0.99\n"
     ]
    },
    {
     "data": {
      "text/plain": [
       "10146.665104761287"
      ]
     },
     "execution_count": 48,
     "metadata": {},
     "output_type": "execute_result"
    }
   ],
   "source": [
    "# Perform train-test split\n",
    "X_train, X_test, y_train, y_test = train_test_split(X5, y, test_size=0.2, random_state=42)  # Adjust test_size as desired\n",
    "\n",
    "reg = RandomForestRegressor(**params_best).fit(X_train, y_train)\n",
    "print('Top 10, lower_limit = 0.01, upper_limit = 0.99')\n",
    "y_pred = reg.predict(X_test)\n",
    "mean_squared_error(y_test, y_pred, squared=False)"
   ]
  },
  {
   "cell_type": "code",
   "execution_count": null,
   "metadata": {
    "id": "yPUB_fThdcBZ"
   },
   "outputs": [],
   "source": [
    "predictions = reg.predict(XT_scal_10f)\n",
    "output = pd.DataFrame({'Id':df_test['id'].values,\n",
    "                   'Predicted':predictions.flatten()})\n",
    "output.to_csv('RF10_01.csv', index=False)"
   ]
  },
  {
   "cell_type": "code",
   "execution_count": null,
   "metadata": {
    "colab": {
     "base_uri": "https://localhost:8080/"
    },
    "id": "SwahFOHKJVSi",
    "outputId": "6c91449d-5c94-40f4-8c22-ec3a06afa247"
   },
   "outputs": [
    {
     "name": "stdout",
     "output_type": "stream",
     "text": [
      "Top 15, lower_limit = 0.01, upper_limit = 0.99\n"
     ]
    },
    {
     "data": {
      "text/plain": [
       "9856.093146976096"
      ]
     },
     "execution_count": 50,
     "metadata": {},
     "output_type": "execute_result"
    }
   ],
   "source": [
    "# Perform train-test split\n",
    "X_train, X_test, y_train, y_test = train_test_split(X6, y, test_size=0.2, random_state=42)  # Adjust test_size as desired\n",
    "\n",
    "reg = RandomForestRegressor(**params_best).fit(X_train, y_train)\n",
    "print('Top 15, lower_limit = 0.01, upper_limit = 0.99')\n",
    "y_pred = reg.predict(X_test)\n",
    "mean_squared_error(y_test, y_pred, squared=False)"
   ]
  },
  {
   "cell_type": "code",
   "execution_count": null,
   "metadata": {
    "id": "yAURblIRJVSm"
   },
   "outputs": [],
   "source": [
    "predictions = reg.predict(XT_scal_15f)\n",
    "output = pd.DataFrame({'Id':df_test['id'].values,\n",
    "                   'Predicted':predictions.flatten()})\n",
    "output.to_csv('RF15_01.csv', index=False)"
   ]
  },
  {
   "cell_type": "markdown",
   "metadata": {
    "id": "PcpW8pEpJIdF"
   },
   "source": [
    "## Neural Network"
   ]
  },
  {
   "cell_type": "code",
   "execution_count": null,
   "metadata": {
    "colab": {
     "base_uri": "https://localhost:8080/"
    },
    "id": "oKFdUM5vKGMi",
    "outputId": "5d984d34-b0ec-45e2-8c80-1fbd64c5c3f1"
   },
   "outputs": [
    {
     "name": "stdout",
     "output_type": "stream",
     "text": [
      "TOP 10, lower_limit = 0.05, upper_limit = 0.95\n",
      "Root Mean Squared Error (RMSE): 9387.162109375\n"
     ]
    }
   ],
   "source": [
    "# Perform train-test split\n",
    "X_train, X_test, y_train, y_test = train_test_split(X3, y, test_size=0.2, random_state=42)  # Adjust test_size as desired\n",
    "\n",
    "\n",
    "# Convert the data to PyTorch tensors\n",
    "X_train_tensor = torch.tensor(X_train, dtype=torch.float32)\n",
    "y_train_tensor = torch.tensor(y_train.values, dtype=torch.float32)\n",
    "X_test_tensor = torch.tensor(X_test, dtype=torch.float32)\n",
    "y_test_tensor = torch.tensor(y_test.values, dtype=torch.float32)\n",
    "\n",
    "X_validation_tensor = torch.tensor(XT_scal_10f, dtype=torch.float32)\n",
    "\n",
    "print('TOP 10, lower_limit = 0.05, upper_limit = 0.95')\n",
    "\n",
    "mod = network_runner(X_train_tensor,X_test_tensor,y_train_tensor,y_test_tensor)\n",
    "pred = network_validator(mod,X_validation_tensor)\n",
    "\n",
    "NN3_output = pd.DataFrame({'Id':df_test['id'].values,\n",
    "                   'Predicted':pred.numpy().flatten()})\n",
    "NN3_output.to_csv('NN3_10_05.csv', index=False)"
   ]
  },
  {
   "cell_type": "code",
   "execution_count": null,
   "metadata": {
    "colab": {
     "base_uri": "https://localhost:8080/"
    },
    "id": "_wQiyUnVKzEd",
    "outputId": "55535cbe-d61d-4137-a90c-77019a01075e"
   },
   "outputs": [
    {
     "name": "stdout",
     "output_type": "stream",
     "text": [
      "TOP 15, lower_limit = 0.05, upper_limit = 0.95\n",
      "Root Mean Squared Error (RMSE): 9402.4755859375\n"
     ]
    }
   ],
   "source": [
    "# Perform train-test split\n",
    "X_train, X_test, y_train, y_test = train_test_split(X4, y, test_size=0.2, random_state=42)  # Adjust test_size as desired\n",
    "\n",
    "\n",
    "# Convert the data to PyTorch tensors\n",
    "X_train_tensor = torch.tensor(X_train, dtype=torch.float32)\n",
    "y_train_tensor = torch.tensor(y_train.values, dtype=torch.float32)\n",
    "X_test_tensor = torch.tensor(X_test, dtype=torch.float32)\n",
    "y_test_tensor = torch.tensor(y_test.values, dtype=torch.float32)\n",
    "\n",
    "X_validation_tensor = torch.tensor(XT_scal_15f, dtype=torch.float32)\n",
    "\n",
    "print('TOP 15, lower_limit = 0.05, upper_limit = 0.95')\n",
    "\n",
    "mod = network_runner(X_train_tensor,X_test_tensor,y_train_tensor,y_test_tensor)\n",
    "pred = network_validator(mod,X_validation_tensor)\n",
    "\n",
    "NN3_output = pd.DataFrame({'Id':df_test['id'].values,\n",
    "                   'Predicted':pred.numpy().flatten()})\n",
    "NN3_output.to_csv('NN3_15_05.csv', index=False)"
   ]
  },
  {
   "cell_type": "code",
   "execution_count": null,
   "metadata": {
    "colab": {
     "base_uri": "https://localhost:8080/"
    },
    "id": "flDGcr8JK3N4",
    "outputId": "3a79dbbd-3497-470c-c414-417d25fd90d6"
   },
   "outputs": [
    {
     "name": "stdout",
     "output_type": "stream",
     "text": [
      "Top 10, lower_limit = 0.01, upper_limit = 0.99\n",
      "Root Mean Squared Error (RMSE): 9400.2666015625\n"
     ]
    }
   ],
   "source": [
    "# Perform train-test split\n",
    "X_train, X_test, y_train, y_test = train_test_split(X5, y, test_size=0.2, random_state=42)  # Adjust test_size as desired\n",
    "\n",
    "\n",
    "# Convert the data to PyTorch tensors\n",
    "X_train_tensor = torch.tensor(X_train, dtype=torch.float32)\n",
    "y_train_tensor = torch.tensor(y_train.values, dtype=torch.float32)\n",
    "X_test_tensor = torch.tensor(X_test, dtype=torch.float32)\n",
    "y_test_tensor = torch.tensor(y_test.values, dtype=torch.float32)\n",
    "\n",
    "X_validation_tensor = torch.tensor(XT_scal_10f, dtype=torch.float32)\n",
    "\n",
    "print('Top 10, lower_limit = 0.01, upper_limit = 0.99')\n",
    "\n",
    "mod = network_runner(X_train_tensor,X_test_tensor,y_train_tensor,y_test_tensor)\n",
    "pred = network_validator(mod,X_validation_tensor)\n",
    "\n",
    "NN3_output = pd.DataFrame({'Id':df_test['id'].values,\n",
    "                   'Predicted':pred.numpy().flatten()})\n",
    "NN3_output.to_csv('NN3_10_01.csv', index=False)"
   ]
  },
  {
   "cell_type": "code",
   "execution_count": null,
   "metadata": {
    "colab": {
     "base_uri": "https://localhost:8080/"
    },
    "id": "nZIOScLaLKck",
    "outputId": "68ad8598-cb8b-4b95-bb3d-ebc4e31a9867"
   },
   "outputs": [
    {
     "name": "stdout",
     "output_type": "stream",
     "text": [
      "Top 15, lower_limit = 0.01, upper_limit = 0.99\n",
      "Root Mean Squared Error (RMSE): 9387.2919921875\n"
     ]
    }
   ],
   "source": [
    "# Perform train-test split\n",
    "X_train, X_test, y_train, y_test = train_test_split(X6, y, test_size=0.2, random_state=42)  # Adjust test_size as desired\n",
    "\n",
    "\n",
    "# Convert the data to PyTorch tensors\n",
    "X_train_tensor = torch.tensor(X_train, dtype=torch.float32)\n",
    "y_train_tensor = torch.tensor(y_train.values, dtype=torch.float32)\n",
    "X_test_tensor = torch.tensor(X_test, dtype=torch.float32)\n",
    "y_test_tensor = torch.tensor(y_test.values, dtype=torch.float32)\n",
    "\n",
    "X_validation_tensor = torch.tensor(XT_scal_15f, dtype=torch.float32)\n",
    "\n",
    "print('Top 15, lower_limit = 0.01, upper_limit = 0.99')\n",
    "\n",
    "mod = network_runner(X_train_tensor,X_test_tensor,y_train_tensor,y_test_tensor)\n",
    "pred = network_validator(mod,X_validation_tensor)\n",
    "\n",
    "NN3_output = pd.DataFrame({'Id':df_test['id'].values,\n",
    "                   'Predicted':pred.numpy().flatten()})\n",
    "NN3_output.to_csv('NN3_15_01.csv', index=False)"
   ]
  },
  {
   "cell_type": "markdown",
   "metadata": {
    "id": "TX7jZqgQk8og"
   },
   "source": [
    "## SVM Regressor"
   ]
  },
  {
   "cell_type": "code",
   "execution_count": null,
   "metadata": {
    "colab": {
     "base_uri": "https://localhost:8080/"
    },
    "id": "lY0GzTG1k8oh",
    "outputId": "bfd56cbe-f343-4aea-8837-44350b02bb6e"
   },
   "outputs": [
    {
     "name": "stdout",
     "output_type": "stream",
     "text": [
      "TOP 10, lower_limit = 0.05, upper_limit = 0.95\n"
     ]
    },
    {
     "data": {
      "text/plain": [
       "9628.761721351602"
      ]
     },
     "execution_count": 58,
     "metadata": {},
     "output_type": "execute_result"
    }
   ],
   "source": [
    "# Perform train-test split\n",
    "X_train, X_test, y_train, y_test = train_test_split(X3, y, test_size=0.2, random_state=42)  # Adjust test_size as desired\n",
    "\n",
    "\n",
    "reg = SVR().fit(X_train, y_train)\n",
    "print('TOP 10, lower_limit = 0.05, upper_limit = 0.95')\n",
    "y_pred = reg.predict(X_test)\n",
    "mean_squared_error(y_test, y_pred, squared=False)\n"
   ]
  },
  {
   "cell_type": "code",
   "execution_count": null,
   "metadata": {
    "id": "D8_L2xU5lFEn"
   },
   "outputs": [],
   "source": [
    "predictions = reg.predict(XT_scal_10f)\n",
    "output = pd.DataFrame({'Id':df_test['id'].values,\n",
    "                   'Predicted':predictions.flatten()})\n",
    "output.to_csv('SVR10_05.csv', index=False)"
   ]
  },
  {
   "cell_type": "code",
   "execution_count": null,
   "metadata": {
    "colab": {
     "base_uri": "https://localhost:8080/"
    },
    "id": "8MB4XBMzk8ok",
    "outputId": "df6249bf-4a51-4f70-b54c-537a79123dc7"
   },
   "outputs": [
    {
     "name": "stdout",
     "output_type": "stream",
     "text": [
      "TOP 15, lower_limit = 0.05, upper_limit = 0.95\n"
     ]
    },
    {
     "data": {
      "text/plain": [
       "9631.755218199285"
      ]
     },
     "execution_count": 60,
     "metadata": {},
     "output_type": "execute_result"
    }
   ],
   "source": [
    "# Perform train-test split\n",
    "X_train, X_test, y_train, y_test = train_test_split(X4, y, test_size=0.2, random_state=42)  # Adjust test_size as desired\n",
    "\n",
    "\n",
    "reg = SVR().fit(X_train, y_train)\n",
    "print('TOP 15, lower_limit = 0.05, upper_limit = 0.95')\n",
    "y_pred = reg.predict(X_test)\n",
    "mean_squared_error(y_test, y_pred, squared=False)\n"
   ]
  },
  {
   "cell_type": "code",
   "execution_count": null,
   "metadata": {
    "id": "SYvYMr1rlJ8_"
   },
   "outputs": [],
   "source": [
    "predictions = reg.predict(XT_scal_15f)\n",
    "output = pd.DataFrame({'Id':df_test['id'].values,\n",
    "                   'Predicted':predictions.flatten()})\n",
    "output.to_csv('SVR15_05.csv', index=False)"
   ]
  },
  {
   "cell_type": "code",
   "execution_count": null,
   "metadata": {
    "colab": {
     "base_uri": "https://localhost:8080/"
    },
    "id": "lUIRf813k8on",
    "outputId": "7f6bc756-64e4-44b1-fb40-df4603b30b1b"
   },
   "outputs": [
    {
     "name": "stdout",
     "output_type": "stream",
     "text": [
      "Top 10, lower_limit = 0.01, upper_limit = 0.99\n"
     ]
    },
    {
     "data": {
      "text/plain": [
       "9647.035117626883"
      ]
     },
     "execution_count": 62,
     "metadata": {},
     "output_type": "execute_result"
    }
   ],
   "source": [
    "# Perform train-test split\n",
    "X_train, X_test, y_train, y_test = train_test_split(X5, y, test_size=0.2, random_state=42)  # Adjust test_size as desired\n",
    "\n",
    "reg = SVR().fit(X_train, y_train)\n",
    "print('Top 10, lower_limit = 0.01, upper_limit = 0.99')\n",
    "y_pred = reg.predict(X_test)\n",
    "mean_squared_error(y_test, y_pred, squared=False)"
   ]
  },
  {
   "cell_type": "code",
   "execution_count": null,
   "metadata": {
    "id": "fr-jzwwxlPUs"
   },
   "outputs": [],
   "source": [
    "predictions = reg.predict(XT_scal_10f)\n",
    "output = pd.DataFrame({'Id':df_test['id'].values,\n",
    "                   'Predicted':predictions.flatten()})\n",
    "output.to_csv('SVR10_01.csv', index=False)"
   ]
  },
  {
   "cell_type": "code",
   "execution_count": null,
   "metadata": {
    "colab": {
     "base_uri": "https://localhost:8080/"
    },
    "id": "y83KxqLSLgXk",
    "outputId": "37045938-a881-4699-f9e8-fad48bc319f7"
   },
   "outputs": [
    {
     "name": "stdout",
     "output_type": "stream",
     "text": [
      "Top 15, lower_limit = 0.01, upper_limit = 0.99\n"
     ]
    },
    {
     "data": {
      "text/plain": [
       "9632.656274455752"
      ]
     },
     "execution_count": 64,
     "metadata": {},
     "output_type": "execute_result"
    }
   ],
   "source": [
    "# Perform train-test split\n",
    "X_train, X_test, y_train, y_test = train_test_split(X6, y, test_size=0.2, random_state=42)  # Adjust test_size as desired\n",
    "\n",
    "reg = SVR().fit(X_train, y_train)\n",
    "print('Top 15, lower_limit = 0.01, upper_limit = 0.99')\n",
    "y_pred = reg.predict(X_test)\n",
    "mean_squared_error(y_test, y_pred, squared=False)"
   ]
  },
  {
   "cell_type": "code",
   "execution_count": null,
   "metadata": {
    "id": "49qKz8mXLgXo"
   },
   "outputs": [],
   "source": [
    "predictions = reg.predict(XT_scal_15f)\n",
    "output = pd.DataFrame({'Id':df_test['id'].values,\n",
    "                   'Predicted':predictions.flatten()})\n",
    "output.to_csv('SVR15_01.csv', index=False)"
   ]
  },
  {
   "cell_type": "markdown",
   "metadata": {
    "tags": []
   },
   "source": [
    "# Grid Search"
   ]
  },
  {
   "cell_type": "markdown",
   "metadata": {
    "id": "_OSRA8L1L6F1"
   },
   "source": [
    "## Neural Network"
   ]
  },
  {
   "cell_type": "code",
   "execution_count": 16,
   "metadata": {
    "id": "pW_I25laMAFw",
    "tags": []
   },
   "outputs": [],
   "source": [
    "# Perform train-test split\n",
    "X_train, X_test, y_train, y_test = train_test_split(X4, y, test_size=0.2, random_state=42)  # Adjust test_size as desired\n",
    "\n",
    "# Normalize the features using StandardScaler\n",
    "scaler = StandardScaler()\n",
    "X_train_scaled = scaler.fit_transform(X_train)\n",
    "X_test_scaled = scaler.transform(X_test)\n",
    "\n",
    "# # Convert the data to PyTorch tensors\n",
    "X_train_tensor = torch.tensor(X_train_scaled, dtype=torch.float32)\n",
    "y_train_tensor = torch.tensor(y_train.values, dtype=torch.float32)\n",
    "X_test_tensor = torch.tensor(X_test_scaled, dtype=torch.float32)\n",
    "y_test_tensor = torch.tensor(y_test.values, dtype=torch.float32)\n",
    "\n"
   ]
  },
  {
   "cell_type": "code",
   "execution_count": null,
   "metadata": {},
   "outputs": [],
   "source": [
    "# Define the neural network architecture\n",
    "class RegressionNet(nn.Module):\n",
    "    def __init__(self, \n",
    "                 input_size,\n",
    "                 num_units_1 = 64,\n",
    "                 num_units_2 = 32,\n",
    "                 nonlin=F.relu,\n",
    "                 drop_1=.5,\n",
    "                 drop_2=.5,\n",
    "                 leaky=False):\n",
    "        super(RegressionNet, self).__init__()\n",
    "        self.leaky = leaky\n",
    "        \n",
    "        self.module_1 = nn.Sequential(\n",
    "          nn.Linear(input_size, num_units_1),\n",
    "          nn.ReLU(),\n",
    "          nn.Dropout(p=drop_1),\n",
    "          nn.Linear(num_units_1, num_units_2),\n",
    "          nn.ReLU(),\n",
    "          nn.Dropout(p=drop_2),\n",
    "          nn.Linear(num_units_2, 1)\n",
    "        )\n",
    "        \n",
    "        self.module_2 = nn.Sequential(\n",
    "          nn.Linear(input_size, num_units_1),\n",
    "          nn.LeakyReLU(),\n",
    "          nn.Dropout(p=drop_1),\n",
    "          nn.Linear(num_units_1, num_units_2),\n",
    "          nn.LeakyReLU(),\n",
    "          nn.Dropout(p=drop_2),\n",
    "          nn.Linear(num_units_2, 1)\n",
    "        )\n",
    "\n",
    "    def forward(self, x):\n",
    "        if self.leaky:\n",
    "          x = self.module_2(x)\n",
    "        else:\n",
    "          x = self.module_1(x)\n",
    "\n",
    "        return x\n"
   ]
  },
  {
   "cell_type": "code",
   "execution_count": null,
   "metadata": {},
   "outputs": [],
   "source": [
    "net = NeuralNetRegressor(\n",
    "    RegressionNet,\n",
    "    criterion=nn.MSELoss,\n",
    "    max_epochs=10,\n",
    "    optimizer=optim.Adam,\n",
    "    optimizer__lr = .005\n",
    ")"
   ]
  },
  {
   "cell_type": "code",
   "execution_count": null,
   "metadata": {},
   "outputs": [],
   "source": [
    "lr = (10**np.random.uniform(-5,-2.5,1000)).tolist()\n",
    "params = {\n",
    "    'optimizer__lr': [0.001],#lr,\n",
    "    'max_epochs':[20,30], #,40,50,100,300,400],\n",
    "    'module__input_size' : [X_train_scaled.shape[1]],\n",
    "    'module__num_units_1': [20],#,32,42,64,120],\n",
    "    'module__num_units_2': [14],#,20,32,28,36,42],\n",
    "    'module__drop_1' : [0],#,.1,.2,.3,.4,.5],\n",
    "    'module__drop_2' : [0],#,.1,.2,.3,.4,.5],\n",
    "    'module__leaky' : [True]#,False]\n",
    "}\n",
    "\n",
    "gs = RandomizedSearchCV(net,params,\n",
    "                        refit=True,\n",
    "                        cv=3,\n",
    "                        scoring= 'neg_mean_squared_error',\n",
    "                        n_iter=50)\n"
   ]
  },
  {
   "cell_type": "code",
   "execution_count": null,
   "metadata": {},
   "outputs": [],
   "source": [
    "%%capture\n",
    "gs.fit(X_train_tensor,y_train_tensor.reshape(-1, 1))"
   ]
  },
  {
   "cell_type": "code",
   "execution_count": null,
   "metadata": {},
   "outputs": [],
   "source": [
    "# Utility function to report best scores (found online)\n",
    "def report(results, n_top=3):\n",
    "    for i in range(1, n_top + 1):\n",
    "        candidates = np.flatnonzero(results['rank_test_score'] == i)\n",
    "        for candidate in candidates:\n",
    "            print(\"Model with rank: {0}\".format(i))\n",
    "            print(\"Mean validation score: {0:.3f} (std: {1:.3f})\".format(\n",
    "                  results['mean_test_score'][candidate],\n",
    "                  results['std_test_score'][candidate]))\n",
    "            print(\"Parameters: {0}\".format(results['params'][candidate]))\n",
    "            print(\"\")\n",
    "report(gs.cv_results_,10)"
   ]
  },
  {
   "cell_type": "markdown",
   "metadata": {},
   "source": [
    "## Random Forest"
   ]
  },
  {
   "cell_type": "code",
   "execution_count": null,
   "metadata": {
    "id": "avVBW8Jshgra",
    "tags": []
   },
   "outputs": [],
   "source": [
    "param_grid = {\n",
    "    'n_estimators' :  [100,500,1000,1500],\n",
    "    'max_depth'    :  [5,10,25,50,55],\n",
    "    'criterion'    :  ['friedman_mse', 'squared_error']\n",
    "}"
   ]
  },
  {
   "cell_type": "code",
   "execution_count": null,
   "metadata": {
    "collapsed": true,
    "id": "hWhW-Z2XlLhU",
    "jupyter": {
     "outputs_hidden": true
    },
    "tags": []
   },
   "outputs": [],
   "source": [
    "rf = RandomForestRegressor()\n",
    "rf_grid = GridSearchCV(rf, param_grid,\n",
    "                   scoring='neg_mean_squared_error', \n",
    "                   n_jobs=-1, \n",
    "                   cv=3,\n",
    "                  verbose=2,\n",
    "                  return_train_score=True)\n",
    "\n",
    "rf_grid.fit(X4,y)"
   ]
  },
  {
   "cell_type": "code",
   "execution_count": null,
   "metadata": {
    "tags": []
   },
   "outputs": [],
   "source": [
    "RF = pd.read_csv('RF_gs.csv')\n",
    "RF.sort_values(by='rank_test_score').reset_index().loc[0,'params']"
   ]
  },
  {
   "cell_type": "code",
   "execution_count": null,
   "metadata": {
    "tags": []
   },
   "outputs": [],
   "source": [
    "params_best = {'criterion': 'squared_error', 'max_depth': 5, 'n_estimators': 1000}\n",
    "rf = RandomForestRegressor(**params_best)\n",
    "rf.fit(X4,y)\n"
   ]
  },
  {
   "cell_type": "code",
   "execution_count": null,
   "metadata": {
    "tags": []
   },
   "outputs": [],
   "source": [
    "rf.predict(XT_scal_10f)"
   ]
  },
  {
   "cell_type": "code",
   "execution_count": null,
   "metadata": {
    "tags": []
   },
   "outputs": [],
   "source": [
    "RF_output = pd.DataFrame({'Id':df_test['id'].values,\n",
    "                   'Predicted':rf.predict(XT_scal_10f).flatten()})\n",
    "RF_output"
   ]
  },
  {
   "cell_type": "code",
   "execution_count": null,
   "metadata": {
    "tags": []
   },
   "outputs": [],
   "source": [
    "RF_output.to_csv('RF_mx5_est1000_output.csv', index=False)"
   ]
  },
  {
   "cell_type": "code",
   "execution_count": null,
   "metadata": {
    "tags": []
   },
   "outputs": [],
   "source": [
    "pd.DataFrame(rf_grid.cv_results_).to_csv('RF_gs.csv')\n",
    "pd.DataFrame(rf_grid.cv_results_)"
   ]
  },
  {
   "cell_type": "markdown",
   "metadata": {},
   "source": [
    "## SVR"
   ]
  },
  {
   "cell_type": "code",
   "execution_count": null,
   "metadata": {
    "colab": {
     "base_uri": "https://localhost:8080/",
     "height": 211
    },
    "id": "YNzy6zV33N-9",
    "outputId": "b9f23a16-7230-4742-abbe-787bb52e4969",
    "tags": []
   },
   "outputs": [
    {
     "name": "stdout",
     "output_type": "stream",
     "text": [
      "Fitting 3 folds for each of 12 candidates, totalling 36 fits\n",
      "[CV 1/3] END C=0.1, gamma=scale, kernel=poly;, score=-118174025.528 total time=  45.9s\n",
      "[CV 3/3] END C=0.1, gamma=scale, kernel=rbf;, score=-116800544.557 total time= 1.0min\n",
      "[CV 3/3] END C=0.1, gamma=scale, kernel=sigmoid;, score=-116808406.994 total time= 1.1min\n",
      "[CV 3/3] END C=0.5, gamma=scale, kernel=linear;, score=-115620473.407 total time=257.9min\n",
      "[CV 2/3] END C=1, gamma=scale, kernel=sigmoid;, score=-203264063.408 total time=  42.2s\n",
      "[CV 2/3] END C=0.1, gamma=scale, kernel=poly;, score=-203387313.967 total time=  39.9s\n",
      "[CV 2/3] END C=0.1, gamma=scale, kernel=rbf;, score=-203354054.769 total time=  42.4s\n",
      "[CV 2/3] END C=0.1, gamma=scale, kernel=sigmoid;, score=-203363019.559 total time=  52.0s\n",
      "[CV 1/3] END C=0.5, gamma=scale, kernel=linear;, score=-117297350.138 total time=251.9min\n",
      "[CV 1/3] END C=1, gamma=scale, kernel=poly;, score=-118167097.272 total time=  49.8s\n",
      "[CV 2/3] END C=1, gamma=scale, kernel=poly;, score=-203397493.738 total time=  50.5s\n",
      "[CV 3/3] END C=1, gamma=scale, kernel=poly;, score=-116843526.187 total time=  50.6s\n",
      "[CV 1/3] END C=1, gamma=scale, kernel=rbf;, score=-118009039.744 total time= 1.1min\n",
      "[CV 2/3] END C=1, gamma=scale, kernel=rbf;, score=-203221444.266 total time=  57.3s\n",
      "[CV 3/3] END C=1, gamma=scale, kernel=rbf;, score=-116684048.404 total time= 1.1min\n",
      "[CV 1/3] END C=1, gamma=scale, kernel=sigmoid;, score=-118049137.285 total time= 1.1min\n",
      "[CV 3/3] END C=1, gamma=scale, kernel=sigmoid;, score=-116729794.402 total time= 1.1min\n",
      "[CV 1/3] END C=0.1, gamma=scale, kernel=linear;, score=-116701774.060 total time=111.3min\n",
      "[CV 3/3] END C=1, gamma=scale, kernel=linear;, score=-116742515.177 total time=272.1min\n",
      "[CV 3/3] END C=0.1, gamma=scale, kernel=linear;, score=-115454778.074 total time=68.5min\n",
      "[CV 1/3] END C=0.5, gamma=scale, kernel=poly;, score=-118170677.541 total time=  30.1s\n",
      "[CV 2/3] END C=0.5, gamma=scale, kernel=poly;, score=-203399418.124 total time=  29.0s\n",
      "[CV 3/3] END C=0.5, gamma=scale, kernel=poly;, score=-116833582.409 total time=  29.6s\n",
      "[CV 1/3] END C=0.5, gamma=scale, kernel=rbf;, score=-118064340.930 total time=  38.4s\n",
      "[CV 2/3] END C=0.5, gamma=scale, kernel=rbf;, score=-203280720.132 total time=  37.3s\n",
      "[CV 3/3] END C=0.5, gamma=scale, kernel=rbf;, score=-116732759.303 total time=  37.4s\n",
      "[CV 1/3] END C=0.5, gamma=scale, kernel=sigmoid;, score=-118104365.365 total time=  42.2s\n",
      "[CV 2/3] END C=0.5, gamma=scale, kernel=sigmoid;, score=-203315316.458 total time=  47.0s\n",
      "[CV 3/3] END C=0.5, gamma=scale, kernel=sigmoid;, score=-116765436.166 total time=  45.9s\n",
      "[CV 1/3] END C=1, gamma=scale, kernel=linear;, score=-116784458.802 total time=362.0min\n"
     ]
    }
   ],
   "source": [
    "svr_param_grid = {'C': [0.1,0.5,1,10], \n",
    "              'gamma': ['scale', 'auto'],\n",
    "              'kernel': ('linear', 'poly', 'rbf', 'sigmoid'),\n",
    "                 }\n",
    "svr_grid = GridSearchCV(\n",
    "    SVR(), svr_param_grid,\n",
    "    scoring='neg_mean_squared_error', \n",
    "    n_jobs=-1, \n",
    "    cv=5,\n",
    "    refit=True,\n",
    "    verbose=5)\n",
    "svr_grid.fit(X4,y)"
   ]
  },
  {
   "cell_type": "code",
   "execution_count": null,
   "metadata": {},
   "outputs": [],
   "source": [
    "pd.DataFrame(svr_grid.cv_results_).to_csv('SVR_gs.csv')\n",
    "pd.DataFrame(svr_grid.cv_results_)"
   ]
  },
  {
   "cell_type": "markdown",
   "metadata": {},
   "source": [
    "## Ridge and Lasso"
   ]
  },
  {
   "cell_type": "code",
   "execution_count": 31,
   "metadata": {
    "tags": []
   },
   "outputs": [
    {
     "name": "stdout",
     "output_type": "stream",
     "text": [
      "Fitting 5 folds for each of 99 candidates, totalling 495 fits\n"
     ]
    },
    {
     "data": {
      "text/html": [
       "<style>#sk-container-id-6 {color: black;background-color: white;}#sk-container-id-6 pre{padding: 0;}#sk-container-id-6 div.sk-toggleable {background-color: white;}#sk-container-id-6 label.sk-toggleable__label {cursor: pointer;display: block;width: 100%;margin-bottom: 0;padding: 0.3em;box-sizing: border-box;text-align: center;}#sk-container-id-6 label.sk-toggleable__label-arrow:before {content: \"▸\";float: left;margin-right: 0.25em;color: #696969;}#sk-container-id-6 label.sk-toggleable__label-arrow:hover:before {color: black;}#sk-container-id-6 div.sk-estimator:hover label.sk-toggleable__label-arrow:before {color: black;}#sk-container-id-6 div.sk-toggleable__content {max-height: 0;max-width: 0;overflow: hidden;text-align: left;background-color: #f0f8ff;}#sk-container-id-6 div.sk-toggleable__content pre {margin: 0.2em;color: black;border-radius: 0.25em;background-color: #f0f8ff;}#sk-container-id-6 input.sk-toggleable__control:checked~div.sk-toggleable__content {max-height: 200px;max-width: 100%;overflow: auto;}#sk-container-id-6 input.sk-toggleable__control:checked~label.sk-toggleable__label-arrow:before {content: \"▾\";}#sk-container-id-6 div.sk-estimator input.sk-toggleable__control:checked~label.sk-toggleable__label {background-color: #d4ebff;}#sk-container-id-6 div.sk-label input.sk-toggleable__control:checked~label.sk-toggleable__label {background-color: #d4ebff;}#sk-container-id-6 input.sk-hidden--visually {border: 0;clip: rect(1px 1px 1px 1px);clip: rect(1px, 1px, 1px, 1px);height: 1px;margin: -1px;overflow: hidden;padding: 0;position: absolute;width: 1px;}#sk-container-id-6 div.sk-estimator {font-family: monospace;background-color: #f0f8ff;border: 1px dotted black;border-radius: 0.25em;box-sizing: border-box;margin-bottom: 0.5em;}#sk-container-id-6 div.sk-estimator:hover {background-color: #d4ebff;}#sk-container-id-6 div.sk-parallel-item::after {content: \"\";width: 100%;border-bottom: 1px solid gray;flex-grow: 1;}#sk-container-id-6 div.sk-label:hover label.sk-toggleable__label {background-color: #d4ebff;}#sk-container-id-6 div.sk-serial::before {content: \"\";position: absolute;border-left: 1px solid gray;box-sizing: border-box;top: 0;bottom: 0;left: 50%;z-index: 0;}#sk-container-id-6 div.sk-serial {display: flex;flex-direction: column;align-items: center;background-color: white;padding-right: 0.2em;padding-left: 0.2em;position: relative;}#sk-container-id-6 div.sk-item {position: relative;z-index: 1;}#sk-container-id-6 div.sk-parallel {display: flex;align-items: stretch;justify-content: center;background-color: white;position: relative;}#sk-container-id-6 div.sk-item::before, #sk-container-id-6 div.sk-parallel-item::before {content: \"\";position: absolute;border-left: 1px solid gray;box-sizing: border-box;top: 0;bottom: 0;left: 50%;z-index: -1;}#sk-container-id-6 div.sk-parallel-item {display: flex;flex-direction: column;z-index: 1;position: relative;background-color: white;}#sk-container-id-6 div.sk-parallel-item:first-child::after {align-self: flex-end;width: 50%;}#sk-container-id-6 div.sk-parallel-item:last-child::after {align-self: flex-start;width: 50%;}#sk-container-id-6 div.sk-parallel-item:only-child::after {width: 0;}#sk-container-id-6 div.sk-dashed-wrapped {border: 1px dashed gray;margin: 0 0.4em 0.5em 0.4em;box-sizing: border-box;padding-bottom: 0.4em;background-color: white;}#sk-container-id-6 div.sk-label label {font-family: monospace;font-weight: bold;display: inline-block;line-height: 1.2em;}#sk-container-id-6 div.sk-label-container {text-align: center;}#sk-container-id-6 div.sk-container {/* jupyter's `normalize.less` sets `[hidden] { display: none; }` but bootstrap.min.css set `[hidden] { display: none !important; }` so we also need the `!important` here to be able to override the default hidden behavior on the sphinx rendered scikit-learn.org. See: https://github.com/scikit-learn/scikit-learn/issues/21755 */display: inline-block !important;position: relative;}#sk-container-id-6 div.sk-text-repr-fallback {display: none;}</style><div id=\"sk-container-id-6\" class=\"sk-top-container\"><div class=\"sk-text-repr-fallback\"><pre>GridSearchCV(cv=5, estimator=Lasso(), n_jobs=6,\n",
       "             param_grid={&#x27;alpha&#x27;: array([ 1,  2,  3,  4,  5,  6,  7,  8,  9, 10, 11, 12, 13, 14, 15, 16, 17,\n",
       "       18, 19, 20, 21, 22, 23, 24, 25, 26, 27, 28, 29, 30, 31, 32, 33, 34,\n",
       "       35, 36, 37, 38, 39, 40, 41, 42, 43, 44, 45, 46, 47, 48, 49, 50, 51,\n",
       "       52, 53, 54, 55, 56, 57, 58, 59, 60, 61, 62, 63, 64, 65, 66, 67, 68,\n",
       "       69, 70, 71, 72, 73, 74, 75, 76, 77, 78, 79, 80, 81, 82, 83, 84, 85,\n",
       "       86, 87, 88, 89, 90, 91, 92, 93, 94, 95, 96, 97, 98, 99])},\n",
       "             scoring=&#x27;r2&#x27;, verbose=1)</pre><b>In a Jupyter environment, please rerun this cell to show the HTML representation or trust the notebook. <br />On GitHub, the HTML representation is unable to render, please try loading this page with nbviewer.org.</b></div><div class=\"sk-container\" hidden><div class=\"sk-item sk-dashed-wrapped\"><div class=\"sk-label-container\"><div class=\"sk-label sk-toggleable\"><input class=\"sk-toggleable__control sk-hidden--visually\" id=\"sk-estimator-id-16\" type=\"checkbox\" ><label for=\"sk-estimator-id-16\" class=\"sk-toggleable__label sk-toggleable__label-arrow\">GridSearchCV</label><div class=\"sk-toggleable__content\"><pre>GridSearchCV(cv=5, estimator=Lasso(), n_jobs=6,\n",
       "             param_grid={&#x27;alpha&#x27;: array([ 1,  2,  3,  4,  5,  6,  7,  8,  9, 10, 11, 12, 13, 14, 15, 16, 17,\n",
       "       18, 19, 20, 21, 22, 23, 24, 25, 26, 27, 28, 29, 30, 31, 32, 33, 34,\n",
       "       35, 36, 37, 38, 39, 40, 41, 42, 43, 44, 45, 46, 47, 48, 49, 50, 51,\n",
       "       52, 53, 54, 55, 56, 57, 58, 59, 60, 61, 62, 63, 64, 65, 66, 67, 68,\n",
       "       69, 70, 71, 72, 73, 74, 75, 76, 77, 78, 79, 80, 81, 82, 83, 84, 85,\n",
       "       86, 87, 88, 89, 90, 91, 92, 93, 94, 95, 96, 97, 98, 99])},\n",
       "             scoring=&#x27;r2&#x27;, verbose=1)</pre></div></div></div><div class=\"sk-parallel\"><div class=\"sk-parallel-item\"><div class=\"sk-item\"><div class=\"sk-label-container\"><div class=\"sk-label sk-toggleable\"><input class=\"sk-toggleable__control sk-hidden--visually\" id=\"sk-estimator-id-17\" type=\"checkbox\" ><label for=\"sk-estimator-id-17\" class=\"sk-toggleable__label sk-toggleable__label-arrow\">estimator: Lasso</label><div class=\"sk-toggleable__content\"><pre>Lasso()</pre></div></div></div><div class=\"sk-serial\"><div class=\"sk-item\"><div class=\"sk-estimator sk-toggleable\"><input class=\"sk-toggleable__control sk-hidden--visually\" id=\"sk-estimator-id-18\" type=\"checkbox\" ><label for=\"sk-estimator-id-18\" class=\"sk-toggleable__label sk-toggleable__label-arrow\">Lasso</label><div class=\"sk-toggleable__content\"><pre>Lasso()</pre></div></div></div></div></div></div></div></div></div></div>"
      ],
      "text/plain": [
       "GridSearchCV(cv=5, estimator=Lasso(), n_jobs=6,\n",
       "             param_grid={'alpha': array([ 1,  2,  3,  4,  5,  6,  7,  8,  9, 10, 11, 12, 13, 14, 15, 16, 17,\n",
       "       18, 19, 20, 21, 22, 23, 24, 25, 26, 27, 28, 29, 30, 31, 32, 33, 34,\n",
       "       35, 36, 37, 38, 39, 40, 41, 42, 43, 44, 45, 46, 47, 48, 49, 50, 51,\n",
       "       52, 53, 54, 55, 56, 57, 58, 59, 60, 61, 62, 63, 64, 65, 66, 67, 68,\n",
       "       69, 70, 71, 72, 73, 74, 75, 76, 77, 78, 79, 80, 81, 82, 83, 84, 85,\n",
       "       86, 87, 88, 89, 90, 91, 92, 93, 94, 95, 96, 97, 98, 99])},\n",
       "             scoring='r2', verbose=1)"
      ]
     },
     "execution_count": 31,
     "metadata": {},
     "output_type": "execute_result"
    }
   ],
   "source": [
    "linear_norm_param_grid = {'alpha': np.arange(1, 100,1)}\n",
    "# linear_norm_param_grid = {'alpha': np.linspace(0.001, 100,10000)}\n",
    "lasso_grid = GridSearchCV(\n",
    "    Lasso(), linear_norm_param_grid,\n",
    "    scoring='r2', \n",
    "    n_jobs=6, \n",
    "    cv=5,\n",
    "    refit=True,\n",
    "    verbose=1)\n",
    "lasso_grid.fit(X5,y)"
   ]
  },
  {
   "cell_type": "code",
   "execution_count": 32,
   "metadata": {
    "tags": []
   },
   "outputs": [
    {
     "name": "stdout",
     "output_type": "stream",
     "text": [
      "Fitting 5 folds for each of 99 candidates, totalling 495 fits\n"
     ]
    },
    {
     "data": {
      "text/html": [
       "<style>#sk-container-id-7 {color: black;background-color: white;}#sk-container-id-7 pre{padding: 0;}#sk-container-id-7 div.sk-toggleable {background-color: white;}#sk-container-id-7 label.sk-toggleable__label {cursor: pointer;display: block;width: 100%;margin-bottom: 0;padding: 0.3em;box-sizing: border-box;text-align: center;}#sk-container-id-7 label.sk-toggleable__label-arrow:before {content: \"▸\";float: left;margin-right: 0.25em;color: #696969;}#sk-container-id-7 label.sk-toggleable__label-arrow:hover:before {color: black;}#sk-container-id-7 div.sk-estimator:hover label.sk-toggleable__label-arrow:before {color: black;}#sk-container-id-7 div.sk-toggleable__content {max-height: 0;max-width: 0;overflow: hidden;text-align: left;background-color: #f0f8ff;}#sk-container-id-7 div.sk-toggleable__content pre {margin: 0.2em;color: black;border-radius: 0.25em;background-color: #f0f8ff;}#sk-container-id-7 input.sk-toggleable__control:checked~div.sk-toggleable__content {max-height: 200px;max-width: 100%;overflow: auto;}#sk-container-id-7 input.sk-toggleable__control:checked~label.sk-toggleable__label-arrow:before {content: \"▾\";}#sk-container-id-7 div.sk-estimator input.sk-toggleable__control:checked~label.sk-toggleable__label {background-color: #d4ebff;}#sk-container-id-7 div.sk-label input.sk-toggleable__control:checked~label.sk-toggleable__label {background-color: #d4ebff;}#sk-container-id-7 input.sk-hidden--visually {border: 0;clip: rect(1px 1px 1px 1px);clip: rect(1px, 1px, 1px, 1px);height: 1px;margin: -1px;overflow: hidden;padding: 0;position: absolute;width: 1px;}#sk-container-id-7 div.sk-estimator {font-family: monospace;background-color: #f0f8ff;border: 1px dotted black;border-radius: 0.25em;box-sizing: border-box;margin-bottom: 0.5em;}#sk-container-id-7 div.sk-estimator:hover {background-color: #d4ebff;}#sk-container-id-7 div.sk-parallel-item::after {content: \"\";width: 100%;border-bottom: 1px solid gray;flex-grow: 1;}#sk-container-id-7 div.sk-label:hover label.sk-toggleable__label {background-color: #d4ebff;}#sk-container-id-7 div.sk-serial::before {content: \"\";position: absolute;border-left: 1px solid gray;box-sizing: border-box;top: 0;bottom: 0;left: 50%;z-index: 0;}#sk-container-id-7 div.sk-serial {display: flex;flex-direction: column;align-items: center;background-color: white;padding-right: 0.2em;padding-left: 0.2em;position: relative;}#sk-container-id-7 div.sk-item {position: relative;z-index: 1;}#sk-container-id-7 div.sk-parallel {display: flex;align-items: stretch;justify-content: center;background-color: white;position: relative;}#sk-container-id-7 div.sk-item::before, #sk-container-id-7 div.sk-parallel-item::before {content: \"\";position: absolute;border-left: 1px solid gray;box-sizing: border-box;top: 0;bottom: 0;left: 50%;z-index: -1;}#sk-container-id-7 div.sk-parallel-item {display: flex;flex-direction: column;z-index: 1;position: relative;background-color: white;}#sk-container-id-7 div.sk-parallel-item:first-child::after {align-self: flex-end;width: 50%;}#sk-container-id-7 div.sk-parallel-item:last-child::after {align-self: flex-start;width: 50%;}#sk-container-id-7 div.sk-parallel-item:only-child::after {width: 0;}#sk-container-id-7 div.sk-dashed-wrapped {border: 1px dashed gray;margin: 0 0.4em 0.5em 0.4em;box-sizing: border-box;padding-bottom: 0.4em;background-color: white;}#sk-container-id-7 div.sk-label label {font-family: monospace;font-weight: bold;display: inline-block;line-height: 1.2em;}#sk-container-id-7 div.sk-label-container {text-align: center;}#sk-container-id-7 div.sk-container {/* jupyter's `normalize.less` sets `[hidden] { display: none; }` but bootstrap.min.css set `[hidden] { display: none !important; }` so we also need the `!important` here to be able to override the default hidden behavior on the sphinx rendered scikit-learn.org. See: https://github.com/scikit-learn/scikit-learn/issues/21755 */display: inline-block !important;position: relative;}#sk-container-id-7 div.sk-text-repr-fallback {display: none;}</style><div id=\"sk-container-id-7\" class=\"sk-top-container\"><div class=\"sk-text-repr-fallback\"><pre>GridSearchCV(cv=5, estimator=Ridge(), n_jobs=6,\n",
       "             param_grid={&#x27;alpha&#x27;: array([ 1,  2,  3,  4,  5,  6,  7,  8,  9, 10, 11, 12, 13, 14, 15, 16, 17,\n",
       "       18, 19, 20, 21, 22, 23, 24, 25, 26, 27, 28, 29, 30, 31, 32, 33, 34,\n",
       "       35, 36, 37, 38, 39, 40, 41, 42, 43, 44, 45, 46, 47, 48, 49, 50, 51,\n",
       "       52, 53, 54, 55, 56, 57, 58, 59, 60, 61, 62, 63, 64, 65, 66, 67, 68,\n",
       "       69, 70, 71, 72, 73, 74, 75, 76, 77, 78, 79, 80, 81, 82, 83, 84, 85,\n",
       "       86, 87, 88, 89, 90, 91, 92, 93, 94, 95, 96, 97, 98, 99])},\n",
       "             scoring=&#x27;r2&#x27;, verbose=1)</pre><b>In a Jupyter environment, please rerun this cell to show the HTML representation or trust the notebook. <br />On GitHub, the HTML representation is unable to render, please try loading this page with nbviewer.org.</b></div><div class=\"sk-container\" hidden><div class=\"sk-item sk-dashed-wrapped\"><div class=\"sk-label-container\"><div class=\"sk-label sk-toggleable\"><input class=\"sk-toggleable__control sk-hidden--visually\" id=\"sk-estimator-id-19\" type=\"checkbox\" ><label for=\"sk-estimator-id-19\" class=\"sk-toggleable__label sk-toggleable__label-arrow\">GridSearchCV</label><div class=\"sk-toggleable__content\"><pre>GridSearchCV(cv=5, estimator=Ridge(), n_jobs=6,\n",
       "             param_grid={&#x27;alpha&#x27;: array([ 1,  2,  3,  4,  5,  6,  7,  8,  9, 10, 11, 12, 13, 14, 15, 16, 17,\n",
       "       18, 19, 20, 21, 22, 23, 24, 25, 26, 27, 28, 29, 30, 31, 32, 33, 34,\n",
       "       35, 36, 37, 38, 39, 40, 41, 42, 43, 44, 45, 46, 47, 48, 49, 50, 51,\n",
       "       52, 53, 54, 55, 56, 57, 58, 59, 60, 61, 62, 63, 64, 65, 66, 67, 68,\n",
       "       69, 70, 71, 72, 73, 74, 75, 76, 77, 78, 79, 80, 81, 82, 83, 84, 85,\n",
       "       86, 87, 88, 89, 90, 91, 92, 93, 94, 95, 96, 97, 98, 99])},\n",
       "             scoring=&#x27;r2&#x27;, verbose=1)</pre></div></div></div><div class=\"sk-parallel\"><div class=\"sk-parallel-item\"><div class=\"sk-item\"><div class=\"sk-label-container\"><div class=\"sk-label sk-toggleable\"><input class=\"sk-toggleable__control sk-hidden--visually\" id=\"sk-estimator-id-20\" type=\"checkbox\" ><label for=\"sk-estimator-id-20\" class=\"sk-toggleable__label sk-toggleable__label-arrow\">estimator: Ridge</label><div class=\"sk-toggleable__content\"><pre>Ridge()</pre></div></div></div><div class=\"sk-serial\"><div class=\"sk-item\"><div class=\"sk-estimator sk-toggleable\"><input class=\"sk-toggleable__control sk-hidden--visually\" id=\"sk-estimator-id-21\" type=\"checkbox\" ><label for=\"sk-estimator-id-21\" class=\"sk-toggleable__label sk-toggleable__label-arrow\">Ridge</label><div class=\"sk-toggleable__content\"><pre>Ridge()</pre></div></div></div></div></div></div></div></div></div></div>"
      ],
      "text/plain": [
       "GridSearchCV(cv=5, estimator=Ridge(), n_jobs=6,\n",
       "             param_grid={'alpha': array([ 1,  2,  3,  4,  5,  6,  7,  8,  9, 10, 11, 12, 13, 14, 15, 16, 17,\n",
       "       18, 19, 20, 21, 22, 23, 24, 25, 26, 27, 28, 29, 30, 31, 32, 33, 34,\n",
       "       35, 36, 37, 38, 39, 40, 41, 42, 43, 44, 45, 46, 47, 48, 49, 50, 51,\n",
       "       52, 53, 54, 55, 56, 57, 58, 59, 60, 61, 62, 63, 64, 65, 66, 67, 68,\n",
       "       69, 70, 71, 72, 73, 74, 75, 76, 77, 78, 79, 80, 81, 82, 83, 84, 85,\n",
       "       86, 87, 88, 89, 90, 91, 92, 93, 94, 95, 96, 97, 98, 99])},\n",
       "             scoring='r2', verbose=1)"
      ]
     },
     "execution_count": 32,
     "metadata": {},
     "output_type": "execute_result"
    }
   ],
   "source": [
    "linear_norm_param_grid = {'alpha': np.arange(1, 100,1)}\n",
    "# linear_norm_param_grid = {'alpha': np.linspace(0.01, 100,10000)}\n",
    "\n",
    "ridge_grid = GridSearchCV(\n",
    "    Ridge(), linear_norm_param_grid,\n",
    "    scoring='r2', \n",
    "    n_jobs=6, \n",
    "    cv=5,\n",
    "    refit=True,\n",
    "    verbose=1)\n",
    "ridge_grid.fit(X5,y)"
   ]
  },
  {
   "cell_type": "code",
   "execution_count": 33,
   "metadata": {
    "tags": []
   },
   "outputs": [
    {
     "name": "stdout",
     "output_type": "stream",
     "text": [
      "Model with rank: 1\n",
      "Mean validation score: 0.020 (std: 0.011)\n",
      "Parameters: {'alpha': 5}\n",
      "\n",
      "Model with rank: 2\n",
      "Mean validation score: 0.020 (std: 0.011)\n",
      "Parameters: {'alpha': 4}\n",
      "\n",
      "Model with rank: 3\n",
      "Mean validation score: 0.020 (std: 0.011)\n",
      "Parameters: {'alpha': 6}\n",
      "\n",
      "Model with rank: 4\n",
      "Mean validation score: 0.020 (std: 0.010)\n",
      "Parameters: {'alpha': 3}\n",
      "\n",
      "Model with rank: 5\n",
      "Mean validation score: 0.020 (std: 0.011)\n",
      "Parameters: {'alpha': 7}\n",
      "\n",
      "Model with rank: 6\n",
      "Mean validation score: 0.020 (std: 0.011)\n",
      "Parameters: {'alpha': 8}\n",
      "\n",
      "Model with rank: 7\n",
      "Mean validation score: 0.020 (std: 0.010)\n",
      "Parameters: {'alpha': 2}\n",
      "\n",
      "Model with rank: 8\n",
      "Mean validation score: 0.020 (std: 0.011)\n",
      "Parameters: {'alpha': 9}\n",
      "\n",
      "Model with rank: 9\n",
      "Mean validation score: 0.020 (std: 0.011)\n",
      "Parameters: {'alpha': 10}\n",
      "\n",
      "Model with rank: 10\n",
      "Mean validation score: 0.020 (std: 0.011)\n",
      "Parameters: {'alpha': 11}\n",
      "\n"
     ]
    }
   ],
   "source": [
    "# Utility function to report best scores (found online)\n",
    "def report(results, n_top=3):\n",
    "    for i in range(1, n_top + 1):\n",
    "        candidates = np.flatnonzero(results['rank_test_score'] == i)\n",
    "        for candidate in candidates:\n",
    "            print(\"Model with rank: {0}\".format(i))\n",
    "            print(\"Mean validation score: {0:.3f} (std: {1:.3f})\".format(\n",
    "                  results['mean_test_score'][candidate],\n",
    "                  results['std_test_score'][candidate]))\n",
    "            print(\"Parameters: {0}\".format(results['params'][candidate]))\n",
    "            print(\"\")\n",
    "report(lasso_grid.cv_results_,10)\n"
   ]
  },
  {
   "cell_type": "code",
   "execution_count": 34,
   "metadata": {
    "tags": []
   },
   "outputs": [],
   "source": [
    "pd.DataFrame(lasso_grid.cv_results_).to_csv('lasso_r2_gs.csv')\n"
   ]
  },
  {
   "cell_type": "code",
   "execution_count": 35,
   "metadata": {
    "tags": []
   },
   "outputs": [
    {
     "name": "stdout",
     "output_type": "stream",
     "text": [
      "Model with rank: 1\n",
      "Mean validation score: 0.020 (std: 0.011)\n",
      "Parameters: {'alpha': 72}\n",
      "\n",
      "Model with rank: 2\n",
      "Mean validation score: 0.020 (std: 0.011)\n",
      "Parameters: {'alpha': 73}\n",
      "\n",
      "Model with rank: 3\n",
      "Mean validation score: 0.020 (std: 0.011)\n",
      "Parameters: {'alpha': 71}\n",
      "\n",
      "Model with rank: 4\n",
      "Mean validation score: 0.020 (std: 0.011)\n",
      "Parameters: {'alpha': 74}\n",
      "\n",
      "Model with rank: 5\n",
      "Mean validation score: 0.020 (std: 0.011)\n",
      "Parameters: {'alpha': 70}\n",
      "\n",
      "Model with rank: 6\n",
      "Mean validation score: 0.020 (std: 0.011)\n",
      "Parameters: {'alpha': 75}\n",
      "\n",
      "Model with rank: 7\n",
      "Mean validation score: 0.020 (std: 0.011)\n",
      "Parameters: {'alpha': 69}\n",
      "\n",
      "Model with rank: 8\n",
      "Mean validation score: 0.020 (std: 0.011)\n",
      "Parameters: {'alpha': 76}\n",
      "\n",
      "Model with rank: 9\n",
      "Mean validation score: 0.020 (std: 0.011)\n",
      "Parameters: {'alpha': 68}\n",
      "\n",
      "Model with rank: 10\n",
      "Mean validation score: 0.020 (std: 0.011)\n",
      "Parameters: {'alpha': 77}\n",
      "\n"
     ]
    }
   ],
   "source": [
    "report(ridge_grid.cv_results_,10)"
   ]
  },
  {
   "cell_type": "code",
   "execution_count": 36,
   "metadata": {
    "tags": []
   },
   "outputs": [],
   "source": [
    "pd.DataFrame(ridge_grid.cv_results_).to_csv('ridge_r2_gs.csv')"
   ]
  },
  {
   "cell_type": "code",
   "execution_count": 40,
   "metadata": {
    "tags": []
   },
   "outputs": [
    {
     "data": {
      "text/html": [
       "<div>\n",
       "<style scoped>\n",
       "    .dataframe tbody tr th:only-of-type {\n",
       "        vertical-align: middle;\n",
       "    }\n",
       "\n",
       "    .dataframe tbody tr th {\n",
       "        vertical-align: top;\n",
       "    }\n",
       "\n",
       "    .dataframe thead th {\n",
       "        text-align: right;\n",
       "    }\n",
       "</style>\n",
       "<table border=\"1\" class=\"dataframe\">\n",
       "  <thead>\n",
       "    <tr style=\"text-align: right;\">\n",
       "      <th></th>\n",
       "      <th>Unnamed: 0</th>\n",
       "      <th>mean_fit_time</th>\n",
       "      <th>std_fit_time</th>\n",
       "      <th>mean_score_time</th>\n",
       "      <th>std_score_time</th>\n",
       "      <th>param_C</th>\n",
       "      <th>param_gamma</th>\n",
       "      <th>param_kernel</th>\n",
       "      <th>param_max_iter</th>\n",
       "      <th>params</th>\n",
       "      <th>split0_test_score</th>\n",
       "      <th>split1_test_score</th>\n",
       "      <th>split2_test_score</th>\n",
       "      <th>mean_test_score</th>\n",
       "      <th>std_test_score</th>\n",
       "      <th>rank_test_score</th>\n",
       "    </tr>\n",
       "  </thead>\n",
       "  <tbody>\n",
       "    <tr>\n",
       "      <th>10</th>\n",
       "      <td>10</td>\n",
       "      <td>46.931220</td>\n",
       "      <td>0.048192</td>\n",
       "      <td>25.160774</td>\n",
       "      <td>0.087487</td>\n",
       "      <td>1.0</td>\n",
       "      <td>scale</td>\n",
       "      <td>rbf</td>\n",
       "      <td>1000000</td>\n",
       "      <td>{'C': 1, 'gamma': 'scale', 'kernel': 'rbf', 'm...</td>\n",
       "      <td>-1.180090e+08</td>\n",
       "      <td>-2.032214e+08</td>\n",
       "      <td>-1.166840e+08</td>\n",
       "      <td>-1.459715e+08</td>\n",
       "      <td>4.048543e+07</td>\n",
       "      <td>1</td>\n",
       "    </tr>\n",
       "    <tr>\n",
       "      <th>11</th>\n",
       "      <td>11</td>\n",
       "      <td>54.427852</td>\n",
       "      <td>0.562876</td>\n",
       "      <td>20.222842</td>\n",
       "      <td>0.091672</td>\n",
       "      <td>1.0</td>\n",
       "      <td>scale</td>\n",
       "      <td>sigmoid</td>\n",
       "      <td>1000000</td>\n",
       "      <td>{'C': 1, 'gamma': 'scale', 'kernel': 'sigmoid'...</td>\n",
       "      <td>-1.180491e+08</td>\n",
       "      <td>-2.032641e+08</td>\n",
       "      <td>-1.167298e+08</td>\n",
       "      <td>-1.460143e+08</td>\n",
       "      <td>4.048526e+07</td>\n",
       "      <td>2</td>\n",
       "    </tr>\n",
       "    <tr>\n",
       "      <th>6</th>\n",
       "      <td>6</td>\n",
       "      <td>47.909320</td>\n",
       "      <td>1.000267</td>\n",
       "      <td>26.840064</td>\n",
       "      <td>0.907846</td>\n",
       "      <td>0.5</td>\n",
       "      <td>scale</td>\n",
       "      <td>rbf</td>\n",
       "      <td>1000000</td>\n",
       "      <td>{'C': 0.5, 'gamma': 'scale', 'kernel': 'rbf', ...</td>\n",
       "      <td>-1.180643e+08</td>\n",
       "      <td>-2.032807e+08</td>\n",
       "      <td>-1.167328e+08</td>\n",
       "      <td>-1.460259e+08</td>\n",
       "      <td>4.048889e+07</td>\n",
       "      <td>3</td>\n",
       "    </tr>\n",
       "    <tr>\n",
       "      <th>7</th>\n",
       "      <td>7</td>\n",
       "      <td>55.848101</td>\n",
       "      <td>0.320187</td>\n",
       "      <td>20.378939</td>\n",
       "      <td>0.775030</td>\n",
       "      <td>0.5</td>\n",
       "      <td>scale</td>\n",
       "      <td>sigmoid</td>\n",
       "      <td>1000000</td>\n",
       "      <td>{'C': 0.5, 'gamma': 'scale', 'kernel': 'sigmoi...</td>\n",
       "      <td>-1.181044e+08</td>\n",
       "      <td>-2.033153e+08</td>\n",
       "      <td>-1.167654e+08</td>\n",
       "      <td>-1.460617e+08</td>\n",
       "      <td>4.048811e+07</td>\n",
       "      <td>4</td>\n",
       "    </tr>\n",
       "    <tr>\n",
       "      <th>2</th>\n",
       "      <td>2</td>\n",
       "      <td>50.079177</td>\n",
       "      <td>1.384460</td>\n",
       "      <td>26.274877</td>\n",
       "      <td>0.298253</td>\n",
       "      <td>0.1</td>\n",
       "      <td>scale</td>\n",
       "      <td>rbf</td>\n",
       "      <td>1000000</td>\n",
       "      <td>{'C': 0.1, 'gamma': 'scale', 'kernel': 'rbf', ...</td>\n",
       "      <td>-1.181469e+08</td>\n",
       "      <td>-2.033541e+08</td>\n",
       "      <td>-1.168005e+08</td>\n",
       "      <td>-1.461005e+08</td>\n",
       "      <td>4.048812e+07</td>\n",
       "      <td>5</td>\n",
       "    </tr>\n",
       "  </tbody>\n",
       "</table>\n",
       "</div>"
      ],
      "text/plain": [
       "    Unnamed: 0  mean_fit_time  std_fit_time  mean_score_time  std_score_time   \n",
       "10          10      46.931220      0.048192        25.160774        0.087487  \\\n",
       "11          11      54.427852      0.562876        20.222842        0.091672   \n",
       "6            6      47.909320      1.000267        26.840064        0.907846   \n",
       "7            7      55.848101      0.320187        20.378939        0.775030   \n",
       "2            2      50.079177      1.384460        26.274877        0.298253   \n",
       "\n",
       "    param_C param_gamma param_kernel  param_max_iter   \n",
       "10      1.0       scale          rbf         1000000  \\\n",
       "11      1.0       scale      sigmoid         1000000   \n",
       "6       0.5       scale          rbf         1000000   \n",
       "7       0.5       scale      sigmoid         1000000   \n",
       "2       0.1       scale          rbf         1000000   \n",
       "\n",
       "                                               params  split0_test_score   \n",
       "10  {'C': 1, 'gamma': 'scale', 'kernel': 'rbf', 'm...      -1.180090e+08  \\\n",
       "11  {'C': 1, 'gamma': 'scale', 'kernel': 'sigmoid'...      -1.180491e+08   \n",
       "6   {'C': 0.5, 'gamma': 'scale', 'kernel': 'rbf', ...      -1.180643e+08   \n",
       "7   {'C': 0.5, 'gamma': 'scale', 'kernel': 'sigmoi...      -1.181044e+08   \n",
       "2   {'C': 0.1, 'gamma': 'scale', 'kernel': 'rbf', ...      -1.181469e+08   \n",
       "\n",
       "    split1_test_score  split2_test_score  mean_test_score  std_test_score   \n",
       "10      -2.032214e+08      -1.166840e+08    -1.459715e+08    4.048543e+07  \\\n",
       "11      -2.032641e+08      -1.167298e+08    -1.460143e+08    4.048526e+07   \n",
       "6       -2.032807e+08      -1.167328e+08    -1.460259e+08    4.048889e+07   \n",
       "7       -2.033153e+08      -1.167654e+08    -1.460617e+08    4.048811e+07   \n",
       "2       -2.033541e+08      -1.168005e+08    -1.461005e+08    4.048812e+07   \n",
       "\n",
       "    rank_test_score  \n",
       "10                1  \n",
       "11                2  \n",
       "6                 3  \n",
       "7                 4  \n",
       "2                 5  "
      ]
     },
     "execution_count": 40,
     "metadata": {},
     "output_type": "execute_result"
    }
   ],
   "source": [
    "SVR_gs = pd.read_csv('content/SVR_gs.csv')\n",
    "SVR_gs.sort_values(by='rank_test_score').head()"
   ]
  },
  {
   "cell_type": "code",
   "execution_count": 42,
   "metadata": {
    "tags": []
   },
   "outputs": [
    {
     "data": {
      "text/plain": [
       "array([\"{'C': 1, 'gamma': 'scale', 'kernel': 'rbf', 'max_iter': 1000000}\"],\n",
       "      dtype=object)"
      ]
     },
     "execution_count": 42,
     "metadata": {},
     "output_type": "execute_result"
    }
   ],
   "source": [
    "SVR_gs[SVR_gs['rank_test_score']==1].params.values"
   ]
  },
  {
   "cell_type": "markdown",
   "metadata": {},
   "source": [
    "# Ensemble"
   ]
  },
  {
   "cell_type": "code",
   "execution_count": 14,
   "metadata": {
    "tags": []
   },
   "outputs": [
    {
     "data": {
      "text/html": [
       "<div>\n",
       "<style scoped>\n",
       "    .dataframe tbody tr th:only-of-type {\n",
       "        vertical-align: middle;\n",
       "    }\n",
       "\n",
       "    .dataframe tbody tr th {\n",
       "        vertical-align: top;\n",
       "    }\n",
       "\n",
       "    .dataframe thead th {\n",
       "        text-align: right;\n",
       "    }\n",
       "</style>\n",
       "<table border=\"1\" class=\"dataframe\">\n",
       "  <thead>\n",
       "    <tr style=\"text-align: right;\">\n",
       "      <th></th>\n",
       "      <th>Id</th>\n",
       "      <th>Predicted</th>\n",
       "    </tr>\n",
       "  </thead>\n",
       "  <tbody>\n",
       "    <tr>\n",
       "      <th>0</th>\n",
       "      <td>31715</td>\n",
       "      <td>3775.254029</td>\n",
       "    </tr>\n",
       "    <tr>\n",
       "      <th>1</th>\n",
       "      <td>31716</td>\n",
       "      <td>3366.962878</td>\n",
       "    </tr>\n",
       "    <tr>\n",
       "      <th>2</th>\n",
       "      <td>31717</td>\n",
       "      <td>2684.605714</td>\n",
       "    </tr>\n",
       "    <tr>\n",
       "      <th>3</th>\n",
       "      <td>31718</td>\n",
       "      <td>2580.223241</td>\n",
       "    </tr>\n",
       "    <tr>\n",
       "      <th>4</th>\n",
       "      <td>31719</td>\n",
       "      <td>2701.279425</td>\n",
       "    </tr>\n",
       "  </tbody>\n",
       "</table>\n",
       "</div>"
      ],
      "text/plain": [
       "      Id    Predicted\n",
       "0  31715  3775.254029\n",
       "1  31716  3366.962878\n",
       "2  31717  2684.605714\n",
       "3  31718  2580.223241\n",
       "4  31719  2701.279425"
      ]
     },
     "execution_count": 14,
     "metadata": {},
     "output_type": "execute_result"
    }
   ],
   "source": [
    "lasso15 = pd.read_csv('lasso15_vanilla.csv')\n",
    "lasso15_sc = pd.read_csv('lasso15sc.csv')\n",
    "ridge_gs = pd.read_csv('ridge15_GS.csv') #alpha= 50.51\n",
    "lasso10 = pd.read_csv('lasso10_vanilla.csv')\n",
    "\n",
    "mr15.head()"
   ]
  },
  {
   "cell_type": "code",
   "execution_count": 4,
   "metadata": {},
   "outputs": [
    {
     "data": {
      "text/html": [
       "<div>\n",
       "<style scoped>\n",
       "    .dataframe tbody tr th:only-of-type {\n",
       "        vertical-align: middle;\n",
       "    }\n",
       "\n",
       "    .dataframe tbody tr th {\n",
       "        vertical-align: top;\n",
       "    }\n",
       "\n",
       "    .dataframe thead th {\n",
       "        text-align: right;\n",
       "    }\n",
       "</style>\n",
       "<table border=\"1\" class=\"dataframe\">\n",
       "  <thead>\n",
       "    <tr style=\"text-align: right;\">\n",
       "      <th></th>\n",
       "      <th>Id</th>\n",
       "      <th>Predicted</th>\n",
       "    </tr>\n",
       "  </thead>\n",
       "  <tbody>\n",
       "    <tr>\n",
       "      <th>0</th>\n",
       "      <td>31715</td>\n",
       "      <td>3660.674578</td>\n",
       "    </tr>\n",
       "    <tr>\n",
       "      <th>1</th>\n",
       "      <td>31716</td>\n",
       "      <td>3175.201508</td>\n",
       "    </tr>\n",
       "    <tr>\n",
       "      <th>2</th>\n",
       "      <td>31717</td>\n",
       "      <td>2691.657294</td>\n",
       "    </tr>\n",
       "    <tr>\n",
       "      <th>3</th>\n",
       "      <td>31718</td>\n",
       "      <td>2506.702556</td>\n",
       "    </tr>\n",
       "    <tr>\n",
       "      <th>4</th>\n",
       "      <td>31719</td>\n",
       "      <td>2725.022952</td>\n",
       "    </tr>\n",
       "    <tr>\n",
       "      <th>...</th>\n",
       "      <td>...</td>\n",
       "      <td>...</td>\n",
       "    </tr>\n",
       "    <tr>\n",
       "      <th>7912</th>\n",
       "      <td>39639</td>\n",
       "      <td>3244.389738</td>\n",
       "    </tr>\n",
       "    <tr>\n",
       "      <th>7913</th>\n",
       "      <td>39640</td>\n",
       "      <td>4328.682702</td>\n",
       "    </tr>\n",
       "    <tr>\n",
       "      <th>7914</th>\n",
       "      <td>39641</td>\n",
       "      <td>2561.306272</td>\n",
       "    </tr>\n",
       "    <tr>\n",
       "      <th>7915</th>\n",
       "      <td>39642</td>\n",
       "      <td>2834.738746</td>\n",
       "    </tr>\n",
       "    <tr>\n",
       "      <th>7916</th>\n",
       "      <td>39643</td>\n",
       "      <td>1643.721951</td>\n",
       "    </tr>\n",
       "  </tbody>\n",
       "</table>\n",
       "<p>7917 rows × 2 columns</p>\n",
       "</div>"
      ],
      "text/plain": [
       "         Id    Predicted\n",
       "0     31715  3660.674578\n",
       "1     31716  3175.201508\n",
       "2     31717  2691.657294\n",
       "3     31718  2506.702556\n",
       "4     31719  2725.022952\n",
       "...     ...          ...\n",
       "7912  39639  3244.389738\n",
       "7913  39640  4328.682702\n",
       "7914  39641  2561.306272\n",
       "7915  39642  2834.738746\n",
       "7916  39643  1643.721951\n",
       "\n",
       "[7917 rows x 2 columns]"
      ]
     },
     "execution_count": 4,
     "metadata": {},
     "output_type": "execute_result"
    }
   ],
   "source": [
    "ensemble = pd.DataFrame()\n",
    "ensemble['Id'] = ridge15['Id']\n",
    "ensemble['Predicted'] = [(i+j)/2 for i,j in zip(lasso15_sc.Predicted,lasso15.Predicted)]\n",
    "ensemble"
   ]
  },
  {
   "cell_type": "code",
   "execution_count": 5,
   "metadata": {},
   "outputs": [],
   "source": [
    "ensemble.to_csv('ensemble_top2.csv', index=False)"
   ]
  },
  {
   "cell_type": "code",
   "execution_count": 8,
   "metadata": {
    "tags": []
   },
   "outputs": [
    {
     "data": {
      "text/html": [
       "<div>\n",
       "<style scoped>\n",
       "    .dataframe tbody tr th:only-of-type {\n",
       "        vertical-align: middle;\n",
       "    }\n",
       "\n",
       "    .dataframe tbody tr th {\n",
       "        vertical-align: top;\n",
       "    }\n",
       "\n",
       "    .dataframe thead th {\n",
       "        text-align: right;\n",
       "    }\n",
       "</style>\n",
       "<table border=\"1\" class=\"dataframe\">\n",
       "  <thead>\n",
       "    <tr style=\"text-align: right;\">\n",
       "      <th></th>\n",
       "      <th>Id</th>\n",
       "      <th>Predicted</th>\n",
       "    </tr>\n",
       "  </thead>\n",
       "  <tbody>\n",
       "    <tr>\n",
       "      <th>0</th>\n",
       "      <td>31715</td>\n",
       "      <td>3662.946613</td>\n",
       "    </tr>\n",
       "    <tr>\n",
       "      <th>1</th>\n",
       "      <td>31716</td>\n",
       "      <td>3211.380155</td>\n",
       "    </tr>\n",
       "    <tr>\n",
       "      <th>2</th>\n",
       "      <td>31717</td>\n",
       "      <td>2688.275255</td>\n",
       "    </tr>\n",
       "    <tr>\n",
       "      <th>3</th>\n",
       "      <td>31718</td>\n",
       "      <td>2520.675874</td>\n",
       "    </tr>\n",
       "    <tr>\n",
       "      <th>4</th>\n",
       "      <td>31719</td>\n",
       "      <td>2736.288199</td>\n",
       "    </tr>\n",
       "    <tr>\n",
       "      <th>...</th>\n",
       "      <td>...</td>\n",
       "      <td>...</td>\n",
       "    </tr>\n",
       "    <tr>\n",
       "      <th>7912</th>\n",
       "      <td>39639</td>\n",
       "      <td>3238.656367</td>\n",
       "    </tr>\n",
       "    <tr>\n",
       "      <th>7913</th>\n",
       "      <td>39640</td>\n",
       "      <td>4358.021237</td>\n",
       "    </tr>\n",
       "    <tr>\n",
       "      <th>7914</th>\n",
       "      <td>39641</td>\n",
       "      <td>2589.989688</td>\n",
       "    </tr>\n",
       "    <tr>\n",
       "      <th>7915</th>\n",
       "      <td>39642</td>\n",
       "      <td>2844.524589</td>\n",
       "    </tr>\n",
       "    <tr>\n",
       "      <th>7916</th>\n",
       "      <td>39643</td>\n",
       "      <td>1643.823536</td>\n",
       "    </tr>\n",
       "  </tbody>\n",
       "</table>\n",
       "<p>7917 rows × 2 columns</p>\n",
       "</div>"
      ],
      "text/plain": [
       "         Id    Predicted\n",
       "0     31715  3662.946613\n",
       "1     31716  3211.380155\n",
       "2     31717  2688.275255\n",
       "3     31718  2520.675874\n",
       "4     31719  2736.288199\n",
       "...     ...          ...\n",
       "7912  39639  3238.656367\n",
       "7913  39640  4358.021237\n",
       "7914  39641  2589.989688\n",
       "7915  39642  2844.524589\n",
       "7916  39643  1643.823536\n",
       "\n",
       "[7917 rows x 2 columns]"
      ]
     },
     "execution_count": 8,
     "metadata": {},
     "output_type": "execute_result"
    }
   ],
   "source": [
    "ensemble3 = pd.DataFrame()\n",
    "ensemble3['Id'] = lasso15['Id']\n",
    "ensemble3['Predicted'] = [(i+j) for i,j in zip(lasso15_sc.Predicted,lasso15.Predicted)]\n",
    "ensemble3['Predicted'] = (ensemble3['Predicted']+ridge_gs.Predicted)/3\n",
    "ensemble3"
   ]
  },
  {
   "cell_type": "code",
   "execution_count": 9,
   "metadata": {
    "tags": []
   },
   "outputs": [],
   "source": [
    "ensemble3.to_csv('ensemble_top3.csv', index=False)"
   ]
  },
  {
   "cell_type": "code",
   "execution_count": 18,
   "metadata": {
    "tags": []
   },
   "outputs": [
    {
     "data": {
      "text/html": [
       "<div>\n",
       "<style scoped>\n",
       "    .dataframe tbody tr th:only-of-type {\n",
       "        vertical-align: middle;\n",
       "    }\n",
       "\n",
       "    .dataframe tbody tr th {\n",
       "        vertical-align: top;\n",
       "    }\n",
       "\n",
       "    .dataframe thead th {\n",
       "        text-align: right;\n",
       "    }\n",
       "</style>\n",
       "<table border=\"1\" class=\"dataframe\">\n",
       "  <thead>\n",
       "    <tr style=\"text-align: right;\">\n",
       "      <th></th>\n",
       "      <th>Id</th>\n",
       "      <th>Predicted</th>\n",
       "    </tr>\n",
       "  </thead>\n",
       "  <tbody>\n",
       "    <tr>\n",
       "      <th>0</th>\n",
       "      <td>31715</td>\n",
       "      <td>2725.025422</td>\n",
       "    </tr>\n",
       "    <tr>\n",
       "      <th>1</th>\n",
       "      <td>31716</td>\n",
       "      <td>2357.722297</td>\n",
       "    </tr>\n",
       "    <tr>\n",
       "      <th>2</th>\n",
       "      <td>31717</td>\n",
       "      <td>2071.261092</td>\n",
       "    </tr>\n",
       "    <tr>\n",
       "      <th>3</th>\n",
       "      <td>31718</td>\n",
       "      <td>1979.416901</td>\n",
       "    </tr>\n",
       "    <tr>\n",
       "      <th>4</th>\n",
       "      <td>31719</td>\n",
       "      <td>2011.991637</td>\n",
       "    </tr>\n",
       "    <tr>\n",
       "      <th>...</th>\n",
       "      <td>...</td>\n",
       "      <td>...</td>\n",
       "    </tr>\n",
       "    <tr>\n",
       "      <th>7912</th>\n",
       "      <td>39639</td>\n",
       "      <td>2526.819202</td>\n",
       "    </tr>\n",
       "    <tr>\n",
       "      <th>7913</th>\n",
       "      <td>39640</td>\n",
       "      <td>3521.840932</td>\n",
       "    </tr>\n",
       "    <tr>\n",
       "      <th>7914</th>\n",
       "      <td>39641</td>\n",
       "      <td>1756.004536</td>\n",
       "    </tr>\n",
       "    <tr>\n",
       "      <th>7915</th>\n",
       "      <td>39642</td>\n",
       "      <td>2282.035864</td>\n",
       "    </tr>\n",
       "    <tr>\n",
       "      <th>7916</th>\n",
       "      <td>39643</td>\n",
       "      <td>1267.886482</td>\n",
       "    </tr>\n",
       "  </tbody>\n",
       "</table>\n",
       "<p>7917 rows × 2 columns</p>\n",
       "</div>"
      ],
      "text/plain": [
       "         Id    Predicted\n",
       "0     31715  2725.025422\n",
       "1     31716  2357.722297\n",
       "2     31717  2071.261092\n",
       "3     31718  1979.416901\n",
       "4     31719  2011.991637\n",
       "...     ...          ...\n",
       "7912  39639  2526.819202\n",
       "7913  39640  3521.840932\n",
       "7914  39641  1756.004536\n",
       "7915  39642  2282.035864\n",
       "7916  39643  1267.886482\n",
       "\n",
       "[7917 rows x 2 columns]"
      ]
     },
     "execution_count": 18,
     "metadata": {},
     "output_type": "execute_result"
    }
   ],
   "source": [
    "ensemble4 = pd.DataFrame()\n",
    "ensemble4['Id'] = lasso15['Id']\n",
    "ensemble4['Predicted'] = [(i+j) for i,j in zip(lasso15_sc.Predicted,lasso15.Predicted)]\n",
    "ensemble4['Predicted'] = (ensemble3['Predicted']+ridge_gs.Predicted+lasso10.Predicted)/4\n",
    "ensemble4"
   ]
  },
  {
   "cell_type": "code",
   "execution_count": null,
   "metadata": {
    "tags": []
   },
   "outputs": [],
   "source": [
    "ensemble4.to_csv('ensemble_top4.csv', index=False)"
   ]
  },
  {
   "cell_type": "markdown",
   "metadata": {
    "tags": []
   },
   "source": [
    "# Best score submitted\n",
    "the best score was reached with the top 2 ensamble, renamed as \"Submission\" to prevent it to be overwritten"
   ]
  },
  {
   "cell_type": "code",
   "execution_count": 5,
   "metadata": {
    "tags": []
   },
   "outputs": [
    {
     "data": {
      "text/html": [
       "<div>\n",
       "<style scoped>\n",
       "    .dataframe tbody tr th:only-of-type {\n",
       "        vertical-align: middle;\n",
       "    }\n",
       "\n",
       "    .dataframe tbody tr th {\n",
       "        vertical-align: top;\n",
       "    }\n",
       "\n",
       "    .dataframe thead th {\n",
       "        text-align: right;\n",
       "    }\n",
       "</style>\n",
       "<table border=\"1\" class=\"dataframe\">\n",
       "  <thead>\n",
       "    <tr style=\"text-align: right;\">\n",
       "      <th></th>\n",
       "      <th>Id</th>\n",
       "      <th>Predicted</th>\n",
       "    </tr>\n",
       "  </thead>\n",
       "  <tbody>\n",
       "    <tr>\n",
       "      <th>0</th>\n",
       "      <td>31715</td>\n",
       "      <td>3660.674578</td>\n",
       "    </tr>\n",
       "    <tr>\n",
       "      <th>1</th>\n",
       "      <td>31716</td>\n",
       "      <td>3175.201508</td>\n",
       "    </tr>\n",
       "    <tr>\n",
       "      <th>2</th>\n",
       "      <td>31717</td>\n",
       "      <td>2691.657294</td>\n",
       "    </tr>\n",
       "    <tr>\n",
       "      <th>3</th>\n",
       "      <td>31718</td>\n",
       "      <td>2506.702556</td>\n",
       "    </tr>\n",
       "    <tr>\n",
       "      <th>4</th>\n",
       "      <td>31719</td>\n",
       "      <td>2725.022952</td>\n",
       "    </tr>\n",
       "    <tr>\n",
       "      <th>...</th>\n",
       "      <td>...</td>\n",
       "      <td>...</td>\n",
       "    </tr>\n",
       "    <tr>\n",
       "      <th>7912</th>\n",
       "      <td>39639</td>\n",
       "      <td>3244.389738</td>\n",
       "    </tr>\n",
       "    <tr>\n",
       "      <th>7913</th>\n",
       "      <td>39640</td>\n",
       "      <td>4328.682702</td>\n",
       "    </tr>\n",
       "    <tr>\n",
       "      <th>7914</th>\n",
       "      <td>39641</td>\n",
       "      <td>2561.306272</td>\n",
       "    </tr>\n",
       "    <tr>\n",
       "      <th>7915</th>\n",
       "      <td>39642</td>\n",
       "      <td>2834.738746</td>\n",
       "    </tr>\n",
       "    <tr>\n",
       "      <th>7916</th>\n",
       "      <td>39643</td>\n",
       "      <td>1643.721951</td>\n",
       "    </tr>\n",
       "  </tbody>\n",
       "</table>\n",
       "<p>7917 rows × 2 columns</p>\n",
       "</div>"
      ],
      "text/plain": [
       "         Id    Predicted\n",
       "0     31715  3660.674578\n",
       "1     31716  3175.201508\n",
       "2     31717  2691.657294\n",
       "3     31718  2506.702556\n",
       "4     31719  2725.022952\n",
       "...     ...          ...\n",
       "7912  39639  3244.389738\n",
       "7913  39640  4328.682702\n",
       "7914  39641  2561.306272\n",
       "7915  39642  2834.738746\n",
       "7916  39643  1643.721951\n",
       "\n",
       "[7917 rows x 2 columns]"
      ]
     },
     "execution_count": 5,
     "metadata": {},
     "output_type": "execute_result"
    }
   ],
   "source": [
    "pd.read_csv('Submission.csv')"
   ]
  }
 ],
 "metadata": {
  "colab": {
   "provenance": []
  },
  "kernelspec": {
   "display_name": "Python 3 (ipykernel)",
   "language": "python",
   "name": "python3"
  },
  "language_info": {
   "codemirror_mode": {
    "name": "ipython",
    "version": 3
   },
   "file_extension": ".py",
   "mimetype": "text/x-python",
   "name": "python",
   "nbconvert_exporter": "python",
   "pygments_lexer": "ipython3",
   "version": "3.10.9"
  },
  "widgets": {
   "application/vnd.jupyter.widget-state+json": {
    "state": {},
    "version_major": 2,
    "version_minor": 0
   }
  }
 },
 "nbformat": 4,
 "nbformat_minor": 4
}
